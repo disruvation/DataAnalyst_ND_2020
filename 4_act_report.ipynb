{
 "cells": [
  {
   "cell_type": "markdown",
   "metadata": {},
   "source": [
    "# Insights  Report on WeRateDogs Twitter Data"
   ]
  },
  {
   "cell_type": "markdown",
   "metadata": {},
   "source": [
    "## Introduction\n",
    "Within this report I present the insights of analyzing the WeRateDogs Twitter data. \n",
    "After importing the necessary packages and read the cleaned csv file \"twitter_archive_master.csv\", the insights will be presented. "
   ]
  },
  {
   "cell_type": "code",
   "execution_count": 1,
   "metadata": {},
   "outputs": [],
   "source": [
    "# import necessary packages\n",
    "import pandas as pd\n",
    "import numpy as np\n",
    "import matplotlib.pyplot as plt\n",
    "%matplotlib inline\n",
    "import seaborn as sns"
   ]
  },
  {
   "cell_type": "code",
   "execution_count": 2,
   "metadata": {},
   "outputs": [],
   "source": [
    "# read csv file\n",
    "df_we_rate_dogs = pd.read_csv('twitter_archive_master.csv');"
   ]
  },
  {
   "cell_type": "markdown",
   "metadata": {},
   "source": [
    "<a id='analyzing_dog_stages'></a>\n",
    "## Analyzing dog stages\n",
    "Pupper is the most common dog stage. 66% of the dog stages are pupper, followed by doggo with 20%. "
   ]
  },
  {
   "cell_type": "code",
   "execution_count": 3,
   "metadata": {},
   "outputs": [
    {
     "data": {
      "image/png": "[encoded data removed]",
      "text/plain": [
       "<matplotlib.figure.Figure at 0x7efe09602550>"
      ]
     },
     "metadata": {},
     "output_type": "display_data"
    }
   ],
   "source": [
    "# pie plot dog stages without \"None\"\n",
    "# Pie chart, where the slices will be ordered and plotted counter-clockwise:\n",
    "labels = 'pupper', 'doggo', 'puppo', 'floofer'\n",
    "sizes = df_we_rate_dogs.query('dog_stage != \"None\"').dog_stage.value_counts()\n",
    "explode = (0.1, 0, 0, 0)  # only \"explode\" the 2nd slice (i.e. 'Hogs')\n",
    "\n",
    "fig1, ax1 = plt.subplots()\n",
    "ax1.pie(sizes, explode=explode, labels=labels, autopct='%1.1f%%',\n",
    "        shadow=True, startangle=90)\n",
    "ax1.axis('equal')  # Equal aspect ratio ensures that pie is drawn as a circle.\n",
    "plt.title('Dog stage distribution')\n",
    "plt.show()"
   ]
  },
  {
   "cell_type": "markdown",
   "metadata": {},
   "source": [
    "<a id='analyzing_dog_breed'></a>\n",
    "## Analyzing the most predicted dog breed\n",
    "Based on the image prediction, the most popular dog is the Golden Retriever. "
   ]
  },
  {
   "cell_type": "code",
   "execution_count": 4,
   "metadata": {},
   "outputs": [
    {
     "data": {
      "text/plain": [
       "golden_retriever             94\n",
       "Labrador_retriever           64\n",
       "Pembroke                     64\n",
       "Chihuahua                    59\n",
       "pug                          40\n",
       "chow                         32\n",
       "toy_poodle                   27\n",
       "Pomeranian                   26\n",
       "Samoyed                      22\n",
       "malamute                     22\n",
       "French_bulldog               21\n",
       "Siberian_husky               19\n",
       "cocker_spaniel               19\n",
       "Chesapeake_Bay_retriever     17\n",
       "miniature_pinscher           16\n",
       "Staffordshire_bullterrier    15\n",
       "Shih-Tzu                     15\n",
       "seat_belt                    15\n",
       "German_shepherd              14\n",
       "Shetland_sheepdog            14\n",
       "Cardigan                     14\n",
       "beagle                       13\n",
       "Eskimo_dog                   12\n",
       "Old_English_sheepdog         11\n",
       "Italian_greyhound            11\n",
       "Pekinese                     11\n",
       "Border_collie                10\n",
       "basset                       10\n",
       "collie                       10\n",
       "vizsla                       10\n",
       "                             ..\n",
       "shower_curtain                1\n",
       "street_sign                   1\n",
       "stone_wall                    1\n",
       "groenendael                   1\n",
       "polecat                       1\n",
       "toilet_tissue                 1\n",
       "ram                           1\n",
       "clumber                       1\n",
       "space_heater                  1\n",
       "hyena                         1\n",
       "koala                         1\n",
       "Appenzeller                   1\n",
       "ox                            1\n",
       "cup                           1\n",
       "window_shade                  1\n",
       "rapeseed                      1\n",
       "carousel                      1\n",
       "hotdog                        1\n",
       "bubble                        1\n",
       "piggy_bank                    1\n",
       "remote_control                1\n",
       "Egyptian_cat                  1\n",
       "earthstar                     1\n",
       "cowboy_hat                    1\n",
       "hog                           1\n",
       "carton                        1\n",
       "cowboy_boot                   1\n",
       "dogsled                       1\n",
       "ski_mask                      1\n",
       "briard                        1\n",
       "Name: pred1_dog_breed, Length: 189, dtype: int64"
      ]
     },
     "execution_count": 4,
     "metadata": {},
     "output_type": "execute_result"
    }
   ],
   "source": [
    "# breed predication (taking only the first prediction into account)\n",
    "df_we_rate_dogs.pred1_dog_breed.value_counts()"
   ]
  },
  {
   "cell_type": "markdown",
   "metadata": {},
   "source": [
    "<a id='analyzing_retweet_fav_count'></a>\n",
    "## Analysis of number of retweets and favourite counts"
   ]
  },
  {
   "cell_type": "markdown",
   "metadata": {},
   "source": [
    "### Mean and Median of Retweets\n",
    "The mean retweet count is 2888, while its median is 1435."
   ]
  },
  {
   "cell_type": "code",
   "execution_count": 5,
   "metadata": {},
   "outputs": [
    {
     "data": {
      "text/plain": [
       "count     1201.000000\n",
       "mean      2487.485429\n",
       "std       3783.111780\n",
       "min         18.000000\n",
       "25%        645.000000\n",
       "50%       1435.000000\n",
       "75%       2954.000000\n",
       "max      56986.000000\n",
       "Name: retweet_count, dtype: float64"
      ]
     },
     "execution_count": 5,
     "metadata": {},
     "output_type": "execute_result"
    }
   ],
   "source": [
    "# calculate mean and median\n",
    "df_we_rate_dogs.retweet_count.describe()"
   ]
  },
  {
   "cell_type": "markdown",
   "metadata": {},
   "source": [
    "### Mean and Median of Favourite Counts\n",
    "The mean favourite count is 8937, while its median is 4840."
   ]
  },
  {
   "cell_type": "code",
   "execution_count": 6,
   "metadata": {},
   "outputs": [
    {
     "data": {
      "text/plain": [
       "count      1201.000000\n",
       "mean       8936.158201\n",
       "std       11596.685711\n",
       "min          98.000000\n",
       "25%        2233.000000\n",
       "50%        4840.000000\n",
       "75%       11442.000000\n",
       "max      121125.000000\n",
       "Name: favorite_count, dtype: float64"
      ]
     },
     "execution_count": 6,
     "metadata": {},
     "output_type": "execute_result"
    }
   ],
   "source": [
    "# calculate mean and median\n",
    "df_we_rate_dogs.favorite_count.describe()"
   ]
  },
  {
   "cell_type": "markdown",
   "metadata": {},
   "source": [
    "### Correlation between the number of retweets and the favourite counts\n",
    "It looks like there is a correlation between the number of retweets and the favourite counts it gets."
   ]
  },
  {
   "cell_type": "code",
   "execution_count": 7,
   "metadata": {},
   "outputs": [
    {
     "data": {
      "image/png": "[encoded data removed]",
      "text/plain": [
       "<matplotlib.figure.Figure at 0x7efe07308278>"
      ]
     },
     "metadata": {
      "needs_background": "light"
     },
     "output_type": "display_data"
    }
   ],
   "source": [
    "# scatter plot\n",
    "df_we_rate_dogs.plot(kind='scatter',x='favorite_count',y='retweet_count', alpha = 0.5);\n",
    "plt.xlabel('favorite counts');\n",
    "plt.ylabel('number of retweets');\n",
    "plt.title('Scatter plot of retweets vs. favourite counts');"
   ]
  },
  {
   "cell_type": "markdown",
   "metadata": {},
   "source": [
    "<a id='analyzing_rating'></a>\n",
    "## Rating Numerator\n",
    "The mean rating numerator is 11, while its median is also 11."
   ]
  },
  {
   "cell_type": "code",
   "execution_count": 8,
   "metadata": {},
   "outputs": [
    {
     "data": {
      "text/plain": [
       "count    1201.000000\n",
       "mean       10.991674\n",
       "std         2.808605\n",
       "min         2.000000\n",
       "25%        10.000000\n",
       "50%        11.000000\n",
       "75%        12.000000\n",
       "max        75.000000\n",
       "Name: rating_numerator, dtype: float64"
      ]
     },
     "execution_count": 8,
     "metadata": {},
     "output_type": "execute_result"
    }
   ],
   "source": [
    "# calculate mean and median\n",
    "df_we_rate_dogs.rating_numerator.describe()"
   ]
  },
  {
   "cell_type": "code",
   "execution_count": 9,
   "metadata": {},
   "outputs": [
    {
     "data": {
      "image/png": "[encoded data removed]",
      "text/plain": [
       "<matplotlib.figure.Figure at 0x7efe072e3ef0>"
      ]
     },
     "metadata": {
      "needs_background": "light"
     },
     "output_type": "display_data"
    }
   ],
   "source": [
    "# bar plot of rating numerator\n",
    "rating_count  = df_we_rate_dogs['rating_numerator'].value_counts()\n",
    "plt.figure(figsize=(10,5))\n",
    "sns.barplot(rating_count.index, rating_count.values)\n",
    "plt.title('We Rate Dogs Rating Numerator')\n",
    "plt.ylabel('Number of Occurrences', fontsize=12)\n",
    "plt.xlabel('Rating Numerator', fontsize=12)\n",
    "plt.show()"
   ]
  },
  {
   "cell_type": "markdown",
   "metadata": {},
   "source": [
    "<a id='analyzing_ref'></a>\n",
    "## References Data Analysis\n",
    "Basic pie chart: https://matplotlib.org/3.2.1/gallery/pie_and_polar_charts/pie_features.html#sphx-glr-gallery-pie-and-polar-charts-pie-features-py<br>\n",
    "Seaborn barplot and pandas value_counts: https://www.kaggle.com/tejainece/seaborn-barplot-and-pandas-value-counts <br>\n"
   ]
  },
  {
   "cell_type": "code",
   "execution_count": null,
   "metadata": {},
   "outputs": [],
   "source": []
  }
 ],
 "metadata": {
  "kernelspec": {
   "display_name": "Python 3",
   "language": "python",
   "name": "python3"
  },
  "language_info": {
   "codemirror_mode": {
    "name": "ipython",
    "version": 3
   },
   "file_extension": ".py",
   "mimetype": "text/x-python",
   "name": "python",
   "nbconvert_exporter": "python",
   "pygments_lexer": "ipython3",
   "version": "3.6.3"
  }
 },
 "nbformat": 4,
 "nbformat_minor": 2
}
