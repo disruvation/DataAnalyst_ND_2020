{
 "cells": [
  {
   "cell_type": "markdown",
   "metadata": {},
   "source": [
    "# Project: Data analysis on the dataset: No-Show appointments\n",
    "\n",
    "\n",
    "## Table of Contents\n",
    "<ul>\n",
    "<li><a href=\"#intro\">Introduction</a></li>\n",
    "<li><a href=\"#wrangling\">Data Wrangling</a></li>\n",
    "<li><a href=\"#eda\">Data Analysis</a></li>\n",
    "<li><a href=\"#conclusions\">Conclusions</a></li>\n",
    "<li><a href=\"#ref\">References</a></li>\n",
    "</ul>"
   ]
  },
  {
   "cell_type": "markdown",
   "metadata": {},
   "source": [
    "<a id='intro'></a>\n",
    "## Introduction\n",
    "\n",
    "This report deals with the dataset 'No-show appointments'. This dataset contains around 100k medical appointments in Brazil. It focuses on the question whether or not a patient shows up for his appointment. \n",
    "I will try to analyse the questions if the gender, age or membership of the Brazilian welfare program Bolsa Familia has an influence of the attendance of an appointment and if this 'Show Up' rate can be increased by receiving a SMS. \n",
    "At the end I analyse the influence of a receiving SMS depending on the fact that a patient has a scholarship for the welfare program or not. \n",
    "\n",
    "The report is structured the following:\n",
    "Following this introduction, there will be a section which deals with the data wrangling which means importing the relevant packages and checking the dataset as well as cleaning up the data for further analysis. \n",
    "Afterwards there will be the data analysis section which is the main part of the work and tries to answer the already mentioned questions. \n",
    "Then there will be a conclusion which summarizes all the results and at the end there will be the reference section which collects the used references. \n"
   ]
  },
  {
   "cell_type": "markdown",
   "metadata": {},
   "source": [
    "<a id='wrangling'></a>\n",
    "## Data Wrangling\n",
    "The chapter Data Wrangling is divided into the section General Properties which loads the packages and give a first check on the data and the section Data Cleaning which will clean and prepare the dataset for further analysis. \n"
   ]
  },
  {
   "cell_type": "markdown",
   "metadata": {},
   "source": [
    "### General Properties\n",
    "In the first part all packages will be imported, the data are imported and a first data overview will be performed. \n",
    "This section is separated in six steps:\n",
    "1. Step: Import packages for Data Analysis\n",
    "2. Step: Load data\n",
    "3. Step: Check data structure and column naming\n",
    "4. Step: Check types of variables / columns and missing data\n",
    "5. Step: Check for duplicates\n",
    "6. Step: Get a first statistical overview of the data and check for data integrity"
   ]
  },
  {
   "cell_type": "markdown",
   "metadata": {},
   "source": [
    "#### 1. Step: Import packages for Data Analysis"
   ]
  },
  {
   "cell_type": "code",
   "execution_count": 1,
   "metadata": {},
   "outputs": [],
   "source": [
    "# import packages\n",
    "import pandas as pd\n",
    "import numpy as np\n",
    "import matplotlib.pyplot as plt\n",
    "import seaborn as sns\n",
    "% matplotlib inline"
   ]
  },
  {
   "cell_type": "markdown",
   "metadata": {},
   "source": [
    "#### 2. Step: Load data"
   ]
  },
  {
   "cell_type": "code",
   "execution_count": 2,
   "metadata": {},
   "outputs": [],
   "source": [
    "# load data\n",
    "df = pd.read_csv('noshowappointments-kagglev2-may-2016.csv')"
   ]
  },
  {
   "cell_type": "markdown",
   "metadata": {},
   "source": [
    "#### 3. Step: Check data structure and column naming"
   ]
  },
  {
   "cell_type": "code",
   "execution_count": 3,
   "metadata": {
    "scrolled": true
   },
   "outputs": [
    {
     "data": {
      "text/html": [
       "<div>\n",
       "<style scoped>\n",
       "    .dataframe tbody tr th:only-of-type {\n",
       "        vertical-align: middle;\n",
       "    }\n",
       "\n",
       "    .dataframe tbody tr th {\n",
       "        vertical-align: top;\n",
       "    }\n",
       "\n",
       "    .dataframe thead th {\n",
       "        text-align: right;\n",
       "    }\n",
       "</style>\n",
       "<table border=\"1\" class=\"dataframe\">\n",
       "  <thead>\n",
       "    <tr style=\"text-align: right;\">\n",
       "      <th></th>\n",
       "      <th>PatientId</th>\n",
       "      <th>AppointmentID</th>\n",
       "      <th>Gender</th>\n",
       "      <th>ScheduledDay</th>\n",
       "      <th>AppointmentDay</th>\n",
       "      <th>Age</th>\n",
       "      <th>Neighbourhood</th>\n",
       "      <th>Scholarship</th>\n",
       "      <th>Hipertension</th>\n",
       "      <th>Diabetes</th>\n",
       "      <th>Alcoholism</th>\n",
       "      <th>Handcap</th>\n",
       "      <th>SMS_received</th>\n",
       "      <th>No-show</th>\n",
       "    </tr>\n",
       "  </thead>\n",
       "  <tbody>\n",
       "    <tr>\n",
       "      <th>0</th>\n",
       "      <td>2.987250e+13</td>\n",
       "      <td>5642903</td>\n",
       "      <td>F</td>\n",
       "      <td>2016-04-29T18:38:08Z</td>\n",
       "      <td>2016-04-29T00:00:00Z</td>\n",
       "      <td>62</td>\n",
       "      <td>JARDIM DA PENHA</td>\n",
       "      <td>0</td>\n",
       "      <td>1</td>\n",
       "      <td>0</td>\n",
       "      <td>0</td>\n",
       "      <td>0</td>\n",
       "      <td>0</td>\n",
       "      <td>No</td>\n",
       "    </tr>\n",
       "    <tr>\n",
       "      <th>1</th>\n",
       "      <td>5.589978e+14</td>\n",
       "      <td>5642503</td>\n",
       "      <td>M</td>\n",
       "      <td>2016-04-29T16:08:27Z</td>\n",
       "      <td>2016-04-29T00:00:00Z</td>\n",
       "      <td>56</td>\n",
       "      <td>JARDIM DA PENHA</td>\n",
       "      <td>0</td>\n",
       "      <td>0</td>\n",
       "      <td>0</td>\n",
       "      <td>0</td>\n",
       "      <td>0</td>\n",
       "      <td>0</td>\n",
       "      <td>No</td>\n",
       "    </tr>\n",
       "    <tr>\n",
       "      <th>2</th>\n",
       "      <td>4.262962e+12</td>\n",
       "      <td>5642549</td>\n",
       "      <td>F</td>\n",
       "      <td>2016-04-29T16:19:04Z</td>\n",
       "      <td>2016-04-29T00:00:00Z</td>\n",
       "      <td>62</td>\n",
       "      <td>MATA DA PRAIA</td>\n",
       "      <td>0</td>\n",
       "      <td>0</td>\n",
       "      <td>0</td>\n",
       "      <td>0</td>\n",
       "      <td>0</td>\n",
       "      <td>0</td>\n",
       "      <td>No</td>\n",
       "    </tr>\n",
       "    <tr>\n",
       "      <th>3</th>\n",
       "      <td>8.679512e+11</td>\n",
       "      <td>5642828</td>\n",
       "      <td>F</td>\n",
       "      <td>2016-04-29T17:29:31Z</td>\n",
       "      <td>2016-04-29T00:00:00Z</td>\n",
       "      <td>8</td>\n",
       "      <td>PONTAL DE CAMBURI</td>\n",
       "      <td>0</td>\n",
       "      <td>0</td>\n",
       "      <td>0</td>\n",
       "      <td>0</td>\n",
       "      <td>0</td>\n",
       "      <td>0</td>\n",
       "      <td>No</td>\n",
       "    </tr>\n",
       "    <tr>\n",
       "      <th>4</th>\n",
       "      <td>8.841186e+12</td>\n",
       "      <td>5642494</td>\n",
       "      <td>F</td>\n",
       "      <td>2016-04-29T16:07:23Z</td>\n",
       "      <td>2016-04-29T00:00:00Z</td>\n",
       "      <td>56</td>\n",
       "      <td>JARDIM DA PENHA</td>\n",
       "      <td>0</td>\n",
       "      <td>1</td>\n",
       "      <td>1</td>\n",
       "      <td>0</td>\n",
       "      <td>0</td>\n",
       "      <td>0</td>\n",
       "      <td>No</td>\n",
       "    </tr>\n",
       "  </tbody>\n",
       "</table>\n",
       "</div>"
      ],
      "text/plain": [
       "      PatientId  AppointmentID Gender          ScheduledDay  \\\n",
       "0  2.987250e+13        5642903      F  2016-04-29T18:38:08Z   \n",
       "1  5.589978e+14        5642503      M  2016-04-29T16:08:27Z   \n",
       "2  4.262962e+12        5642549      F  2016-04-29T16:19:04Z   \n",
       "3  8.679512e+11        5642828      F  2016-04-29T17:29:31Z   \n",
       "4  8.841186e+12        5642494      F  2016-04-29T16:07:23Z   \n",
       "\n",
       "         AppointmentDay  Age      Neighbourhood  Scholarship  Hipertension  \\\n",
       "0  2016-04-29T00:00:00Z   62    JARDIM DA PENHA            0             1   \n",
       "1  2016-04-29T00:00:00Z   56    JARDIM DA PENHA            0             0   \n",
       "2  2016-04-29T00:00:00Z   62      MATA DA PRAIA            0             0   \n",
       "3  2016-04-29T00:00:00Z    8  PONTAL DE CAMBURI            0             0   \n",
       "4  2016-04-29T00:00:00Z   56    JARDIM DA PENHA            0             1   \n",
       "\n",
       "   Diabetes  Alcoholism  Handcap  SMS_received No-show  \n",
       "0         0           0        0             0      No  \n",
       "1         0           0        0             0      No  \n",
       "2         0           0        0             0      No  \n",
       "3         0           0        0             0      No  \n",
       "4         1           0        0             0      No  "
      ]
     },
     "execution_count": 3,
     "metadata": {},
     "output_type": "execute_result"
    }
   ],
   "source": [
    "# check structure of the data by showing first 5 entries\n",
    "df.head(5)"
   ]
  },
  {
   "cell_type": "markdown",
   "metadata": {},
   "source": [
    "##### Results\n",
    "- rename columns for better readability and to correct misspellings (e.g. Handcap -> handicap) \n",
    "- use underlines for consistency and to work easier with the data\n",
    "- separate time from ScheduledDay make it easier to work with the data\n",
    "- separate time from AppointmentDay make it easier to work with the data (or remove it when it is midnight for all data, as indicated by the first 10 entries) -> will be checked during the Data Cleaning section"
   ]
  },
  {
   "cell_type": "markdown",
   "metadata": {},
   "source": [
    "#### 4. Step: Check types of variables / columns and missing data"
   ]
  },
  {
   "cell_type": "code",
   "execution_count": 4,
   "metadata": {},
   "outputs": [
    {
     "name": "stdout",
     "output_type": "stream",
     "text": [
      "<class 'pandas.core.frame.DataFrame'>\n",
      "RangeIndex: 110527 entries, 0 to 110526\n",
      "Data columns (total 14 columns):\n",
      "PatientId         110527 non-null float64\n",
      "AppointmentID     110527 non-null int64\n",
      "Gender            110527 non-null object\n",
      "ScheduledDay      110527 non-null object\n",
      "AppointmentDay    110527 non-null object\n",
      "Age               110527 non-null int64\n",
      "Neighbourhood     110527 non-null object\n",
      "Scholarship       110527 non-null int64\n",
      "Hipertension      110527 non-null int64\n",
      "Diabetes          110527 non-null int64\n",
      "Alcoholism        110527 non-null int64\n",
      "Handcap           110527 non-null int64\n",
      "SMS_received      110527 non-null int64\n",
      "No-show           110527 non-null object\n",
      "dtypes: float64(1), int64(8), object(5)\n",
      "memory usage: 11.8+ MB\n"
     ]
    }
   ],
   "source": [
    "# check variable types and missing data\n",
    "df.info()"
   ]
  },
  {
   "cell_type": "markdown",
   "metadata": {},
   "source": [
    "##### Results\n",
    "- all columns are complete (all columns have 110527 entries)\n",
    "- no null values\n",
    "- PatientId is float and should be changed to int for consistency and to work better with the data (ID is normally an INT)"
   ]
  },
  {
   "cell_type": "markdown",
   "metadata": {},
   "source": [
    "#### 5. Step: Check for duplicates"
   ]
  },
  {
   "cell_type": "code",
   "execution_count": 5,
   "metadata": {},
   "outputs": [
    {
     "name": "stdout",
     "output_type": "stream",
     "text": [
      "0\n"
     ]
    }
   ],
   "source": [
    "# check dublicates\n",
    "print(sum(df.duplicated()))"
   ]
  },
  {
   "cell_type": "markdown",
   "metadata": {},
   "source": [
    "##### Results\n",
    "- No duplicates found"
   ]
  },
  {
   "cell_type": "markdown",
   "metadata": {},
   "source": [
    "#### 6. Step: Get a first statistical overview of the data and check for data integrity"
   ]
  },
  {
   "cell_type": "code",
   "execution_count": 6,
   "metadata": {},
   "outputs": [
    {
     "data": {
      "text/html": [
       "<div>\n",
       "<style scoped>\n",
       "    .dataframe tbody tr th:only-of-type {\n",
       "        vertical-align: middle;\n",
       "    }\n",
       "\n",
       "    .dataframe tbody tr th {\n",
       "        vertical-align: top;\n",
       "    }\n",
       "\n",
       "    .dataframe thead th {\n",
       "        text-align: right;\n",
       "    }\n",
       "</style>\n",
       "<table border=\"1\" class=\"dataframe\">\n",
       "  <thead>\n",
       "    <tr style=\"text-align: right;\">\n",
       "      <th></th>\n",
       "      <th>PatientId</th>\n",
       "      <th>AppointmentID</th>\n",
       "      <th>Age</th>\n",
       "      <th>Scholarship</th>\n",
       "      <th>Hipertension</th>\n",
       "      <th>Diabetes</th>\n",
       "      <th>Alcoholism</th>\n",
       "      <th>Handcap</th>\n",
       "      <th>SMS_received</th>\n",
       "    </tr>\n",
       "  </thead>\n",
       "  <tbody>\n",
       "    <tr>\n",
       "      <th>count</th>\n",
       "      <td>1.105270e+05</td>\n",
       "      <td>1.105270e+05</td>\n",
       "      <td>110527.000000</td>\n",
       "      <td>110527.000000</td>\n",
       "      <td>110527.000000</td>\n",
       "      <td>110527.000000</td>\n",
       "      <td>110527.000000</td>\n",
       "      <td>110527.000000</td>\n",
       "      <td>110527.000000</td>\n",
       "    </tr>\n",
       "    <tr>\n",
       "      <th>mean</th>\n",
       "      <td>1.474963e+14</td>\n",
       "      <td>5.675305e+06</td>\n",
       "      <td>37.088874</td>\n",
       "      <td>0.098266</td>\n",
       "      <td>0.197246</td>\n",
       "      <td>0.071865</td>\n",
       "      <td>0.030400</td>\n",
       "      <td>0.022248</td>\n",
       "      <td>0.321026</td>\n",
       "    </tr>\n",
       "    <tr>\n",
       "      <th>std</th>\n",
       "      <td>2.560949e+14</td>\n",
       "      <td>7.129575e+04</td>\n",
       "      <td>23.110205</td>\n",
       "      <td>0.297675</td>\n",
       "      <td>0.397921</td>\n",
       "      <td>0.258265</td>\n",
       "      <td>0.171686</td>\n",
       "      <td>0.161543</td>\n",
       "      <td>0.466873</td>\n",
       "    </tr>\n",
       "    <tr>\n",
       "      <th>min</th>\n",
       "      <td>3.921784e+04</td>\n",
       "      <td>5.030230e+06</td>\n",
       "      <td>-1.000000</td>\n",
       "      <td>0.000000</td>\n",
       "      <td>0.000000</td>\n",
       "      <td>0.000000</td>\n",
       "      <td>0.000000</td>\n",
       "      <td>0.000000</td>\n",
       "      <td>0.000000</td>\n",
       "    </tr>\n",
       "    <tr>\n",
       "      <th>25%</th>\n",
       "      <td>4.172614e+12</td>\n",
       "      <td>5.640286e+06</td>\n",
       "      <td>18.000000</td>\n",
       "      <td>0.000000</td>\n",
       "      <td>0.000000</td>\n",
       "      <td>0.000000</td>\n",
       "      <td>0.000000</td>\n",
       "      <td>0.000000</td>\n",
       "      <td>0.000000</td>\n",
       "    </tr>\n",
       "    <tr>\n",
       "      <th>50%</th>\n",
       "      <td>3.173184e+13</td>\n",
       "      <td>5.680573e+06</td>\n",
       "      <td>37.000000</td>\n",
       "      <td>0.000000</td>\n",
       "      <td>0.000000</td>\n",
       "      <td>0.000000</td>\n",
       "      <td>0.000000</td>\n",
       "      <td>0.000000</td>\n",
       "      <td>0.000000</td>\n",
       "    </tr>\n",
       "    <tr>\n",
       "      <th>75%</th>\n",
       "      <td>9.439172e+13</td>\n",
       "      <td>5.725524e+06</td>\n",
       "      <td>55.000000</td>\n",
       "      <td>0.000000</td>\n",
       "      <td>0.000000</td>\n",
       "      <td>0.000000</td>\n",
       "      <td>0.000000</td>\n",
       "      <td>0.000000</td>\n",
       "      <td>1.000000</td>\n",
       "    </tr>\n",
       "    <tr>\n",
       "      <th>max</th>\n",
       "      <td>9.999816e+14</td>\n",
       "      <td>5.790484e+06</td>\n",
       "      <td>115.000000</td>\n",
       "      <td>1.000000</td>\n",
       "      <td>1.000000</td>\n",
       "      <td>1.000000</td>\n",
       "      <td>1.000000</td>\n",
       "      <td>4.000000</td>\n",
       "      <td>1.000000</td>\n",
       "    </tr>\n",
       "  </tbody>\n",
       "</table>\n",
       "</div>"
      ],
      "text/plain": [
       "          PatientId  AppointmentID            Age    Scholarship  \\\n",
       "count  1.105270e+05   1.105270e+05  110527.000000  110527.000000   \n",
       "mean   1.474963e+14   5.675305e+06      37.088874       0.098266   \n",
       "std    2.560949e+14   7.129575e+04      23.110205       0.297675   \n",
       "min    3.921784e+04   5.030230e+06      -1.000000       0.000000   \n",
       "25%    4.172614e+12   5.640286e+06      18.000000       0.000000   \n",
       "50%    3.173184e+13   5.680573e+06      37.000000       0.000000   \n",
       "75%    9.439172e+13   5.725524e+06      55.000000       0.000000   \n",
       "max    9.999816e+14   5.790484e+06     115.000000       1.000000   \n",
       "\n",
       "        Hipertension       Diabetes     Alcoholism        Handcap  \\\n",
       "count  110527.000000  110527.000000  110527.000000  110527.000000   \n",
       "mean        0.197246       0.071865       0.030400       0.022248   \n",
       "std         0.397921       0.258265       0.171686       0.161543   \n",
       "min         0.000000       0.000000       0.000000       0.000000   \n",
       "25%         0.000000       0.000000       0.000000       0.000000   \n",
       "50%         0.000000       0.000000       0.000000       0.000000   \n",
       "75%         0.000000       0.000000       0.000000       0.000000   \n",
       "max         1.000000       1.000000       1.000000       4.000000   \n",
       "\n",
       "        SMS_received  \n",
       "count  110527.000000  \n",
       "mean        0.321026  \n",
       "std         0.466873  \n",
       "min         0.000000  \n",
       "25%         0.000000  \n",
       "50%         0.000000  \n",
       "75%         1.000000  \n",
       "max         1.000000  "
      ]
     },
     "execution_count": 6,
     "metadata": {},
     "output_type": "execute_result"
    }
   ],
   "source": [
    "# get a first statistical overview of the data\n",
    "df.describe()"
   ]
  },
  {
   "cell_type": "code",
   "execution_count": 7,
   "metadata": {},
   "outputs": [
    {
     "name": "stdout",
     "output_type": "stream",
     "text": [
      "1\n"
     ]
    }
   ],
   "source": [
    "# check how many datasets have ages < 0 years\n",
    "print(df[df.Age < 0].shape[0])"
   ]
  },
  {
   "cell_type": "markdown",
   "metadata": {},
   "source": [
    "##### Results\n",
    "- There is one dataset with an age of -1. This dataset should be deleted, because I do not know what causes this entry (unborn kid with an appointment / typo?) and I still have more than 100k entries. "
   ]
  },
  {
   "cell_type": "markdown",
   "metadata": {},
   "source": [
    "### Data Cleaning\n",
    "Within this section the data will be cleaned. So all previous mentioned findings and problems will be solved in this section: \n",
    "1. Step: Rename columns for better readability and to correct misspellings\n",
    "2. Step: Split date and time of schedule_day and and add day of the week\n",
    "3. Step: Split date and time of appointment_day and and add day of the week\n",
    "4. Step: Change type of patientID to int\n",
    "5. Step: Remove entry with age<0\n",
    "6. Step: Convert column no_show into type int for better data evaluation\n",
    "7. Step: Create Masks for patients who showed up (df_Show) and patients who did not showed up (df_noShow)\n"
   ]
  },
  {
   "cell_type": "markdown",
   "metadata": {},
   "source": [
    "#### 1. Step: Rename columns for better readability and to correct misspellings"
   ]
  },
  {
   "cell_type": "code",
   "execution_count": 8,
   "metadata": {},
   "outputs": [
    {
     "data": {
      "text/html": [
       "<div>\n",
       "<style scoped>\n",
       "    .dataframe tbody tr th:only-of-type {\n",
       "        vertical-align: middle;\n",
       "    }\n",
       "\n",
       "    .dataframe tbody tr th {\n",
       "        vertical-align: top;\n",
       "    }\n",
       "\n",
       "    .dataframe thead th {\n",
       "        text-align: right;\n",
       "    }\n",
       "</style>\n",
       "<table border=\"1\" class=\"dataframe\">\n",
       "  <thead>\n",
       "    <tr style=\"text-align: right;\">\n",
       "      <th></th>\n",
       "      <th>patientID</th>\n",
       "      <th>appointmentID</th>\n",
       "      <th>gender</th>\n",
       "      <th>schedule_date</th>\n",
       "      <th>appointment_date</th>\n",
       "      <th>age</th>\n",
       "      <th>neighborhood</th>\n",
       "      <th>scholarship</th>\n",
       "      <th>hypertension</th>\n",
       "      <th>diabetes</th>\n",
       "      <th>alcoholism</th>\n",
       "      <th>handicap</th>\n",
       "      <th>sms_received</th>\n",
       "      <th>no_show</th>\n",
       "    </tr>\n",
       "  </thead>\n",
       "  <tbody>\n",
       "    <tr>\n",
       "      <th>0</th>\n",
       "      <td>2.987250e+13</td>\n",
       "      <td>5642903</td>\n",
       "      <td>F</td>\n",
       "      <td>2016-04-29T18:38:08Z</td>\n",
       "      <td>2016-04-29T00:00:00Z</td>\n",
       "      <td>62</td>\n",
       "      <td>JARDIM DA PENHA</td>\n",
       "      <td>0</td>\n",
       "      <td>1</td>\n",
       "      <td>0</td>\n",
       "      <td>0</td>\n",
       "      <td>0</td>\n",
       "      <td>0</td>\n",
       "      <td>No</td>\n",
       "    </tr>\n",
       "  </tbody>\n",
       "</table>\n",
       "</div>"
      ],
      "text/plain": [
       "      patientID  appointmentID gender         schedule_date  \\\n",
       "0  2.987250e+13        5642903      F  2016-04-29T18:38:08Z   \n",
       "\n",
       "       appointment_date  age     neighborhood  scholarship  hypertension  \\\n",
       "0  2016-04-29T00:00:00Z   62  JARDIM DA PENHA            0             1   \n",
       "\n",
       "   diabetes  alcoholism  handicap  sms_received no_show  \n",
       "0         0           0         0             0      No  "
      ]
     },
     "execution_count": 8,
     "metadata": {},
     "output_type": "execute_result"
    }
   ],
   "source": [
    "# create variable with new column labels\n",
    "new_labels = ['patientID', 'appointmentID', 'gender', 'schedule_date', 'appointment_date', 'age', 'neighborhood', 'scholarship', 'hypertension', 'diabetes', 'alcoholism', 'handicap', 'sms_received', 'no_show']\n",
    "# change column labels\n",
    "df.columns = new_labels\n",
    "# check changes\n",
    "df.head(1)"
   ]
  },
  {
   "cell_type": "markdown",
   "metadata": {},
   "source": [
    "#### 2. Step: Split day and time of schedule_date and and add day of the week"
   ]
  },
  {
   "cell_type": "code",
   "execution_count": 9,
   "metadata": {},
   "outputs": [
    {
     "name": "stdout",
     "output_type": "stream",
     "text": [
      "<class 'pandas.core.frame.DataFrame'>\n",
      "RangeIndex: 110527 entries, 0 to 110526\n",
      "Data columns (total 14 columns):\n",
      "patientID           110527 non-null float64\n",
      "appointmentID       110527 non-null int64\n",
      "gender              110527 non-null object\n",
      "schedule_date       110527 non-null datetime64[ns]\n",
      "appointment_date    110527 non-null object\n",
      "age                 110527 non-null int64\n",
      "neighborhood        110527 non-null object\n",
      "scholarship         110527 non-null int64\n",
      "hypertension        110527 non-null int64\n",
      "diabetes            110527 non-null int64\n",
      "alcoholism          110527 non-null int64\n",
      "handicap            110527 non-null int64\n",
      "sms_received        110527 non-null int64\n",
      "no_show             110527 non-null object\n",
      "dtypes: datetime64[ns](1), float64(1), int64(8), object(4)\n",
      "memory usage: 11.8+ MB\n"
     ]
    }
   ],
   "source": [
    "# convert type of schedule_date to datetime for an easier data process\n",
    "df.schedule_date = pd.to_datetime(df.schedule_date)\n",
    "# check type change\n",
    "df.info()"
   ]
  },
  {
   "cell_type": "code",
   "execution_count": 10,
   "metadata": {},
   "outputs": [],
   "source": [
    "# create new column schedule_day for the time of schedule_date\n",
    "df['schedule_day'] = df['schedule_date'].apply(lambda x: x.strftime('%Y-%m-%d'))"
   ]
  },
  {
   "cell_type": "code",
   "execution_count": 11,
   "metadata": {},
   "outputs": [],
   "source": [
    "# create new column schedule_time for the time of schedule_date\n",
    "# hours, minutes and seconds (H-M-S)\n",
    "df['schedule_time'] = df['schedule_date'].apply(lambda x: x.strftime('%H-%M-%S'))"
   ]
  },
  {
   "cell_type": "code",
   "execution_count": 12,
   "metadata": {},
   "outputs": [
    {
     "data": {
      "text/html": [
       "<div>\n",
       "<style scoped>\n",
       "    .dataframe tbody tr th:only-of-type {\n",
       "        vertical-align: middle;\n",
       "    }\n",
       "\n",
       "    .dataframe tbody tr th {\n",
       "        vertical-align: top;\n",
       "    }\n",
       "\n",
       "    .dataframe thead th {\n",
       "        text-align: right;\n",
       "    }\n",
       "</style>\n",
       "<table border=\"1\" class=\"dataframe\">\n",
       "  <thead>\n",
       "    <tr style=\"text-align: right;\">\n",
       "      <th></th>\n",
       "      <th>patientID</th>\n",
       "      <th>appointmentID</th>\n",
       "      <th>gender</th>\n",
       "      <th>schedule_date</th>\n",
       "      <th>appointment_date</th>\n",
       "      <th>age</th>\n",
       "      <th>neighborhood</th>\n",
       "      <th>scholarship</th>\n",
       "      <th>hypertension</th>\n",
       "      <th>diabetes</th>\n",
       "      <th>alcoholism</th>\n",
       "      <th>handicap</th>\n",
       "      <th>sms_received</th>\n",
       "      <th>no_show</th>\n",
       "      <th>schedule_day</th>\n",
       "      <th>schedule_time</th>\n",
       "      <th>schedule_dow</th>\n",
       "    </tr>\n",
       "  </thead>\n",
       "  <tbody>\n",
       "    <tr>\n",
       "      <th>0</th>\n",
       "      <td>2.987250e+13</td>\n",
       "      <td>5642903</td>\n",
       "      <td>F</td>\n",
       "      <td>2016-04-29 18:38:08</td>\n",
       "      <td>2016-04-29T00:00:00Z</td>\n",
       "      <td>62</td>\n",
       "      <td>JARDIM DA PENHA</td>\n",
       "      <td>0</td>\n",
       "      <td>1</td>\n",
       "      <td>0</td>\n",
       "      <td>0</td>\n",
       "      <td>0</td>\n",
       "      <td>0</td>\n",
       "      <td>No</td>\n",
       "      <td>2016-04-29</td>\n",
       "      <td>18-38-08</td>\n",
       "      <td>5</td>\n",
       "    </tr>\n",
       "  </tbody>\n",
       "</table>\n",
       "</div>"
      ],
      "text/plain": [
       "      patientID  appointmentID gender       schedule_date  \\\n",
       "0  2.987250e+13        5642903      F 2016-04-29 18:38:08   \n",
       "\n",
       "       appointment_date  age     neighborhood  scholarship  hypertension  \\\n",
       "0  2016-04-29T00:00:00Z   62  JARDIM DA PENHA            0             1   \n",
       "\n",
       "   diabetes  alcoholism  handicap  sms_received no_show schedule_day  \\\n",
       "0         0           0         0             0      No   2016-04-29   \n",
       "\n",
       "  schedule_time schedule_dow  \n",
       "0      18-38-08            5  "
      ]
     },
     "execution_count": 12,
     "metadata": {},
     "output_type": "execute_result"
    }
   ],
   "source": [
    "# create new column schedule_dow for the day of the week of schedule_date\n",
    "#  1 (Monday) to 7 (Sunday)\n",
    "df['schedule_dow'] = df['schedule_date'].apply(lambda x: x.strftime('%u'))\n",
    "\n",
    "# check changes\n",
    "df.head(1)"
   ]
  },
  {
   "cell_type": "markdown",
   "metadata": {},
   "source": [
    "#### 3. Step: Split date and time of appointment_day and and add day of the week"
   ]
  },
  {
   "cell_type": "code",
   "execution_count": 13,
   "metadata": {},
   "outputs": [
    {
     "name": "stdout",
     "output_type": "stream",
     "text": [
      "<class 'pandas.core.frame.DataFrame'>\n",
      "RangeIndex: 110527 entries, 0 to 110526\n",
      "Data columns (total 17 columns):\n",
      "patientID           110527 non-null float64\n",
      "appointmentID       110527 non-null int64\n",
      "gender              110527 non-null object\n",
      "schedule_date       110527 non-null datetime64[ns]\n",
      "appointment_date    110527 non-null datetime64[ns]\n",
      "age                 110527 non-null int64\n",
      "neighborhood        110527 non-null object\n",
      "scholarship         110527 non-null int64\n",
      "hypertension        110527 non-null int64\n",
      "diabetes            110527 non-null int64\n",
      "alcoholism          110527 non-null int64\n",
      "handicap            110527 non-null int64\n",
      "sms_received        110527 non-null int64\n",
      "no_show             110527 non-null object\n",
      "schedule_day        110527 non-null object\n",
      "schedule_time       110527 non-null object\n",
      "schedule_dow        110527 non-null object\n",
      "dtypes: datetime64[ns](2), float64(1), int64(8), object(6)\n",
      "memory usage: 14.3+ MB\n"
     ]
    }
   ],
   "source": [
    "# convert type of appointment_date to datetime for an easier data process\n",
    "df.appointment_date = pd.to_datetime(df.appointment_date)\n",
    "# check type change\n",
    "df.info()"
   ]
  },
  {
   "cell_type": "code",
   "execution_count": 14,
   "metadata": {},
   "outputs": [],
   "source": [
    "# create new column appointment_day for the time of appointment_date\n",
    "df['appointment_day'] = df['appointment_date'].apply(lambda x: x.strftime('%Y-%m-%d'))"
   ]
  },
  {
   "cell_type": "code",
   "execution_count": 15,
   "metadata": {},
   "outputs": [],
   "source": [
    "# create new column appointment_time for the time of appointment_date\n",
    "# hours, minutes and seconds (H-M-S)\n",
    "df['appointment_time'] = df['appointment_date'].apply(lambda x: x.strftime('%H-%M-%S'))"
   ]
  },
  {
   "cell_type": "code",
   "execution_count": 16,
   "metadata": {},
   "outputs": [
    {
     "data": {
      "text/html": [
       "<div>\n",
       "<style scoped>\n",
       "    .dataframe tbody tr th:only-of-type {\n",
       "        vertical-align: middle;\n",
       "    }\n",
       "\n",
       "    .dataframe tbody tr th {\n",
       "        vertical-align: top;\n",
       "    }\n",
       "\n",
       "    .dataframe thead th {\n",
       "        text-align: right;\n",
       "    }\n",
       "</style>\n",
       "<table border=\"1\" class=\"dataframe\">\n",
       "  <thead>\n",
       "    <tr style=\"text-align: right;\">\n",
       "      <th></th>\n",
       "      <th>patientID</th>\n",
       "      <th>appointmentID</th>\n",
       "      <th>gender</th>\n",
       "      <th>schedule_date</th>\n",
       "      <th>appointment_date</th>\n",
       "      <th>age</th>\n",
       "      <th>neighborhood</th>\n",
       "      <th>scholarship</th>\n",
       "      <th>hypertension</th>\n",
       "      <th>diabetes</th>\n",
       "      <th>alcoholism</th>\n",
       "      <th>handicap</th>\n",
       "      <th>sms_received</th>\n",
       "      <th>no_show</th>\n",
       "      <th>schedule_day</th>\n",
       "      <th>schedule_time</th>\n",
       "      <th>schedule_dow</th>\n",
       "      <th>appointment_day</th>\n",
       "      <th>appointment_time</th>\n",
       "      <th>appointment_dow</th>\n",
       "    </tr>\n",
       "  </thead>\n",
       "  <tbody>\n",
       "    <tr>\n",
       "      <th>0</th>\n",
       "      <td>2.987250e+13</td>\n",
       "      <td>5642903</td>\n",
       "      <td>F</td>\n",
       "      <td>2016-04-29 18:38:08</td>\n",
       "      <td>2016-04-29</td>\n",
       "      <td>62</td>\n",
       "      <td>JARDIM DA PENHA</td>\n",
       "      <td>0</td>\n",
       "      <td>1</td>\n",
       "      <td>0</td>\n",
       "      <td>0</td>\n",
       "      <td>0</td>\n",
       "      <td>0</td>\n",
       "      <td>No</td>\n",
       "      <td>2016-04-29</td>\n",
       "      <td>18-38-08</td>\n",
       "      <td>5</td>\n",
       "      <td>2016-04-29</td>\n",
       "      <td>00-00-00</td>\n",
       "      <td>5</td>\n",
       "    </tr>\n",
       "  </tbody>\n",
       "</table>\n",
       "</div>"
      ],
      "text/plain": [
       "      patientID  appointmentID gender       schedule_date appointment_date  \\\n",
       "0  2.987250e+13        5642903      F 2016-04-29 18:38:08       2016-04-29   \n",
       "\n",
       "   age     neighborhood  scholarship  hypertension  diabetes  alcoholism  \\\n",
       "0   62  JARDIM DA PENHA            0             1         0           0   \n",
       "\n",
       "   handicap  sms_received no_show schedule_day schedule_time schedule_dow  \\\n",
       "0         0             0      No   2016-04-29      18-38-08            5   \n",
       "\n",
       "  appointment_day appointment_time appointment_dow  \n",
       "0      2016-04-29         00-00-00               5  "
      ]
     },
     "execution_count": 16,
     "metadata": {},
     "output_type": "execute_result"
    }
   ],
   "source": [
    "# create new column appointment_dow for the day of the week of appointment_date\n",
    "#  1 (Monday) to 7 (Sunday)\n",
    "df['appointment_dow'] = df['appointment_date'].apply(lambda x: x.strftime('%u'))\n",
    "\n",
    "# check changes\n",
    "df.head(1)"
   ]
  },
  {
   "cell_type": "code",
   "execution_count": 17,
   "metadata": {},
   "outputs": [
    {
     "data": {
      "text/plain": [
       "0"
      ]
     },
     "execution_count": 17,
     "metadata": {},
     "output_type": "execute_result"
    }
   ],
   "source": [
    "# check if any value of appointment_time is valid (NOT 00:00:00), otherwise remove column again\n",
    "sum(df['appointment_time'] != '00-00-00')"
   ]
  },
  {
   "cell_type": "code",
   "execution_count": 18,
   "metadata": {},
   "outputs": [
    {
     "data": {
      "text/html": [
       "<div>\n",
       "<style scoped>\n",
       "    .dataframe tbody tr th:only-of-type {\n",
       "        vertical-align: middle;\n",
       "    }\n",
       "\n",
       "    .dataframe tbody tr th {\n",
       "        vertical-align: top;\n",
       "    }\n",
       "\n",
       "    .dataframe thead th {\n",
       "        text-align: right;\n",
       "    }\n",
       "</style>\n",
       "<table border=\"1\" class=\"dataframe\">\n",
       "  <thead>\n",
       "    <tr style=\"text-align: right;\">\n",
       "      <th></th>\n",
       "      <th>patientID</th>\n",
       "      <th>appointmentID</th>\n",
       "      <th>gender</th>\n",
       "      <th>schedule_date</th>\n",
       "      <th>appointment_date</th>\n",
       "      <th>age</th>\n",
       "      <th>neighborhood</th>\n",
       "      <th>scholarship</th>\n",
       "      <th>hypertension</th>\n",
       "      <th>diabetes</th>\n",
       "      <th>alcoholism</th>\n",
       "      <th>handicap</th>\n",
       "      <th>sms_received</th>\n",
       "      <th>no_show</th>\n",
       "      <th>schedule_day</th>\n",
       "      <th>schedule_time</th>\n",
       "      <th>schedule_dow</th>\n",
       "      <th>appointment_day</th>\n",
       "      <th>appointment_dow</th>\n",
       "    </tr>\n",
       "  </thead>\n",
       "  <tbody>\n",
       "    <tr>\n",
       "      <th>0</th>\n",
       "      <td>2.987250e+13</td>\n",
       "      <td>5642903</td>\n",
       "      <td>F</td>\n",
       "      <td>2016-04-29 18:38:08</td>\n",
       "      <td>2016-04-29</td>\n",
       "      <td>62</td>\n",
       "      <td>JARDIM DA PENHA</td>\n",
       "      <td>0</td>\n",
       "      <td>1</td>\n",
       "      <td>0</td>\n",
       "      <td>0</td>\n",
       "      <td>0</td>\n",
       "      <td>0</td>\n",
       "      <td>No</td>\n",
       "      <td>2016-04-29</td>\n",
       "      <td>18-38-08</td>\n",
       "      <td>5</td>\n",
       "      <td>2016-04-29</td>\n",
       "      <td>5</td>\n",
       "    </tr>\n",
       "  </tbody>\n",
       "</table>\n",
       "</div>"
      ],
      "text/plain": [
       "      patientID  appointmentID gender       schedule_date appointment_date  \\\n",
       "0  2.987250e+13        5642903      F 2016-04-29 18:38:08       2016-04-29   \n",
       "\n",
       "   age     neighborhood  scholarship  hypertension  diabetes  alcoholism  \\\n",
       "0   62  JARDIM DA PENHA            0             1         0           0   \n",
       "\n",
       "   handicap  sms_received no_show schedule_day schedule_time schedule_dow  \\\n",
       "0         0             0      No   2016-04-29      18-38-08            5   \n",
       "\n",
       "  appointment_day appointment_dow  \n",
       "0      2016-04-29               5  "
      ]
     },
     "execution_count": 18,
     "metadata": {},
     "output_type": "execute_result"
    }
   ],
   "source": [
    "# all values of appointment_time are '00-00-00', therefore column is not useful and will be droped again\n",
    "df.drop('appointment_time', axis=1, inplace=True)\n",
    "# check changes\n",
    "df.head(1)"
   ]
  },
  {
   "cell_type": "markdown",
   "metadata": {},
   "source": [
    "#### 4. Step: Change type of patientID to int"
   ]
  },
  {
   "cell_type": "code",
   "execution_count": 19,
   "metadata": {},
   "outputs": [
    {
     "name": "stdout",
     "output_type": "stream",
     "text": [
      "<class 'pandas.core.frame.DataFrame'>\n",
      "RangeIndex: 110527 entries, 0 to 110526\n",
      "Data columns (total 19 columns):\n",
      "patientID           110527 non-null int64\n",
      "appointmentID       110527 non-null int64\n",
      "gender              110527 non-null object\n",
      "schedule_date       110527 non-null datetime64[ns]\n",
      "appointment_date    110527 non-null datetime64[ns]\n",
      "age                 110527 non-null int64\n",
      "neighborhood        110527 non-null object\n",
      "scholarship         110527 non-null int64\n",
      "hypertension        110527 non-null int64\n",
      "diabetes            110527 non-null int64\n",
      "alcoholism          110527 non-null int64\n",
      "handicap            110527 non-null int64\n",
      "sms_received        110527 non-null int64\n",
      "no_show             110527 non-null object\n",
      "schedule_day        110527 non-null object\n",
      "schedule_time       110527 non-null object\n",
      "schedule_dow        110527 non-null object\n",
      "appointment_day     110527 non-null object\n",
      "appointment_dow     110527 non-null object\n",
      "dtypes: datetime64[ns](2), int64(9), object(8)\n",
      "memory usage: 16.0+ MB\n"
     ]
    }
   ],
   "source": [
    "# change type of patientID to int\n",
    "df.patientID = df.patientID.astype(int);\n",
    "# check patientID type change\n",
    "df.info()"
   ]
  },
  {
   "cell_type": "markdown",
   "metadata": {},
   "source": [
    "#### 5. Step: Remove entry with age<0"
   ]
  },
  {
   "cell_type": "code",
   "execution_count": 20,
   "metadata": {},
   "outputs": [
    {
     "data": {
      "text/html": [
       "<div>\n",
       "<style scoped>\n",
       "    .dataframe tbody tr th:only-of-type {\n",
       "        vertical-align: middle;\n",
       "    }\n",
       "\n",
       "    .dataframe tbody tr th {\n",
       "        vertical-align: top;\n",
       "    }\n",
       "\n",
       "    .dataframe thead th {\n",
       "        text-align: right;\n",
       "    }\n",
       "</style>\n",
       "<table border=\"1\" class=\"dataframe\">\n",
       "  <thead>\n",
       "    <tr style=\"text-align: right;\">\n",
       "      <th></th>\n",
       "      <th>patientID</th>\n",
       "      <th>appointmentID</th>\n",
       "      <th>gender</th>\n",
       "      <th>schedule_date</th>\n",
       "      <th>appointment_date</th>\n",
       "      <th>age</th>\n",
       "      <th>neighborhood</th>\n",
       "      <th>scholarship</th>\n",
       "      <th>hypertension</th>\n",
       "      <th>diabetes</th>\n",
       "      <th>alcoholism</th>\n",
       "      <th>handicap</th>\n",
       "      <th>sms_received</th>\n",
       "      <th>no_show</th>\n",
       "      <th>schedule_day</th>\n",
       "      <th>schedule_time</th>\n",
       "      <th>schedule_dow</th>\n",
       "      <th>appointment_day</th>\n",
       "      <th>appointment_dow</th>\n",
       "    </tr>\n",
       "  </thead>\n",
       "  <tbody>\n",
       "    <tr>\n",
       "      <th>99832</th>\n",
       "      <td>465943158731293</td>\n",
       "      <td>5775010</td>\n",
       "      <td>F</td>\n",
       "      <td>2016-06-06 08:58:13</td>\n",
       "      <td>2016-06-06</td>\n",
       "      <td>-1</td>\n",
       "      <td>ROMÃO</td>\n",
       "      <td>0</td>\n",
       "      <td>0</td>\n",
       "      <td>0</td>\n",
       "      <td>0</td>\n",
       "      <td>0</td>\n",
       "      <td>0</td>\n",
       "      <td>No</td>\n",
       "      <td>2016-06-06</td>\n",
       "      <td>08-58-13</td>\n",
       "      <td>1</td>\n",
       "      <td>2016-06-06</td>\n",
       "      <td>1</td>\n",
       "    </tr>\n",
       "  </tbody>\n",
       "</table>\n",
       "</div>"
      ],
      "text/plain": [
       "             patientID  appointmentID gender       schedule_date  \\\n",
       "99832  465943158731293        5775010      F 2016-06-06 08:58:13   \n",
       "\n",
       "      appointment_date  age neighborhood  scholarship  hypertension  diabetes  \\\n",
       "99832       2016-06-06   -1        ROMÃO            0             0         0   \n",
       "\n",
       "       alcoholism  handicap  sms_received no_show schedule_day schedule_time  \\\n",
       "99832           0         0             0      No   2016-06-06      08-58-13   \n",
       "\n",
       "      schedule_dow appointment_day appointment_dow  \n",
       "99832            1      2016-06-06               1  "
      ]
     },
     "execution_count": 20,
     "metadata": {},
     "output_type": "execute_result"
    }
   ],
   "source": [
    "# get index of the row with an age < 0\n",
    "df[df.age<0]"
   ]
  },
  {
   "cell_type": "code",
   "execution_count": 21,
   "metadata": {},
   "outputs": [
    {
     "name": "stdout",
     "output_type": "stream",
     "text": [
      "0\n"
     ]
    }
   ],
   "source": [
    "# remove entry with index 99832 ( see output above for the index age < 0)\n",
    "df.drop([99832], axis=0, inplace=True)\n",
    "# check if entry has been removed\n",
    "print(df[df.age < 0].shape[0])"
   ]
  },
  {
   "cell_type": "markdown",
   "metadata": {},
   "source": [
    "#### 6. Step: Convert column no_show into type int for better data evaluation"
   ]
  },
  {
   "cell_type": "code",
   "execution_count": 22,
   "metadata": {},
   "outputs": [
    {
     "name": "stdout",
     "output_type": "stream",
     "text": [
      "<class 'pandas.core.frame.DataFrame'>\n",
      "Int64Index: 110526 entries, 0 to 110526\n",
      "Data columns (total 19 columns):\n",
      "patientID           110526 non-null int64\n",
      "appointmentID       110526 non-null int64\n",
      "gender              110526 non-null object\n",
      "schedule_date       110526 non-null datetime64[ns]\n",
      "appointment_date    110526 non-null datetime64[ns]\n",
      "age                 110526 non-null int64\n",
      "neighborhood        110526 non-null object\n",
      "scholarship         110526 non-null int64\n",
      "hypertension        110526 non-null int64\n",
      "diabetes            110526 non-null int64\n",
      "alcoholism          110526 non-null int64\n",
      "handicap            110526 non-null int64\n",
      "sms_received        110526 non-null int64\n",
      "no_show             110526 non-null int64\n",
      "schedule_day        110526 non-null object\n",
      "schedule_time       110526 non-null object\n",
      "schedule_dow        110526 non-null object\n",
      "appointment_day     110526 non-null object\n",
      "appointment_dow     110526 non-null object\n",
      "dtypes: datetime64[ns](2), int64(10), object(7)\n",
      "memory usage: 16.9+ MB\n"
     ]
    }
   ],
   "source": [
    "# change data type of column no_show to int for better plotting possibilities\n",
    "# no_show = 0: patient showed up/ no_show = 1: patient did NOT show up\n",
    "df['no_show'] = df['no_show'].apply(lambda x: 1 if x == 'Yes' else 0)\n",
    "# check changes\n",
    "df.info()"
   ]
  },
  {
   "cell_type": "markdown",
   "metadata": {},
   "source": [
    "#### 7. Step: Create Masks for patients who showed up (df_Show) and patients who did not showed up (df_noShow)"
   ]
  },
  {
   "cell_type": "code",
   "execution_count": 23,
   "metadata": {},
   "outputs": [
    {
     "data": {
      "text/html": [
       "<div>\n",
       "<style scoped>\n",
       "    .dataframe tbody tr th:only-of-type {\n",
       "        vertical-align: middle;\n",
       "    }\n",
       "\n",
       "    .dataframe tbody tr th {\n",
       "        vertical-align: top;\n",
       "    }\n",
       "\n",
       "    .dataframe thead th {\n",
       "        text-align: right;\n",
       "    }\n",
       "</style>\n",
       "<table border=\"1\" class=\"dataframe\">\n",
       "  <thead>\n",
       "    <tr style=\"text-align: right;\">\n",
       "      <th></th>\n",
       "      <th>patientID</th>\n",
       "      <th>appointmentID</th>\n",
       "      <th>gender</th>\n",
       "      <th>schedule_date</th>\n",
       "      <th>appointment_date</th>\n",
       "      <th>age</th>\n",
       "      <th>neighborhood</th>\n",
       "      <th>scholarship</th>\n",
       "      <th>hypertension</th>\n",
       "      <th>diabetes</th>\n",
       "      <th>alcoholism</th>\n",
       "      <th>handicap</th>\n",
       "      <th>sms_received</th>\n",
       "      <th>no_show</th>\n",
       "      <th>schedule_day</th>\n",
       "      <th>schedule_time</th>\n",
       "      <th>schedule_dow</th>\n",
       "      <th>appointment_day</th>\n",
       "      <th>appointment_dow</th>\n",
       "    </tr>\n",
       "  </thead>\n",
       "  <tbody>\n",
       "    <tr>\n",
       "      <th>0</th>\n",
       "      <td>29872499824296</td>\n",
       "      <td>5642903</td>\n",
       "      <td>F</td>\n",
       "      <td>2016-04-29 18:38:08</td>\n",
       "      <td>2016-04-29</td>\n",
       "      <td>62</td>\n",
       "      <td>JARDIM DA PENHA</td>\n",
       "      <td>0</td>\n",
       "      <td>1</td>\n",
       "      <td>0</td>\n",
       "      <td>0</td>\n",
       "      <td>0</td>\n",
       "      <td>0</td>\n",
       "      <td>0</td>\n",
       "      <td>2016-04-29</td>\n",
       "      <td>18-38-08</td>\n",
       "      <td>5</td>\n",
       "      <td>2016-04-29</td>\n",
       "      <td>5</td>\n",
       "    </tr>\n",
       "    <tr>\n",
       "      <th>1</th>\n",
       "      <td>558997776694438</td>\n",
       "      <td>5642503</td>\n",
       "      <td>M</td>\n",
       "      <td>2016-04-29 16:08:27</td>\n",
       "      <td>2016-04-29</td>\n",
       "      <td>56</td>\n",
       "      <td>JARDIM DA PENHA</td>\n",
       "      <td>0</td>\n",
       "      <td>0</td>\n",
       "      <td>0</td>\n",
       "      <td>0</td>\n",
       "      <td>0</td>\n",
       "      <td>0</td>\n",
       "      <td>0</td>\n",
       "      <td>2016-04-29</td>\n",
       "      <td>16-08-27</td>\n",
       "      <td>5</td>\n",
       "      <td>2016-04-29</td>\n",
       "      <td>5</td>\n",
       "    </tr>\n",
       "    <tr>\n",
       "      <th>2</th>\n",
       "      <td>4262962299951</td>\n",
       "      <td>5642549</td>\n",
       "      <td>F</td>\n",
       "      <td>2016-04-29 16:19:04</td>\n",
       "      <td>2016-04-29</td>\n",
       "      <td>62</td>\n",
       "      <td>MATA DA PRAIA</td>\n",
       "      <td>0</td>\n",
       "      <td>0</td>\n",
       "      <td>0</td>\n",
       "      <td>0</td>\n",
       "      <td>0</td>\n",
       "      <td>0</td>\n",
       "      <td>0</td>\n",
       "      <td>2016-04-29</td>\n",
       "      <td>16-19-04</td>\n",
       "      <td>5</td>\n",
       "      <td>2016-04-29</td>\n",
       "      <td>5</td>\n",
       "    </tr>\n",
       "    <tr>\n",
       "      <th>3</th>\n",
       "      <td>867951213174</td>\n",
       "      <td>5642828</td>\n",
       "      <td>F</td>\n",
       "      <td>2016-04-29 17:29:31</td>\n",
       "      <td>2016-04-29</td>\n",
       "      <td>8</td>\n",
       "      <td>PONTAL DE CAMBURI</td>\n",
       "      <td>0</td>\n",
       "      <td>0</td>\n",
       "      <td>0</td>\n",
       "      <td>0</td>\n",
       "      <td>0</td>\n",
       "      <td>0</td>\n",
       "      <td>0</td>\n",
       "      <td>2016-04-29</td>\n",
       "      <td>17-29-31</td>\n",
       "      <td>5</td>\n",
       "      <td>2016-04-29</td>\n",
       "      <td>5</td>\n",
       "    </tr>\n",
       "    <tr>\n",
       "      <th>4</th>\n",
       "      <td>8841186448183</td>\n",
       "      <td>5642494</td>\n",
       "      <td>F</td>\n",
       "      <td>2016-04-29 16:07:23</td>\n",
       "      <td>2016-04-29</td>\n",
       "      <td>56</td>\n",
       "      <td>JARDIM DA PENHA</td>\n",
       "      <td>0</td>\n",
       "      <td>1</td>\n",
       "      <td>1</td>\n",
       "      <td>0</td>\n",
       "      <td>0</td>\n",
       "      <td>0</td>\n",
       "      <td>0</td>\n",
       "      <td>2016-04-29</td>\n",
       "      <td>16-07-23</td>\n",
       "      <td>5</td>\n",
       "      <td>2016-04-29</td>\n",
       "      <td>5</td>\n",
       "    </tr>\n",
       "  </tbody>\n",
       "</table>\n",
       "</div>"
      ],
      "text/plain": [
       "         patientID  appointmentID gender       schedule_date appointment_date  \\\n",
       "0   29872499824296        5642903      F 2016-04-29 18:38:08       2016-04-29   \n",
       "1  558997776694438        5642503      M 2016-04-29 16:08:27       2016-04-29   \n",
       "2    4262962299951        5642549      F 2016-04-29 16:19:04       2016-04-29   \n",
       "3     867951213174        5642828      F 2016-04-29 17:29:31       2016-04-29   \n",
       "4    8841186448183        5642494      F 2016-04-29 16:07:23       2016-04-29   \n",
       "\n",
       "   age       neighborhood  scholarship  hypertension  diabetes  alcoholism  \\\n",
       "0   62    JARDIM DA PENHA            0             1         0           0   \n",
       "1   56    JARDIM DA PENHA            0             0         0           0   \n",
       "2   62      MATA DA PRAIA            0             0         0           0   \n",
       "3    8  PONTAL DE CAMBURI            0             0         0           0   \n",
       "4   56    JARDIM DA PENHA            0             1         1           0   \n",
       "\n",
       "   handicap  sms_received  no_show schedule_day schedule_time schedule_dow  \\\n",
       "0         0             0        0   2016-04-29      18-38-08            5   \n",
       "1         0             0        0   2016-04-29      16-08-27            5   \n",
       "2         0             0        0   2016-04-29      16-19-04            5   \n",
       "3         0             0        0   2016-04-29      17-29-31            5   \n",
       "4         0             0        0   2016-04-29      16-07-23            5   \n",
       "\n",
       "  appointment_day appointment_dow  \n",
       "0      2016-04-29               5  \n",
       "1      2016-04-29               5  \n",
       "2      2016-04-29               5  \n",
       "3      2016-04-29               5  \n",
       "4      2016-04-29               5  "
      ]
     },
     "execution_count": 23,
     "metadata": {},
     "output_type": "execute_result"
    }
   ],
   "source": [
    "# seperate DataFrame into arrays with patients showed up and patients did not showed up \n",
    "\n",
    "# create data frame containing just person who showed up\n",
    "df_Show = df[df.no_show == 0]\n",
    "\n",
    "# create data frame containing just person who did NOT show up\n",
    "df_noShow = df[df.no_show == 1]\n",
    "\n",
    "# check if data frame df_noShow really consists of entries with no-show=Yes\n",
    "df_Show.head(5)"
   ]
  },
  {
   "cell_type": "markdown",
   "metadata": {},
   "source": [
    "<a id='eda'></a>\n",
    "## Data Analysis\n",
    "\n",
    "The following questions will be discussed in this section:\n",
    "- Research Question 1: Percentage of people showing up vs. not showing up\n",
    "- Research Question 2: Gender\n",
    "- Research Question 3: Influence of the age onto the attendance of an appointment\n",
    "- Research Question 4: Influence of a scholarship onto the attendance of an appointment\n",
    "- Research Question 5: Useful to receive a SMS\n",
    "- Research Question 6: Influence of receiving a SMS if a patient is member of a scholarship\n",
    "- Research Question 7: Influence of receiving a SMS if a patient has NO scholarship\n",
    "- Research Question 8: How does the day of the week relates to a No-Show Appointment?"
   ]
  },
  {
   "cell_type": "markdown",
   "metadata": {},
   "source": [
    "### Research Question 1: Percentage of people showing up vs. not showing up\n",
    "The first question deals with the question what is the percentage of the persons which show up compared with the persons which did not showed up. This section tries to understand how \"big\" the problem is that patient did not show up to an appointment. "
   ]
  },
  {
   "cell_type": "code",
   "execution_count": 24,
   "metadata": {},
   "outputs": [
    {
     "name": "stdout",
     "output_type": "stream",
     "text": [
      "          status  nof_patients     ratio\n",
      "0      showed up         88207  0.798066\n",
      "1  Not showed up         22319  0.201934\n"
     ]
    }
   ],
   "source": [
    "# calculate ratio of persons who showed up and who did not showed up\n",
    "prop_Show = df_Show.shape[0] / df.shape[0]\n",
    "prop_noShow = 1 - prop_Show\n",
    "\n",
    "# create new dataframe containing the \"show up\" status, the total number of persons and the ratio of these persons\n",
    "df_perc_show = pd.DataFrame([['showed up',df_Show.shape[0],prop_Show],['Not showed up',df_noShow.shape[0],prop_noShow]], columns=['status', 'nof_patients', 'ratio'])\n",
    "# print data frame\n",
    "print(df_perc_show)\n"
   ]
  },
  {
   "cell_type": "code",
   "execution_count": 25,
   "metadata": {},
   "outputs": [
    {
     "data": {
      "image/png": "[encoded data removed]",
      "text/plain": [
       "<matplotlib.figure.Figure at 0x7f2e690cea58>"
      ]
     },
     "metadata": {},
     "output_type": "display_data"
    }
   ],
   "source": [
    "# Create Pie Plot\n",
    "# Plot settings\n",
    "labels = ['No Show up', 'Showed Up']\n",
    "sizes = [prop_noShow, prop_Show]\n",
    "colors = ['red', 'blue']\n",
    "explode = (0, 0.1)\n",
    "\n",
    "# Pie plot\n",
    "plt.pie(sizes, explode=explode, labels=labels, colors=colors, autopct='%1.1f%%', shadow=True, startangle=315)\n",
    "plt.title('Status if a patient showed up or not')\n",
    "plt.axis('equal')\n",
    "fig = plt.gcf()\n",
    "fig.set_size_inches(4,4);"
   ]
  },
  {
   "cell_type": "markdown",
   "metadata": {},
   "source": [
    "#### Result\n",
    "About 80% of the patients showed up to the appointment and about 1/5 (20%) did not showed up."
   ]
  },
  {
   "cell_type": "markdown",
   "metadata": {},
   "source": [
    "### Research Question 2: Gender\n",
    "As a first analysis I will check if there are differences between the genders if a patient show up to an appointment or not. "
   ]
  },
  {
   "cell_type": "markdown",
   "metadata": {},
   "source": [
    "#### Male patients"
   ]
  },
  {
   "cell_type": "code",
   "execution_count": 26,
   "metadata": {},
   "outputs": [
    {
     "name": "stdout",
     "output_type": "stream",
     "text": [
      "          status  nof_males     ratio\n",
      "0      showed up      30962  0.800321\n",
      "1  Not showed up       7725  0.199679\n"
     ]
    }
   ],
   "source": [
    "# All Male patients\n",
    "df_male = df[df.gender=='M'];\n",
    "\n",
    "# create new dataframe containing the \"show up\" status, the total number of males and the ratio of these persons\n",
    "df_perc_male = pd.DataFrame([['showed up',df_male[df_male.no_show==0].shape[0],df_male[df_male.no_show==0].shape[0]/df_male.shape[0]],\n",
    "                               ['Not showed up',df_male[df_male.no_show==1].shape[0],df_male[df_male.no_show==1].shape[0]/df_male.shape[0]]], \n",
    "                              columns=['status', 'nof_males', 'ratio'])\n",
    "# print data frame\n",
    "print(df_perc_male)"
   ]
  },
  {
   "cell_type": "markdown",
   "metadata": {},
   "source": [
    "#### Female patients"
   ]
  },
  {
   "cell_type": "code",
   "execution_count": 27,
   "metadata": {},
   "outputs": [
    {
     "name": "stdout",
     "output_type": "stream",
     "text": [
      "          status  nof_females     ratio\n",
      "0      showed up        57245  0.796851\n",
      "1  Not showed up        14594  0.203149\n"
     ]
    }
   ],
   "source": [
    "# Female patients\n",
    "df_female = df[df.gender=='F'];\n",
    "\n",
    "# create new dataframe containing the \"show up\" status, the total number of females and the ratio of these persons\n",
    "df_perc_female = pd.DataFrame([['showed up',df_female[df_female.no_show==0].shape[0],df_female[df_female.no_show==0].shape[0]/df_female.shape[0]],\n",
    "                               ['Not showed up',df_female[df_female.no_show==1].shape[0],df_female[df_female.no_show==1].shape[0]/df_female.shape[0]]], \n",
    "                              columns=['status', 'nof_females', 'ratio'])\n",
    "# print data frame\n",
    "print(df_perc_female)"
   ]
  },
  {
   "cell_type": "markdown",
   "metadata": {},
   "source": [
    "#### Plot showing both gender"
   ]
  },
  {
   "cell_type": "code",
   "execution_count": 28,
   "metadata": {},
   "outputs": [
    {
     "data": {
      "image/png": "[encoded data removed]",
      "text/plain": [
       "<matplotlib.figure.Figure at 0x7f2e6a581c50>"
      ]
     },
     "metadata": {
      "needs_background": "light"
     },
     "output_type": "display_data"
    }
   ],
   "source": [
    "# plot \"showed up\" and \"no showed up\" data as bar chart, separated by gender\n",
    "df.gender[df.no_show == 0].value_counts().plot(kind='bar', alpha=0.5, color='blue', label='Showed Up');\n",
    "df.gender[df.no_show == 1].value_counts().plot(kind='bar', alpha=0.5, color='red', label='No showed up');\n",
    "# add legend\n",
    "plt.title('Attendance of an appointment - separated by gender');\n",
    "plt.xlabel(\"Gender\")\n",
    "plt.ylabel('Number of patients')\n",
    "plt.legend();"
   ]
  },
  {
   "cell_type": "markdown",
   "metadata": {},
   "source": [
    "#### Results\n",
    "In the available data there are around twice as much female (71839) compared to the male (38687) patients. <br>\n",
    "Nevertheless the ratio of the patients who showed up to an appointment does not differ so much, being 80.03% for the males and 79.69% for the females."
   ]
  },
  {
   "cell_type": "markdown",
   "metadata": {},
   "source": [
    "### Research Question 3: Influence of the age\n",
    "Next, I will analyse if the age of the patient has any influence on showing up to an appointment or not. "
   ]
  },
  {
   "cell_type": "markdown",
   "metadata": {},
   "source": [
    "#### Age evaluation for patients who showed up"
   ]
  },
  {
   "cell_type": "code",
   "execution_count": 29,
   "metadata": {},
   "outputs": [
    {
     "data": {
      "text/plain": [
       "37.790504154999034"
      ]
     },
     "execution_count": 29,
     "metadata": {},
     "output_type": "execute_result"
    }
   ],
   "source": [
    "# calculate mean age of persons who attend to the appointments\n",
    "df_Show.age.mean()"
   ]
  },
  {
   "cell_type": "code",
   "execution_count": 30,
   "metadata": {},
   "outputs": [
    {
     "data": {
      "text/plain": [
       "Text(0.5,1,'Age of patients who showed up')"
      ]
     },
     "execution_count": 30,
     "metadata": {},
     "output_type": "execute_result"
    },
    {
     "data": {
      "image/png": "[encoded data removed]",
      "text/plain": [
       "<matplotlib.figure.Figure at 0x7f2e689d0cf8>"
      ]
     },
     "metadata": {
      "needs_background": "light"
     },
     "output_type": "display_data"
    }
   ],
   "source": [
    "# create histogram plot for number of patients vs. age for patients showing up\n",
    "df_Show.age.hist(alpha=0.75,bins=25,label='show')\n",
    "\n",
    "# Plot settings\n",
    "plt.xlabel(\"Age\")\n",
    "plt.ylabel(\"Number of patients\")\n",
    "plt.title(\"Age of patients who showed up\")"
   ]
  },
  {
   "cell_type": "markdown",
   "metadata": {},
   "source": [
    "#### Age evaluation for patients who did NOT show up"
   ]
  },
  {
   "cell_type": "code",
   "execution_count": 31,
   "metadata": {},
   "outputs": [
    {
     "data": {
      "text/plain": [
       "34.317666562121957"
      ]
     },
     "execution_count": 31,
     "metadata": {},
     "output_type": "execute_result"
    }
   ],
   "source": [
    "# calculate mean age of persons who did NOT attend to the appointments\n",
    "df_noShow.age.mean()"
   ]
  },
  {
   "cell_type": "code",
   "execution_count": 32,
   "metadata": {},
   "outputs": [
    {
     "data": {
      "text/plain": [
       "Text(0.5,1,'Age of patients who did NOT show up')"
      ]
     },
     "execution_count": 32,
     "metadata": {},
     "output_type": "execute_result"
    },
    {
     "data": {
      "image/png": "[encoded data removed]",
      "text/plain": [
       "<matplotlib.figure.Figure at 0x7f2e6be40e10>"
      ]
     },
     "metadata": {
      "needs_background": "light"
     },
     "output_type": "display_data"
    }
   ],
   "source": [
    "# create histogram plot for number of patients vs. age for patients showing up\n",
    "df_noShow.age.hist(alpha=0.75,bins=25,label='no show up')\n",
    "\n",
    "# Plot settings\n",
    "plt.xlabel(\"Age\")\n",
    "plt.ylabel(\"Number of patients\")\n",
    "plt.title(\"Age of patients who did NOT show up\")"
   ]
  },
  {
   "cell_type": "markdown",
   "metadata": {},
   "source": [
    "#### Line Plot showing the probability of a patient for NOT showing up depending on the age"
   ]
  },
  {
   "cell_type": "code",
   "execution_count": 33,
   "metadata": {},
   "outputs": [
    {
     "data": {
      "image/png": "[encoded data removed]",
      "text/plain": [
       "<matplotlib.figure.Figure at 0x7f2e6bdafa90>"
      ]
     },
     "metadata": {
      "needs_background": "light"
     },
     "output_type": "display_data"
    }
   ],
   "source": [
    "# group data frame by age\n",
    "df_groupby_age = df.groupby(['age'])\n",
    "# line plot of no_show mean = probability of patient for NOT showing up depending on the age\n",
    "df_groupby_age['no_show'].mean().plot();\n",
    "\n",
    "# plot settings\n",
    "plt.xlabel(\"Age\");\n",
    "plt.ylabel(\"Probability for patient to NOT showing up\");\n",
    "plt.title(\"Probability of a patient for NOT showing up vs. age of the patient\");"
   ]
  },
  {
   "cell_type": "markdown",
   "metadata": {},
   "source": [
    "#### Histogram Plot for age comparison for patients who showed up and did NOT show up"
   ]
  },
  {
   "cell_type": "code",
   "execution_count": 34,
   "metadata": {},
   "outputs": [
    {
     "data": {
      "text/plain": [
       "<matplotlib.legend.Legend at 0x7f2e6bd06a90>"
      ]
     },
     "execution_count": 34,
     "metadata": {},
     "output_type": "execute_result"
    },
    {
     "data": {
      "image/png": "[encoded data removed]",
      "text/plain": [
       "<matplotlib.figure.Figure at 0x7f2e6bc841d0>"
      ]
     },
     "metadata": {
      "needs_background": "light"
     },
     "output_type": "display_data"
    }
   ],
   "source": [
    "# create histogram plot for number of patients vs. age for patients showing up\n",
    "df_Show.age.hist(alpha=0.5,bins=25,label='show')\n",
    "df_noShow.age.hist(alpha=0.5,bins=25,label='no show up')\n",
    "\n",
    "# Plot settings\n",
    "plt.xlabel(\"Age\")\n",
    "plt.ylabel(\"Number of patients\")\n",
    "plt.title(\"Age of patients\")\n",
    "plt.legend()"
   ]
  },
  {
   "cell_type": "markdown",
   "metadata": {},
   "source": [
    "#### Normalized histogram Plot for age comparison for patients who showed up and did NOT show up"
   ]
  },
  {
   "cell_type": "code",
   "execution_count": 35,
   "metadata": {},
   "outputs": [
    {
     "data": {
      "text/plain": [
       "<matplotlib.legend.Legend at 0x7f2e6ba90470>"
      ]
     },
     "execution_count": 35,
     "metadata": {},
     "output_type": "execute_result"
    },
    {
     "data": {
      "image/png": "[encoded data removed]",
      "text/plain": [
       "<matplotlib.figure.Figure at 0x7f2e6bbff518>"
      ]
     },
     "metadata": {
      "needs_background": "light"
     },
     "output_type": "display_data"
    }
   ],
   "source": [
    "# create histogram plot for number of patients vs. age for patients showing up\n",
    "df_Show.age.hist(density=1,alpha=0.5,bins=25,label='show')\n",
    "df_noShow.age.hist(density=1,alpha=0.5,bins=25,label='no show up')\n",
    "\n",
    "# Plot settings\n",
    "plt.xlabel(\"Age\")\n",
    "plt.ylabel(\"Number of patients\")\n",
    "plt.title(\"Age of patients\")\n",
    "plt.legend()"
   ]
  },
  {
   "cell_type": "markdown",
   "metadata": {},
   "source": [
    "#### Result\n",
    "The mean age of the patients showing up is about 37 years old compared with the age of 34 years for patients who did NOT showed up. \n",
    "Looking at the age comparison histogram plot, it looks like that the younger patients between 5 years and 40 years are more often not showing up while starting with ~45 years it looks like the patients more often show up than not showing up."
   ]
  },
  {
   "cell_type": "markdown",
   "metadata": {},
   "source": [
    "### Research Question 4: Influence of a scholarship onto the attendance of an appointment\n",
    "This section deals with the question if a scholarship has influence on the attendance of an appointment. Having a scholarship means that the patient is member of the social welfare program \"Bolsa Familia\" of the government of Brazil. "
   ]
  },
  {
   "cell_type": "markdown",
   "metadata": {},
   "source": [
    "#### Appearance of scholarships"
   ]
  },
  {
   "cell_type": "code",
   "execution_count": 36,
   "metadata": {},
   "outputs": [
    {
     "name": "stdout",
     "output_type": "stream",
     "text": [
      "                status  nof_patients     ratio\n",
      "0     with scholarship         10861  0.098266\n",
      "1  without scholarship         99665  0.901734\n"
     ]
    }
   ],
   "source": [
    "# Patients with a scholarship\n",
    "df_scholar = df[df.scholarship==1];\n",
    "\n",
    "# Patients without a scholarship\n",
    "df_no_scholar = df[df.scholarship==0];\n",
    "\n",
    "# create new dataframe containing the scholarship status, the total number of patients and the ratio of these persons\n",
    "df_perc_scholarship = pd.DataFrame([['with scholarship',df_scholar.shape[0],df_scholar.shape[0]/df.shape[0]],\n",
    "                               ['without scholarship',df_no_scholar.shape[0],df_no_scholar.shape[0]/df.shape[0]]], \n",
    "                              columns=['status', 'nof_patients', 'ratio'])\n",
    "\n",
    "#print data frame for visualization\n",
    "print(df_perc_scholarship)"
   ]
  },
  {
   "cell_type": "markdown",
   "metadata": {},
   "source": [
    "#### Patients with a scholarship"
   ]
  },
  {
   "cell_type": "code",
   "execution_count": 37,
   "metadata": {},
   "outputs": [
    {
     "name": "stdout",
     "output_type": "stream",
     "text": [
      "          status  nof_patients     ratio\n",
      "0      showed up          8283  0.762637\n",
      "1  Not showed up          2578  0.237363\n"
     ]
    }
   ],
   "source": [
    "# create new dataframe containing the \"show up\" status, the total number of patients and the ratio of these persons\n",
    "df_perc_scholar = pd.DataFrame([['showed up',df_scholar[df_scholar.no_show==0].shape[0],df_scholar[df_scholar.no_show==0].shape[0]/df_scholar.shape[0]],\n",
    "                               ['Not showed up',df_scholar[df_scholar.no_show==1].shape[0],df_scholar[df_scholar.no_show==1].shape[0]/df_scholar.shape[0]]], \n",
    "                              columns=['status', 'nof_patients', 'ratio'])\n",
    "# print data frame\n",
    "print(df_perc_scholar)"
   ]
  },
  {
   "cell_type": "markdown",
   "metadata": {},
   "source": [
    "#### Patients without a scholarship"
   ]
  },
  {
   "cell_type": "code",
   "execution_count": 38,
   "metadata": {},
   "outputs": [
    {
     "name": "stdout",
     "output_type": "stream",
     "text": [
      "          status  nof_patients     ratio\n",
      "0      showed up         79924  0.801926\n",
      "1  Not showed up         19741  0.198074\n"
     ]
    }
   ],
   "source": [
    "# create new dataframe containing the \"show up\" status, the total number of patients and the ratio of these persons\n",
    "df_perc_no_scholar = pd.DataFrame([['showed up',df_no_scholar[df_no_scholar.no_show==0].shape[0],df_no_scholar[df_no_scholar.no_show==0].shape[0]/df_no_scholar.shape[0]],\n",
    "                               ['Not showed up',df_no_scholar[df_no_scholar.no_show==1].shape[0],df_no_scholar[df_no_scholar.no_show==1].shape[0]/df_no_scholar.shape[0]]], \n",
    "                              columns=['status', 'nof_patients', 'ratio'])\n",
    "# print data frame\n",
    "print(df_perc_no_scholar)"
   ]
  },
  {
   "cell_type": "markdown",
   "metadata": {},
   "source": [
    "#### Plot attendance depending on a scholarship"
   ]
  },
  {
   "cell_type": "code",
   "execution_count": 39,
   "metadata": {},
   "outputs": [
    {
     "data": {
      "image/png": "[encoded data removed]",
      "text/plain": [
       "<matplotlib.figure.Figure at 0x7f2e6ba28a58>"
      ]
     },
     "metadata": {
      "needs_background": "light"
     },
     "output_type": "display_data"
    }
   ],
   "source": [
    "# create a bar plot to show the overall dependency\n",
    "df.scholarship[df.no_show == 0].value_counts().plot(kind='bar', alpha=0.5, color='blue', label='Showed Up');\n",
    "df.scholarship[df.no_show == 1].value_counts().plot(kind='bar', alpha=0.5, color='red', label='No showed up');\n",
    "# add plot information\n",
    "plt.title('Attendance of an appointment plotted versus the scholarship membership');\n",
    "plt.xlabel(\"Scholarship member?\")\n",
    "plt.ylabel('Number of patients')\n",
    "plt.legend();"
   ]
  },
  {
   "cell_type": "markdown",
   "metadata": {},
   "source": [
    "#### Results\n",
    "90.18% of the patients (99665) have no scholarship. This leaves 10861 or 9.82% of the patients with a scholarship. \n",
    "From the persons having a scholarship, 8283 or 76.26% of the persons showed up at their appointment compared to a showing up rate of 80.20% showing up rate if the persons do not have a scholarship. "
   ]
  },
  {
   "cell_type": "markdown",
   "metadata": {},
   "source": [
    "### Research Question 5: Useful to receive a SMS\n",
    "In this section I try to figure out if it is useful to receive a SMS remembering the appointment. <br>\n",
    "Within this dataset it is not clear when exactly is the reminder SMS send."
   ]
  },
  {
   "cell_type": "markdown",
   "metadata": {},
   "source": [
    "#### How many patients received a SMS"
   ]
  },
  {
   "cell_type": "code",
   "execution_count": 40,
   "metadata": {},
   "outputs": [
    {
     "name": "stdout",
     "output_type": "stream",
     "text": [
      "         status  nof_patients     ratio\n",
      "0  received SMS         35482  0.321029\n",
      "1        no SMS         75044  0.678971\n"
     ]
    }
   ],
   "source": [
    "# Patients receiving a SMS\n",
    "df_sms = df[df.sms_received==1];\n",
    "\n",
    "# Patients who did not received a SMS\n",
    "df_no_sms = df[df.sms_received==0];\n",
    "\n",
    "# create new dataframe containing the \"SMS received\" status, the total number of patients and the ratio of these persons\n",
    "df_perc_sms = pd.DataFrame([['received SMS',df_sms.shape[0],df_sms.shape[0]/df.shape[0]],\n",
    "                               ['no SMS',df_no_sms.shape[0],df_no_sms.shape[0]/df.shape[0]]], \n",
    "                              columns=['status', 'nof_patients', 'ratio'])\n",
    "\n",
    "#print data frame for visualization\n",
    "print(df_perc_sms)"
   ]
  },
  {
   "cell_type": "markdown",
   "metadata": {},
   "source": [
    "#### Patients received a SMS"
   ]
  },
  {
   "cell_type": "code",
   "execution_count": 41,
   "metadata": {},
   "outputs": [
    {
     "name": "stdout",
     "output_type": "stream",
     "text": [
      "          status  nof_patients     ratio\n",
      "0      showed up         25698  0.724255\n",
      "1  Not showed up          9784  0.275745\n"
     ]
    }
   ],
   "source": [
    "# create new dataframe containing the \"show up\" status, the total number of patients and the ratio of these persons\n",
    "df_perc_sms_rec = pd.DataFrame([['showed up',df_sms[df_sms.no_show==0].shape[0],df_sms[df_sms.no_show==0].shape[0]/df_sms.shape[0]],\n",
    "                               ['Not showed up',df_sms[df_sms.no_show==1].shape[0],df_sms[df_sms.no_show==1].shape[0]/df_sms.shape[0]]], \n",
    "                              columns=['status', 'nof_patients', 'ratio'])\n",
    "# print data frame\n",
    "print(df_perc_sms_rec)"
   ]
  },
  {
   "cell_type": "markdown",
   "metadata": {},
   "source": [
    "#### Patients received no SMS"
   ]
  },
  {
   "cell_type": "code",
   "execution_count": 42,
   "metadata": {},
   "outputs": [
    {
     "name": "stdout",
     "output_type": "stream",
     "text": [
      "          status  nof_patients     ratio\n",
      "0      showed up         62509  0.832965\n",
      "1  Not showed up         12535  0.167035\n"
     ]
    }
   ],
   "source": [
    "# create new dataframe containing the \"show up\" status, the total number of patients and the ratio of these persons\n",
    "df_perc_no_sms = pd.DataFrame([['showed up',df_no_sms[df_no_sms.no_show==0].shape[0],df_no_sms[df_no_sms.no_show==0].shape[0]/df_no_sms.shape[0]],\n",
    "                               ['Not showed up',df_no_sms[df_no_sms.no_show==1].shape[0],df_no_sms[df_no_sms.no_show==1].shape[0]/df_no_sms.shape[0]]], \n",
    "                              columns=['status', 'nof_patients', 'ratio'])\n",
    "# print data frame\n",
    "print(df_perc_no_sms)"
   ]
  },
  {
   "cell_type": "markdown",
   "metadata": {},
   "source": [
    "#### Bar plot showing the dependency of receiving a SMS to the attendance of an appointment"
   ]
  },
  {
   "cell_type": "code",
   "execution_count": 43,
   "metadata": {},
   "outputs": [
    {
     "data": {
      "image/png": "[encoded data removed]",
      "text/plain": [
       "<matplotlib.figure.Figure at 0x7f2e6badef60>"
      ]
     },
     "metadata": {
      "needs_background": "light"
     },
     "output_type": "display_data"
    }
   ],
   "source": [
    "# create a bar plot to show the overall dependency\n",
    "df.sms_received[df.no_show == 0].value_counts().plot(kind='bar', alpha=0.5, color='blue', label='Showed Up');\n",
    "df.sms_received[df.no_show == 1].value_counts().plot(kind='bar', alpha=0.5, color='red', label='No showed up');\n",
    "# add plot information\n",
    "plt.title('Attendance of an appointment plotted versus receiving a SMS');\n",
    "plt.xlabel(\"SMS received?\")\n",
    "plt.ylabel('Number of patients')\n",
    "plt.legend();"
   ]
  },
  {
   "cell_type": "markdown",
   "metadata": {},
   "source": [
    "#### Result\n",
    "Out of the available data, 32.10% (35482) patients received a SMS, leaving 67.79% (75044) persons without a SMS. 72.43% of the persons who received a SMS showed up their appointment, compared with 83.30% showing up at an appointment without receiving a SMS, leaves to the assumption that receiving a SMS could lead to the effect that the persons do not show up at their appointment. "
   ]
  },
  {
   "cell_type": "markdown",
   "metadata": {},
   "source": [
    "### Research Question 6: Influence of receiving a SMS if a patient is member of a scholarship\n",
    "In this section I rise the question if it is useful to receive a SMS remembering the appointment if a patient is also has a scholarship. <br>"
   ]
  },
  {
   "cell_type": "markdown",
   "metadata": {},
   "source": [
    "#### Overview of receiving a SMS if a patient has a scholarship "
   ]
  },
  {
   "cell_type": "code",
   "execution_count": 44,
   "metadata": {},
   "outputs": [
    {
     "name": "stdout",
     "output_type": "stream",
     "text": [
      "          status  nof_patients_with_scholarship\n",
      "0  receiving SMS                           3505\n",
      "1         no SMS                           7356\n"
     ]
    }
   ],
   "source": [
    "# Patients with a scholarship who received a SMS\n",
    "df_scholar_sms = df_sms[df_sms.scholarship==1];\n",
    "\n",
    "# Patients with a scholarship who did NOT received a SMS\n",
    "df_scholar_no_sms = df_no_sms[df_no_sms.scholarship==1];\n",
    "\n",
    "# create new dataframe containing the SMS status, the total number of patients who received a S;S and the ratio of these persons\n",
    "df_perc_scholarship_sms = pd.DataFrame([['receiving SMS',df_scholar_sms.shape[0]],\n",
    "                               ['no SMS',df_scholar_no_sms.shape[0]]], \n",
    "                              columns=['status', 'nof_patients_with_scholarship'])\n",
    "\n",
    "# print data frame\n",
    "print(df_perc_scholarship_sms)"
   ]
  },
  {
   "cell_type": "markdown",
   "metadata": {},
   "source": [
    "#### Patients who have a scholarship and received a SMS"
   ]
  },
  {
   "cell_type": "code",
   "execution_count": 45,
   "metadata": {},
   "outputs": [
    {
     "name": "stdout",
     "output_type": "stream",
     "text": [
      "          status  nof_patients     ratio\n",
      "0      showed up          2321  0.662197\n",
      "1  Not showed up          1184  0.337803\n"
     ]
    }
   ],
   "source": [
    "# create new dataframe containing the \"show up\" status, the total number of patients and the ratio of these persons\n",
    "df_perc_scholar_sms_rec = pd.DataFrame([['showed up',df_scholar_sms[df_scholar_sms.no_show==0].shape[0],df_scholar_sms[df_scholar_sms.no_show==0].shape[0]/df_scholar_sms.shape[0]],\n",
    "                               ['Not showed up',df_scholar_sms[df_scholar_sms.no_show==1].shape[0],df_scholar_sms[df_scholar_sms.no_show==1].shape[0]/df_scholar_sms.shape[0]]], \n",
    "                              columns=['status', 'nof_patients', 'ratio'])\n",
    "# print data frame\n",
    "print(df_perc_scholar_sms_rec)"
   ]
  },
  {
   "cell_type": "markdown",
   "metadata": {},
   "source": [
    "#### Patients who have a scholarship and did NOT received a SMS"
   ]
  },
  {
   "cell_type": "code",
   "execution_count": 46,
   "metadata": {},
   "outputs": [
    {
     "name": "stdout",
     "output_type": "stream",
     "text": [
      "          status  nof_patients     ratio\n",
      "0      showed up          5962  0.810495\n",
      "1  Not showed up          1394  0.189505\n"
     ]
    }
   ],
   "source": [
    "# create new dataframe containing the \"show up\" status, the total number of patients and the ratio of these persons\n",
    "df_perc_scholar_no_sms_rec = pd.DataFrame([['showed up',df_scholar_no_sms[df_scholar_no_sms.no_show==0].shape[0],df_scholar_no_sms[df_scholar_no_sms.no_show==0].shape[0]/df_scholar_no_sms.shape[0]],\n",
    "                               ['Not showed up',df_scholar_no_sms[df_scholar_no_sms.no_show==1].shape[0],df_scholar_no_sms[df_scholar_no_sms.no_show==1].shape[0]/df_scholar_no_sms.shape[0]]], \n",
    "                              columns=['status', 'nof_patients', 'ratio'])\n",
    "# print data frame\n",
    "print(df_perc_scholar_no_sms_rec)"
   ]
  },
  {
   "cell_type": "markdown",
   "metadata": {},
   "source": [
    "#### Bar plot showing the dependency of receiving a SMS to the attendance of an appointment if a patient has a scholarship"
   ]
  },
  {
   "cell_type": "code",
   "execution_count": 47,
   "metadata": {},
   "outputs": [
    {
     "data": {
      "image/png": "[encoded data removed]",
      "text/plain": [
       "<matplotlib.figure.Figure at 0x7f2e6b9e5780>"
      ]
     },
     "metadata": {
      "needs_background": "light"
     },
     "output_type": "display_data"
    }
   ],
   "source": [
    "# create a bar plot to show the overall dependency\n",
    "df_scholar.sms_received[df.no_show == 0].value_counts().plot(kind='bar', alpha=0.5, color='blue', label='Showed Up');\n",
    "df_scholar.sms_received[df.no_show == 1].value_counts().plot(kind='bar', alpha=0.5, color='red', label='No showed up');\n",
    "# add plot information\n",
    "plt.title('Attendance of an appointment of a patient with scholarship depending on receiving a SMS');\n",
    "plt.xlabel(\"SMS received?\")\n",
    "plt.ylabel('Number of patients')\n",
    "plt.legend();"
   ]
  },
  {
   "cell_type": "markdown",
   "metadata": {},
   "source": [
    "#### Result\n",
    "If a patient has a scholarship and received a SMS, the probability to attend at the appointment is 66.22%, if a patient with a scholarship does not receive a SMS the percentage of the attendance increased to 81.05%, so it looks like that it is contra-productive to send out SMS to patients having a scholarship."
   ]
  },
  {
   "cell_type": "markdown",
   "metadata": {},
   "source": [
    "### Research Question 7: Influence of receiving a SMS if a patient has NO scholarship\n",
    "In the seventh data analysis section I try to answer the question if it is useful to receive a SMS remembering the appointment if a patient has NO scholarship. <br>"
   ]
  },
  {
   "cell_type": "markdown",
   "metadata": {},
   "source": [
    "#### Overview of receiving a SMS if a patient NO scholarship "
   ]
  },
  {
   "cell_type": "code",
   "execution_count": 48,
   "metadata": {},
   "outputs": [
    {
     "name": "stdout",
     "output_type": "stream",
     "text": [
      "          status  nof_patients_without_scholarship\n",
      "0  receiving SMS                             31977\n",
      "1         no SMS                             67688\n"
     ]
    }
   ],
   "source": [
    "# Patients without a scholarship who received a SMS\n",
    "df_no_scholar_sms = df_sms[df_sms.scholarship==0];\n",
    "\n",
    "# Patients without a scholarship who did NOT received a SMS\n",
    "df_no_scholar_no_sms = df_no_sms[df_no_sms.scholarship==0];\n",
    "\n",
    "# create new dataframe containing the SMS status, the total number of patients who received a S;S and the ratio of these persons\n",
    "df_perc_no_scholarship_sms = pd.DataFrame([['receiving SMS',df_no_scholar_sms.shape[0]],\n",
    "                               ['no SMS',df_no_scholar_no_sms.shape[0]]], \n",
    "                              columns=['status', 'nof_patients_without_scholarship'])\n",
    "\n",
    "# print data frame\n",
    "print(df_perc_no_scholarship_sms)"
   ]
  },
  {
   "cell_type": "markdown",
   "metadata": {},
   "source": [
    "#### Patients who have NO scholarship and received a SMS"
   ]
  },
  {
   "cell_type": "code",
   "execution_count": 49,
   "metadata": {},
   "outputs": [
    {
     "name": "stdout",
     "output_type": "stream",
     "text": [
      "          status  nof_patients     ratio\n",
      "0      showed up         23377  0.731057\n",
      "1  Not showed up          8600  0.268943\n"
     ]
    }
   ],
   "source": [
    "# create new dataframe containing the \"show up\" status, the total number of patients and the ratio of these persons\n",
    "df_perc_no_scholar_sms_rec = pd.DataFrame([['showed up',df_no_scholar_sms[df_no_scholar_sms.no_show==0].shape[0],df_no_scholar_sms[df_no_scholar_sms.no_show==0].shape[0]/df_no_scholar_sms.shape[0]],\n",
    "                               ['Not showed up',df_no_scholar_sms[df_no_scholar_sms.no_show==1].shape[0],df_no_scholar_sms[df_no_scholar_sms.no_show==1].shape[0]/df_no_scholar_sms.shape[0]]], \n",
    "                              columns=['status', 'nof_patients', 'ratio'])\n",
    "# print data frame\n",
    "print(df_perc_no_scholar_sms_rec)"
   ]
  },
  {
   "cell_type": "markdown",
   "metadata": {},
   "source": [
    "#### Patients who have NO scholarship and did NOT received a SMS"
   ]
  },
  {
   "cell_type": "code",
   "execution_count": 50,
   "metadata": {},
   "outputs": [
    {
     "name": "stdout",
     "output_type": "stream",
     "text": [
      "          status  nof_patients     ratio\n",
      "0      showed up         56547  0.835407\n",
      "1  Not showed up         11141  0.164593\n"
     ]
    }
   ],
   "source": [
    "# create new dataframe containing the \"show up\" status, the total number of patients and the ratio of these persons\n",
    "df_perc_no_scholar_no_sms_rec = pd.DataFrame([['showed up',df_no_scholar_no_sms[df_no_scholar_no_sms.no_show==0].shape[0],df_no_scholar_no_sms[df_no_scholar_no_sms.no_show==0].shape[0]/df_no_scholar_no_sms.shape[0]],\n",
    "                               ['Not showed up',df_no_scholar_no_sms[df_no_scholar_no_sms.no_show==1].shape[0],df_no_scholar_no_sms[df_no_scholar_no_sms.no_show==1].shape[0]/df_no_scholar_no_sms.shape[0]]], \n",
    "                              columns=['status', 'nof_patients', 'ratio'])\n",
    "# print data frame\n",
    "print(df_perc_no_scholar_no_sms_rec)"
   ]
  },
  {
   "cell_type": "markdown",
   "metadata": {},
   "source": [
    "#### Bar plot showing the dependency of receiving a SMS to the attendance of an appointment if a patient has NO scholarship"
   ]
  },
  {
   "cell_type": "code",
   "execution_count": 51,
   "metadata": {},
   "outputs": [
    {
     "data": {
      "image/png": "[encoded data removed]",
      "text/plain": [
       "<matplotlib.figure.Figure at 0x7f2e6bc21860>"
      ]
     },
     "metadata": {
      "needs_background": "light"
     },
     "output_type": "display_data"
    }
   ],
   "source": [
    "# create a bar plot to show the overall dependency\n",
    "df_no_scholar.sms_received[df.no_show == 0].value_counts().plot(kind='bar', alpha=0.5, color='blue', label='Showed Up');\n",
    "df_no_scholar.sms_received[df.no_show == 1].value_counts().plot(kind='bar', alpha=0.5, color='red', label='No showed up');\n",
    "# add plot information\n",
    "plt.title('Attendance of an appointment of a patient without scholarship depending on receiving a SMS');\n",
    "plt.xlabel(\"SMS received?\")\n",
    "plt.ylabel('Number of patients')\n",
    "plt.legend();"
   ]
  },
  {
   "cell_type": "markdown",
   "metadata": {},
   "source": [
    "#### Result\n",
    "If a patient has NO scholarship and received a SMS, the probability to attend at the appointment is 73.11%, if a patient without scholarship does not receive a SMS the percentage of the attendance increased to 83.54%, so it looks like that it is also here contra-productive to send out SMS to patients having NO scholarship."
   ]
  },
  {
   "cell_type": "markdown",
   "metadata": {},
   "source": [
    "### Research Question 8: How does the day of the week relates to a No-Show Appointment?\n",
    "The last question I will answer in this report deals with the question how does the day of the week influences the no-show up to an appointment."
   ]
  },
  {
   "cell_type": "code",
   "execution_count": 52,
   "metadata": {},
   "outputs": [
    {
     "data": {
      "text/html": [
       "<div>\n",
       "<style scoped>\n",
       "    .dataframe tbody tr th:only-of-type {\n",
       "        vertical-align: middle;\n",
       "    }\n",
       "\n",
       "    .dataframe tbody tr th {\n",
       "        vertical-align: top;\n",
       "    }\n",
       "\n",
       "    .dataframe thead th {\n",
       "        text-align: right;\n",
       "    }\n",
       "</style>\n",
       "<table border=\"1\" class=\"dataframe\">\n",
       "  <thead>\n",
       "    <tr style=\"text-align: right;\">\n",
       "      <th></th>\n",
       "      <th>no_show</th>\n",
       "    </tr>\n",
       "    <tr>\n",
       "      <th>appointment_dow</th>\n",
       "      <th></th>\n",
       "    </tr>\n",
       "  </thead>\n",
       "  <tbody>\n",
       "    <tr>\n",
       "      <th>1</th>\n",
       "      <td>0.206481</td>\n",
       "    </tr>\n",
       "    <tr>\n",
       "      <th>2</th>\n",
       "      <td>0.200936</td>\n",
       "    </tr>\n",
       "    <tr>\n",
       "      <th>3</th>\n",
       "      <td>0.196892</td>\n",
       "    </tr>\n",
       "    <tr>\n",
       "      <th>4</th>\n",
       "      <td>0.193541</td>\n",
       "    </tr>\n",
       "    <tr>\n",
       "      <th>5</th>\n",
       "      <td>0.212261</td>\n",
       "    </tr>\n",
       "    <tr>\n",
       "      <th>6</th>\n",
       "      <td>0.230769</td>\n",
       "    </tr>\n",
       "  </tbody>\n",
       "</table>\n",
       "</div>"
      ],
      "text/plain": [
       "                  no_show\n",
       "appointment_dow          \n",
       "1                0.206481\n",
       "2                0.200936\n",
       "3                0.196892\n",
       "4                0.193541\n",
       "5                0.212261\n",
       "6                0.230769"
      ]
     },
     "execution_count": 52,
     "metadata": {},
     "output_type": "execute_result"
    }
   ],
   "source": [
    "# create new data frame containing the appointment day of the week (appointment_dow) and the no_show probability\n",
    "df_groupby_dow = pd.DataFrame(df.groupby(['appointment_dow'])['no_show'].mean())\n",
    "\n",
    "df_groupby_dow.head(7)"
   ]
  },
  {
   "cell_type": "code",
   "execution_count": 53,
   "metadata": {},
   "outputs": [
    {
     "data": {
      "image/png": "[encoded data removed]",
      "text/plain": [
       "<matplotlib.figure.Figure at 0x7f2e6b88f4a8>"
      ]
     },
     "metadata": {
      "needs_background": "light"
     },
     "output_type": "display_data"
    }
   ],
   "source": [
    "# Create Scatter Plot\n",
    "plt.scatter(df_groupby_dow.index, df_groupby_dow.no_show)\n",
    "# Plot Settings\n",
    "labels_xticks = ['Mon', 'Tue', 'Wed', 'Thu', 'Fri', 'Sat'];\n",
    "plt.xticks(df_groupby_dow.index, labels_xticks, rotation='vertical')\n",
    "plt.xlabel(\"Day of the Week of the appointment\")\n",
    "plt.ylabel(\"Probability for patient to NOT showing up\");\n",
    "plt.title(\"Probability of a patient for NOT showing up vs. day of the week\");\n",
    "plt.show()"
   ]
  },
  {
   "cell_type": "markdown",
   "metadata": {},
   "source": [
    "#### Result\n",
    "The above figure shows that the probability of NOT showing up at an appointment decreases from Monday (20.65%) to Thursdays (19.35%) where it reaches the lowest point. The probability increases again from Thursdays to Fridays (21.23%) up to the highest value on Saturdays (23.08%)."
   ]
  },
  {
   "cell_type": "markdown",
   "metadata": {},
   "source": [
    "<a id='conclusions'></a>\n",
    "## Conclusions\n",
    "\n",
    "* About 80% of the patients showed up to the appointment and about 1/5 (20%) did not showed up.\n",
    "\n",
    "* In the available data there are around twice as much female (71839) compared to the male (38687) patients. Nevertheless the ratio of the patients who showed up to an appointment does not differ so much, being 80.03% for the males and 79.69% for the females.\n",
    "\n",
    "* The mean age of the patients showing up is about 37 years old compared with the age of 34 years for patients who did NOT showed up. Looking at the age comparison histogram plot, it looks like that the younger patients between 5 years and 40 years are more often not showing up while starting with ~45 years it looks like the patients more often show up than not showing up. <br>\n",
    " * **So the age could be an indicator if a patient will show up or not.**\n",
    "\n",
    "* 90.18% of the patients (99665) have no scholarship. This leaves 10861 or 9.82% of the patients with a scholarship. From the persons having a scholarship, 8283 or 76.26% of the persons showed up at their appointment compared to a showing up rate of 80.20% showing up rate if the persons do not have a scholarship. <br> \n",
    " * **So there is a slightly indicator that patients having a scholarship are more often missing their appointments.**\n",
    "\n",
    "* Sending a SMS reminder does not increase the patient´s show up\n",
    " * Not in general and it also does not matter if the patients have a scholarship or not\n",
    " \n",
    "* Looking at the day of the week, **the highest probability that patients will NOT show up is found on Saturdays** (no-show up probability=23.08%), whereas the highest probability of patient to show up is given on Thursdays (no-show up probability=19.35%).  \n",
    "\n",
    "\n",
    "### Limitations\n",
    "- Some data were still unclear, e.g. the enormous amount of patients with an ages = 0\n",
    " - Were they all new-born children, were the age unknown?\n",
    "- In other cases, some more datawould help to invesetigate the dataset a little bit more, like the question at which time did the patient received the reminder SMS? \n",
    "\n",
    "\n",
    "\n",
    "## Submitting your Project \n",
    "\n",
    "> Before you submit your project, you need to create a .html or .pdf version of this notebook in the workspace here. To do that, run the code cell below. If it worked correctly, you should get a return code of 0, and you should see the generated .html file in the workspace directory (click on the orange Jupyter icon in the upper left).\n",
    "\n",
    "> Alternatively, you can download this report as .html via the **File** > **Download as** submenu, and then manually upload it into the workspace directory by clicking on the orange Jupyter icon in the upper left, then using the Upload button.\n",
    "\n",
    "> Once you've done this, you can submit your project by clicking on the \"Submit Project\" button in the lower right here. This will create and submit a zip file with this .ipynb doc and the .html or .pdf version you created. Congratulations!"
   ]
  },
  {
   "cell_type": "markdown",
   "metadata": {},
   "source": [
    "<a id='ref'></a>\n",
    "## References\n",
    "Date formats: https://pandas.pydata.org/pandas-docs/stable/reference/api/pandas.Period.strftime.html <br>\n",
    "Information about the Bolsa Familia program: https://en.wikipedia.org/wiki/Bolsa_Fam%C3%ADlia <br>\n",
    "Normalizing a histogram: https://stackoverflow.com/questions/17874063/is-there-a-parameter-in-matplotlib-pandas-to-have-the-y-axis-of-a-histogram-as-p <br>\n",
    "Markdown Notes: https://github.com/adam-p/markdown-here/wiki/Markdown-Cheatsheet <br>\n",
    "Add Column to data frame in pandas: https://www.geeksforgeeks.org/adding-new-column-to-existing-dataframe-in-pandas/ <br>\n",
    "Scatter Plot: https://pandas.pydata.org/pandas-docs/stable/reference/api/pandas.DataFrame.plot.scatter.html?highlight=scatter#pandas.DataFrame.plot.scatter <br>\n",
    "Change xticks at scatter plot: https://stackoverflow.com/questions/26358200/xticks-by-pandas-plot-rename-with-the-string <br>"
   ]
  },
  {
   "cell_type": "code",
   "execution_count": 54,
   "metadata": {},
   "outputs": [
    {
     "data": {
      "text/plain": [
       "0"
      ]
     },
     "execution_count": 54,
     "metadata": {},
     "output_type": "execute_result"
    }
   ],
   "source": [
    "from subprocess import call\n",
    "call(['python', '-m', 'nbconvert', 'Investigate_a_Dataset.ipynb'])"
   ]
  }
 ],
 "metadata": {
  "kernelspec": {
   "display_name": "Python 3",
   "language": "python",
   "name": "python3"
  },
  "language_info": {
   "codemirror_mode": {
    "name": "ipython",
    "version": 3
   },
   "file_extension": ".py",
   "mimetype": "text/x-python",
   "name": "python",
   "nbconvert_exporter": "python",
   "pygments_lexer": "ipython3",
   "version": "3.6.3"
  }
 },
 "nbformat": 4,
 "nbformat_minor": 2
}
