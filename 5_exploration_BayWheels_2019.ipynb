{
 "cells": [
  {
   "cell_type": "markdown",
   "metadata": {},
   "source": [
    "# Project: Communicate Data Findings about Lyft´s Bay Wheels 2019\n"
   ]
  },
  {
   "cell_type": "markdown",
   "metadata": {},
   "source": [
    "## Table Of Content\n",
    "\n",
    "- [Introduction](#intro)\n",
    "- [Preliminary Data Wrangling](#wrangling)\n",
    " - [Gathering Data](#gather)\n",
    " - [Assessing Data](#assess)\n",
    " - [Cleaning Data](#clean)\n",
    " - [Storing Data](#storing)\n",
    "- [Data Exploration](#exploration)\n",
    " - [Univariate Exploration](#explor_uni)\n",
    " - [Bivariate Exploration & Multivariate Exploration](#explor_multi)\n",
    "- [Summary](#summary)\n",
    "- [References](#references)\n"
   ]
  },
  {
   "cell_type": "markdown",
   "metadata": {},
   "source": [
    "<a id='intro'></a>\n",
    "## Introduction\n",
    "Lyft´s Bay Wheels (formerly known as Ford GoBike) is a bicycle sharing system in the San Francisco Bay Area, California. The dataset Lyft is offering contains information about the duration, starting and end point of the trip, as well as additional information about the user and the trip itself. The data are saved in monthly csv files. Within this project I will analyse the program data for the year 2019. <br>\n",
    "\n",
    "The data was downloaded from the following page: https://www.lyft.com/bikes/bay-wheels/system-data. <br>"
   ]
  },
  {
   "cell_type": "code",
   "execution_count": 1,
   "metadata": {},
   "outputs": [],
   "source": [
    "# import packages\n",
    "\n",
    "import pandas as pd\n",
    "# import numpy\n",
    "import numpy as np\n",
    "# import matplotlib\n",
    "import matplotlib.pyplot as plt\n",
    "%matplotlib inline\n",
    "# import seaborn\n",
    "import seaborn as sns\n",
    "# import glob\n",
    "import glob\n",
    "# import package for file handling\n",
    "import os"
   ]
  },
  {
   "cell_type": "markdown",
   "metadata": {},
   "source": [
    "<a id='wrangling'></a>\n",
    "## Preliminary Data Wrangling\n",
    "The preliminary data wrangling process consists of four parts. In this project the data are saved in twelve individual csv files which corresponds to each month of the year 2019. Within the first part, Gathering Data, all the files will be read and the corresponding data frames will be concatenated into the data frame df. Subsequently, the data will be assessed and the quality and tidiness issues collected. Afterwards, the identified quality and tidiness issues will be cleaned. In the last part of the data wrangling section, the cleaned data will be stored in a new csv file that the cleaning steps do not need to be repeated in the future. "
   ]
  },
  {
   "cell_type": "markdown",
   "metadata": {},
   "source": [
    "<a id='gather'></a>\n",
    "### Gathering Data"
   ]
  },
  {
   "cell_type": "code",
   "execution_count": 2,
   "metadata": {},
   "outputs": [
    {
     "name": "stdout",
     "output_type": "stream",
     "text": [
      "Merged file exists\n"
     ]
    },
    {
     "name": "stderr",
     "output_type": "stream",
     "text": [
      "D:\\Users\\jklinder\\anaconda3\\lib\\site-packages\\IPython\\core\\interactiveshell.py:3063: DtypeWarning: Columns (13,14) have mixed types.Specify dtype option on import or set low_memory=False.\n",
      "  interactivity=interactivity, compiler=compiler, result=result)\n"
     ]
    },
    {
     "name": "stdout",
     "output_type": "stream",
     "text": [
      "File content loaded into data frame\n"
     ]
    }
   ],
   "source": [
    "# check if merged file already exists\n",
    "# if not: create a merged file out of the 12 single files\n",
    "if os.path.isfile('2019-baywheels-tripdata.csv'):\n",
    "    print (\"Merged file exists\")\n",
    "    df = pd.read_csv('2019-baywheels-tripdata.csv');\n",
    "    print('File content loaded into data frame')\n",
    "else:\n",
    "    print (\"File does not exist. Creating merged file...\")\n",
    "    # get all csv files in folder\n",
    "    files = glob.glob(os.path.join(\"*.csv\"));\n",
    "    # create temp. data\n",
    "    tmp_frames = [pd.read_csv(f) for f in files];\n",
    "    # create data frame\n",
    "    df = pd.concat(tmp_frames, ignore_index=True);\n",
    "    # write concatenated data frames into 1 csv file\n",
    "    df.to_csv('2019-baywheels-tripdata.csv', index = False);\n",
    "    print('Created merged file 2019-baywheels-tripdata.csv')"
   ]
  },
  {
   "cell_type": "markdown",
   "metadata": {},
   "source": [
    "<a id='assessing'></a>\n",
    "### Assessing Data"
   ]
  },
  {
   "cell_type": "code",
   "execution_count": 3,
   "metadata": {},
   "outputs": [
    {
     "name": "stdout",
     "output_type": "stream",
     "text": [
      "<class 'pandas.core.frame.DataFrame'>\n",
      "RangeIndex: 2506983 entries, 0 to 2506982\n",
      "Data columns (total 15 columns):\n",
      " #   Column                   Non-Null Count    Dtype  \n",
      "---  ------                   --------------    -----  \n",
      " 0   duration_sec             2506983 non-null  int64  \n",
      " 1   start_time               2506983 non-null  object \n",
      " 2   end_time                 2506983 non-null  object \n",
      " 3   start_station_id         2426249 non-null  float64\n",
      " 4   start_station_name       2426850 non-null  object \n",
      " 5   start_station_latitude   2506983 non-null  float64\n",
      " 6   start_station_longitude  2506983 non-null  float64\n",
      " 7   end_station_id           2424081 non-null  float64\n",
      " 8   end_station_name         2424633 non-null  object \n",
      " 9   end_station_latitude     2506983 non-null  float64\n",
      " 10  end_station_longitude    2506983 non-null  float64\n",
      " 11  bike_id                  2506983 non-null  int64  \n",
      " 12  user_type                2506983 non-null  object \n",
      " 13  bike_share_for_all_trip  2263724 non-null  object \n",
      " 14  rental_access_method     120838 non-null   object \n",
      "dtypes: float64(6), int64(2), object(7)\n",
      "memory usage: 286.9+ MB\n"
     ]
    }
   ],
   "source": [
    "# get data frame information\n",
    "df.info(verbose=True, null_counts=True)"
   ]
  },
  {
   "cell_type": "code",
   "execution_count": 4,
   "metadata": {},
   "outputs": [
    {
     "data": {
      "text/html": [
       "<div>\n",
       "<style scoped>\n",
       "    .dataframe tbody tr th:only-of-type {\n",
       "        vertical-align: middle;\n",
       "    }\n",
       "\n",
       "    .dataframe tbody tr th {\n",
       "        vertical-align: top;\n",
       "    }\n",
       "\n",
       "    .dataframe thead th {\n",
       "        text-align: right;\n",
       "    }\n",
       "</style>\n",
       "<table border=\"1\" class=\"dataframe\">\n",
       "  <thead>\n",
       "    <tr style=\"text-align: right;\">\n",
       "      <th></th>\n",
       "      <th>duration_sec</th>\n",
       "      <th>start_time</th>\n",
       "      <th>end_time</th>\n",
       "      <th>start_station_id</th>\n",
       "      <th>start_station_name</th>\n",
       "      <th>start_station_latitude</th>\n",
       "      <th>start_station_longitude</th>\n",
       "      <th>end_station_id</th>\n",
       "      <th>end_station_name</th>\n",
       "      <th>end_station_latitude</th>\n",
       "      <th>end_station_longitude</th>\n",
       "      <th>bike_id</th>\n",
       "      <th>user_type</th>\n",
       "      <th>bike_share_for_all_trip</th>\n",
       "      <th>rental_access_method</th>\n",
       "    </tr>\n",
       "  </thead>\n",
       "  <tbody>\n",
       "    <tr>\n",
       "      <th>1736223</th>\n",
       "      <td>940</td>\n",
       "      <td>2019-09-27 10:02:15.4250</td>\n",
       "      <td>2019-09-27 10:17:56.1400</td>\n",
       "      <td>71.0</td>\n",
       "      <td>Broderick St at Oak St</td>\n",
       "      <td>37.773063</td>\n",
       "      <td>-122.439078</td>\n",
       "      <td>110.0</td>\n",
       "      <td>17th &amp; Folsom Street Park (17th St at Folsom St)</td>\n",
       "      <td>37.763708</td>\n",
       "      <td>-122.415204</td>\n",
       "      <td>2440</td>\n",
       "      <td>Customer</td>\n",
       "      <td>No</td>\n",
       "      <td>NaN</td>\n",
       "    </tr>\n",
       "    <tr>\n",
       "      <th>758433</th>\n",
       "      <td>217</td>\n",
       "      <td>2019-04-12 07:26:49.1670</td>\n",
       "      <td>2019-04-12 07:30:26.3250</td>\n",
       "      <td>375.0</td>\n",
       "      <td>Grove St at Masonic Ave</td>\n",
       "      <td>37.774836</td>\n",
       "      <td>-122.446546</td>\n",
       "      <td>53.0</td>\n",
       "      <td>Grove St at Divisadero</td>\n",
       "      <td>37.775946</td>\n",
       "      <td>-122.437777</td>\n",
       "      <td>5059</td>\n",
       "      <td>Subscriber</td>\n",
       "      <td>No</td>\n",
       "      <td>NaN</td>\n",
       "    </tr>\n",
       "    <tr>\n",
       "      <th>2205327</th>\n",
       "      <td>1467</td>\n",
       "      <td>2019-11-21 21:24:18.7300</td>\n",
       "      <td>2019-11-21 21:48:46.4790</td>\n",
       "      <td>371.0</td>\n",
       "      <td>Lombard St at Columbus Ave</td>\n",
       "      <td>37.802746</td>\n",
       "      <td>-122.413579</td>\n",
       "      <td>323.0</td>\n",
       "      <td>Broadway at Kearny</td>\n",
       "      <td>37.798014</td>\n",
       "      <td>-122.405950</td>\n",
       "      <td>3115</td>\n",
       "      <td>Customer</td>\n",
       "      <td>No</td>\n",
       "      <td>NaN</td>\n",
       "    </tr>\n",
       "    <tr>\n",
       "      <th>334805</th>\n",
       "      <td>1013</td>\n",
       "      <td>2019-02-07 16:40:21.6670</td>\n",
       "      <td>2019-02-07 16:57:15.0240</td>\n",
       "      <td>21.0</td>\n",
       "      <td>Montgomery St BART Station (Market St at 2nd St)</td>\n",
       "      <td>37.789625</td>\n",
       "      <td>-122.400811</td>\n",
       "      <td>73.0</td>\n",
       "      <td>Pierce St at Haight St</td>\n",
       "      <td>37.771793</td>\n",
       "      <td>-122.433708</td>\n",
       "      <td>4404</td>\n",
       "      <td>Subscriber</td>\n",
       "      <td>No</td>\n",
       "      <td>NaN</td>\n",
       "    </tr>\n",
       "    <tr>\n",
       "      <th>225781</th>\n",
       "      <td>1670</td>\n",
       "      <td>2019-02-24 10:33:31.5670</td>\n",
       "      <td>2019-02-24 11:01:22.1580</td>\n",
       "      <td>192.0</td>\n",
       "      <td>37th St at West St</td>\n",
       "      <td>37.826696</td>\n",
       "      <td>-122.271797</td>\n",
       "      <td>267.0</td>\n",
       "      <td>Derby St at College Ave</td>\n",
       "      <td>37.861804</td>\n",
       "      <td>-122.253569</td>\n",
       "      <td>877</td>\n",
       "      <td>Customer</td>\n",
       "      <td>No</td>\n",
       "      <td>NaN</td>\n",
       "    </tr>\n",
       "    <tr>\n",
       "      <th>1520884</th>\n",
       "      <td>261</td>\n",
       "      <td>2019-08-29 08:16:38.5310</td>\n",
       "      <td>2019-08-29 08:20:59.7590</td>\n",
       "      <td>315.0</td>\n",
       "      <td>Market St at 45th St</td>\n",
       "      <td>37.834174</td>\n",
       "      <td>-122.272968</td>\n",
       "      <td>176.0</td>\n",
       "      <td>MacArthur BART Station</td>\n",
       "      <td>37.828410</td>\n",
       "      <td>-122.266315</td>\n",
       "      <td>476</td>\n",
       "      <td>Subscriber</td>\n",
       "      <td>No</td>\n",
       "      <td>NaN</td>\n",
       "    </tr>\n",
       "    <tr>\n",
       "      <th>972966</th>\n",
       "      <td>870</td>\n",
       "      <td>2019-05-13 19:37:54.2890</td>\n",
       "      <td>2019-05-13 19:52:24.9500</td>\n",
       "      <td>146.0</td>\n",
       "      <td>30th St at San Jose Ave</td>\n",
       "      <td>37.742314</td>\n",
       "      <td>-122.423181</td>\n",
       "      <td>95.0</td>\n",
       "      <td>Sanchez St at 15th St</td>\n",
       "      <td>37.766219</td>\n",
       "      <td>-122.431060</td>\n",
       "      <td>1852</td>\n",
       "      <td>Subscriber</td>\n",
       "      <td>No</td>\n",
       "      <td>NaN</td>\n",
       "    </tr>\n",
       "    <tr>\n",
       "      <th>2484995</th>\n",
       "      <td>274</td>\n",
       "      <td>2019-12-04 11:56:10</td>\n",
       "      <td>2019-12-04 12:00:44</td>\n",
       "      <td>NaN</td>\n",
       "      <td>NaN</td>\n",
       "      <td>37.332564</td>\n",
       "      <td>-121.880271</td>\n",
       "      <td>NaN</td>\n",
       "      <td>NaN</td>\n",
       "      <td>37.342357</td>\n",
       "      <td>-121.883577</td>\n",
       "      <td>560815</td>\n",
       "      <td>Subscriber</td>\n",
       "      <td>NaN</td>\n",
       "      <td>clipper</td>\n",
       "    </tr>\n",
       "    <tr>\n",
       "      <th>1620556</th>\n",
       "      <td>1338</td>\n",
       "      <td>2019-08-14 22:30:52.8010</td>\n",
       "      <td>2019-08-14 22:53:11.2690</td>\n",
       "      <td>276.0</td>\n",
       "      <td>Julian St at The Alameda</td>\n",
       "      <td>37.332233</td>\n",
       "      <td>-121.912516</td>\n",
       "      <td>276.0</td>\n",
       "      <td>Julian St at The Alameda</td>\n",
       "      <td>37.332233</td>\n",
       "      <td>-121.912516</td>\n",
       "      <td>9241</td>\n",
       "      <td>Subscriber</td>\n",
       "      <td>Yes</td>\n",
       "      <td>NaN</td>\n",
       "    </tr>\n",
       "    <tr>\n",
       "      <th>1995863</th>\n",
       "      <td>238</td>\n",
       "      <td>2019-10-23 16:36:42.6390</td>\n",
       "      <td>2019-10-23 16:40:40.8690</td>\n",
       "      <td>166.0</td>\n",
       "      <td>College Ave at Alcatraz Ave</td>\n",
       "      <td>37.851376</td>\n",
       "      <td>-122.252523</td>\n",
       "      <td>168.0</td>\n",
       "      <td>Alcatraz Ave at Shattuck Ave</td>\n",
       "      <td>37.849595</td>\n",
       "      <td>-122.265569</td>\n",
       "      <td>11543</td>\n",
       "      <td>Subscriber</td>\n",
       "      <td>No</td>\n",
       "      <td>NaN</td>\n",
       "    </tr>\n",
       "  </tbody>\n",
       "</table>\n",
       "</div>"
      ],
      "text/plain": [
       "         duration_sec                start_time                  end_time  \\\n",
       "1736223           940  2019-09-27 10:02:15.4250  2019-09-27 10:17:56.1400   \n",
       "758433            217  2019-04-12 07:26:49.1670  2019-04-12 07:30:26.3250   \n",
       "2205327          1467  2019-11-21 21:24:18.7300  2019-11-21 21:48:46.4790   \n",
       "334805           1013  2019-02-07 16:40:21.6670  2019-02-07 16:57:15.0240   \n",
       "225781           1670  2019-02-24 10:33:31.5670  2019-02-24 11:01:22.1580   \n",
       "1520884           261  2019-08-29 08:16:38.5310  2019-08-29 08:20:59.7590   \n",
       "972966            870  2019-05-13 19:37:54.2890  2019-05-13 19:52:24.9500   \n",
       "2484995           274       2019-12-04 11:56:10       2019-12-04 12:00:44   \n",
       "1620556          1338  2019-08-14 22:30:52.8010  2019-08-14 22:53:11.2690   \n",
       "1995863           238  2019-10-23 16:36:42.6390  2019-10-23 16:40:40.8690   \n",
       "\n",
       "         start_station_id                                start_station_name  \\\n",
       "1736223              71.0                            Broderick St at Oak St   \n",
       "758433              375.0                           Grove St at Masonic Ave   \n",
       "2205327             371.0                        Lombard St at Columbus Ave   \n",
       "334805               21.0  Montgomery St BART Station (Market St at 2nd St)   \n",
       "225781              192.0                                37th St at West St   \n",
       "1520884             315.0                              Market St at 45th St   \n",
       "972966              146.0                           30th St at San Jose Ave   \n",
       "2484995               NaN                                               NaN   \n",
       "1620556             276.0                          Julian St at The Alameda   \n",
       "1995863             166.0                       College Ave at Alcatraz Ave   \n",
       "\n",
       "         start_station_latitude  start_station_longitude  end_station_id  \\\n",
       "1736223               37.773063              -122.439078           110.0   \n",
       "758433                37.774836              -122.446546            53.0   \n",
       "2205327               37.802746              -122.413579           323.0   \n",
       "334805                37.789625              -122.400811            73.0   \n",
       "225781                37.826696              -122.271797           267.0   \n",
       "1520884               37.834174              -122.272968           176.0   \n",
       "972966                37.742314              -122.423181            95.0   \n",
       "2484995               37.332564              -121.880271             NaN   \n",
       "1620556               37.332233              -121.912516           276.0   \n",
       "1995863               37.851376              -122.252523           168.0   \n",
       "\n",
       "                                         end_station_name  \\\n",
       "1736223  17th & Folsom Street Park (17th St at Folsom St)   \n",
       "758433                             Grove St at Divisadero   \n",
       "2205327                                Broadway at Kearny   \n",
       "334805                             Pierce St at Haight St   \n",
       "225781                            Derby St at College Ave   \n",
       "1520884                            MacArthur BART Station   \n",
       "972966                              Sanchez St at 15th St   \n",
       "2484995                                               NaN   \n",
       "1620556                          Julian St at The Alameda   \n",
       "1995863                      Alcatraz Ave at Shattuck Ave   \n",
       "\n",
       "         end_station_latitude  end_station_longitude  bike_id   user_type  \\\n",
       "1736223             37.763708            -122.415204     2440    Customer   \n",
       "758433              37.775946            -122.437777     5059  Subscriber   \n",
       "2205327             37.798014            -122.405950     3115    Customer   \n",
       "334805              37.771793            -122.433708     4404  Subscriber   \n",
       "225781              37.861804            -122.253569      877    Customer   \n",
       "1520884             37.828410            -122.266315      476  Subscriber   \n",
       "972966              37.766219            -122.431060     1852  Subscriber   \n",
       "2484995             37.342357            -121.883577   560815  Subscriber   \n",
       "1620556             37.332233            -121.912516     9241  Subscriber   \n",
       "1995863             37.849595            -122.265569    11543  Subscriber   \n",
       "\n",
       "        bike_share_for_all_trip rental_access_method  \n",
       "1736223                      No                  NaN  \n",
       "758433                       No                  NaN  \n",
       "2205327                      No                  NaN  \n",
       "334805                       No                  NaN  \n",
       "225781                       No                  NaN  \n",
       "1520884                      No                  NaN  \n",
       "972966                       No                  NaN  \n",
       "2484995                     NaN              clipper  \n",
       "1620556                     Yes                  NaN  \n",
       "1995863                      No                  NaN  "
      ]
     },
     "execution_count": 4,
     "metadata": {},
     "output_type": "execute_result"
    }
   ],
   "source": [
    "# get 10 sample entries\n",
    "df.sample(10)"
   ]
  },
  {
   "cell_type": "code",
   "execution_count": 5,
   "metadata": {},
   "outputs": [
    {
     "data": {
      "text/html": [
       "<div>\n",
       "<style scoped>\n",
       "    .dataframe tbody tr th:only-of-type {\n",
       "        vertical-align: middle;\n",
       "    }\n",
       "\n",
       "    .dataframe tbody tr th {\n",
       "        vertical-align: top;\n",
       "    }\n",
       "\n",
       "    .dataframe thead th {\n",
       "        text-align: right;\n",
       "    }\n",
       "</style>\n",
       "<table border=\"1\" class=\"dataframe\">\n",
       "  <thead>\n",
       "    <tr style=\"text-align: right;\">\n",
       "      <th></th>\n",
       "      <th>duration_sec</th>\n",
       "      <th>start_station_id</th>\n",
       "      <th>start_station_latitude</th>\n",
       "      <th>start_station_longitude</th>\n",
       "      <th>end_station_id</th>\n",
       "      <th>end_station_latitude</th>\n",
       "      <th>end_station_longitude</th>\n",
       "      <th>bike_id</th>\n",
       "    </tr>\n",
       "  </thead>\n",
       "  <tbody>\n",
       "    <tr>\n",
       "      <th>count</th>\n",
       "      <td>2.506983e+06</td>\n",
       "      <td>2.426249e+06</td>\n",
       "      <td>2.506983e+06</td>\n",
       "      <td>2.506983e+06</td>\n",
       "      <td>2.424081e+06</td>\n",
       "      <td>2.506983e+06</td>\n",
       "      <td>2.506983e+06</td>\n",
       "      <td>2.506983e+06</td>\n",
       "    </tr>\n",
       "    <tr>\n",
       "      <th>mean</th>\n",
       "      <td>8.076483e+02</td>\n",
       "      <td>1.465047e+02</td>\n",
       "      <td>3.776506e+01</td>\n",
       "      <td>-1.223499e+02</td>\n",
       "      <td>1.427044e+02</td>\n",
       "      <td>3.776422e+01</td>\n",
       "      <td>-1.223459e+02</td>\n",
       "      <td>2.789833e+04</td>\n",
       "    </tr>\n",
       "    <tr>\n",
       "      <th>std</th>\n",
       "      <td>1.974714e+03</td>\n",
       "      <td>1.223171e+02</td>\n",
       "      <td>1.363698e-01</td>\n",
       "      <td>3.089648e-01</td>\n",
       "      <td>1.214296e+02</td>\n",
       "      <td>2.392885e-01</td>\n",
       "      <td>7.080417e-01</td>\n",
       "      <td>1.146067e+05</td>\n",
       "    </tr>\n",
       "    <tr>\n",
       "      <th>min</th>\n",
       "      <td>6.000000e+01</td>\n",
       "      <td>3.000000e+00</td>\n",
       "      <td>0.000000e+00</td>\n",
       "      <td>-1.225143e+02</td>\n",
       "      <td>3.000000e+00</td>\n",
       "      <td>0.000000e+00</td>\n",
       "      <td>-1.225143e+02</td>\n",
       "      <td>4.000000e+00</td>\n",
       "    </tr>\n",
       "    <tr>\n",
       "      <th>25%</th>\n",
       "      <td>3.590000e+02</td>\n",
       "      <td>4.700000e+01</td>\n",
       "      <td>3.776931e+01</td>\n",
       "      <td>-1.224130e+02</td>\n",
       "      <td>4.300000e+01</td>\n",
       "      <td>3.777003e+01</td>\n",
       "      <td>-1.224117e+02</td>\n",
       "      <td>1.952000e+03</td>\n",
       "    </tr>\n",
       "    <tr>\n",
       "      <th>50%</th>\n",
       "      <td>5.710000e+02</td>\n",
       "      <td>1.050000e+02</td>\n",
       "      <td>3.778053e+01</td>\n",
       "      <td>-1.223983e+02</td>\n",
       "      <td>1.010000e+02</td>\n",
       "      <td>3.778076e+01</td>\n",
       "      <td>-1.223981e+02</td>\n",
       "      <td>4.420000e+03</td>\n",
       "    </tr>\n",
       "    <tr>\n",
       "      <th>75%</th>\n",
       "      <td>8.870000e+02</td>\n",
       "      <td>2.430000e+02</td>\n",
       "      <td>3.779539e+01</td>\n",
       "      <td>-1.222914e+02</td>\n",
       "      <td>2.390000e+02</td>\n",
       "      <td>3.779587e+01</td>\n",
       "      <td>-1.222934e+02</td>\n",
       "      <td>9.682000e+03</td>\n",
       "    </tr>\n",
       "    <tr>\n",
       "      <th>max</th>\n",
       "      <td>9.121100e+05</td>\n",
       "      <td>4.980000e+02</td>\n",
       "      <td>4.551000e+01</td>\n",
       "      <td>0.000000e+00</td>\n",
       "      <td>4.980000e+02</td>\n",
       "      <td>4.551000e+01</td>\n",
       "      <td>0.000000e+00</td>\n",
       "      <td>9.999410e+05</td>\n",
       "    </tr>\n",
       "  </tbody>\n",
       "</table>\n",
       "</div>"
      ],
      "text/plain": [
       "       duration_sec  start_station_id  start_station_latitude  \\\n",
       "count  2.506983e+06      2.426249e+06            2.506983e+06   \n",
       "mean   8.076483e+02      1.465047e+02            3.776506e+01   \n",
       "std    1.974714e+03      1.223171e+02            1.363698e-01   \n",
       "min    6.000000e+01      3.000000e+00            0.000000e+00   \n",
       "25%    3.590000e+02      4.700000e+01            3.776931e+01   \n",
       "50%    5.710000e+02      1.050000e+02            3.778053e+01   \n",
       "75%    8.870000e+02      2.430000e+02            3.779539e+01   \n",
       "max    9.121100e+05      4.980000e+02            4.551000e+01   \n",
       "\n",
       "       start_station_longitude  end_station_id  end_station_latitude  \\\n",
       "count             2.506983e+06    2.424081e+06          2.506983e+06   \n",
       "mean             -1.223499e+02    1.427044e+02          3.776422e+01   \n",
       "std               3.089648e-01    1.214296e+02          2.392885e-01   \n",
       "min              -1.225143e+02    3.000000e+00          0.000000e+00   \n",
       "25%              -1.224130e+02    4.300000e+01          3.777003e+01   \n",
       "50%              -1.223983e+02    1.010000e+02          3.778076e+01   \n",
       "75%              -1.222914e+02    2.390000e+02          3.779587e+01   \n",
       "max               0.000000e+00    4.980000e+02          4.551000e+01   \n",
       "\n",
       "       end_station_longitude       bike_id  \n",
       "count           2.506983e+06  2.506983e+06  \n",
       "mean           -1.223459e+02  2.789833e+04  \n",
       "std             7.080417e-01  1.146067e+05  \n",
       "min            -1.225143e+02  4.000000e+00  \n",
       "25%            -1.224117e+02  1.952000e+03  \n",
       "50%            -1.223981e+02  4.420000e+03  \n",
       "75%            -1.222934e+02  9.682000e+03  \n",
       "max             0.000000e+00  9.999410e+05  "
      ]
     },
     "execution_count": 5,
     "metadata": {},
     "output_type": "execute_result"
    }
   ],
   "source": [
    "# get first statistical overview\n",
    "df.describe()"
   ]
  },
  {
   "cell_type": "code",
   "execution_count": 6,
   "metadata": {},
   "outputs": [
    {
     "data": {
      "text/plain": [
       "0"
      ]
     },
     "execution_count": 6,
     "metadata": {},
     "output_type": "execute_result"
    }
   ],
   "source": [
    "# check duplicates\n",
    "df.duplicated().sum()"
   ]
  },
  {
   "cell_type": "code",
   "execution_count": 7,
   "metadata": {},
   "outputs": [
    {
     "data": {
      "text/plain": [
       "0.09703256862930462"
      ]
     },
     "execution_count": 7,
     "metadata": {},
     "output_type": "execute_result"
    }
   ],
   "source": [
    "# percentage of NaN for bike_share_for_all_trip\n",
    "df.bike_share_for_all_trip.isna().sum() / df.shape[0]"
   ]
  },
  {
   "cell_type": "code",
   "execution_count": 8,
   "metadata": {},
   "outputs": [
    {
     "data": {
      "text/html": [
       "<div>\n",
       "<style scoped>\n",
       "    .dataframe tbody tr th:only-of-type {\n",
       "        vertical-align: middle;\n",
       "    }\n",
       "\n",
       "    .dataframe tbody tr th {\n",
       "        vertical-align: top;\n",
       "    }\n",
       "\n",
       "    .dataframe thead th {\n",
       "        text-align: right;\n",
       "    }\n",
       "</style>\n",
       "<table border=\"1\" class=\"dataframe\">\n",
       "  <thead>\n",
       "    <tr style=\"text-align: right;\">\n",
       "      <th></th>\n",
       "      <th>duration_sec</th>\n",
       "      <th>start_time</th>\n",
       "      <th>end_time</th>\n",
       "      <th>start_station_id</th>\n",
       "      <th>start_station_name</th>\n",
       "      <th>start_station_latitude</th>\n",
       "      <th>start_station_longitude</th>\n",
       "      <th>end_station_id</th>\n",
       "      <th>end_station_name</th>\n",
       "      <th>end_station_latitude</th>\n",
       "      <th>end_station_longitude</th>\n",
       "      <th>bike_id</th>\n",
       "      <th>user_type</th>\n",
       "      <th>bike_share_for_all_trip</th>\n",
       "      <th>rental_access_method</th>\n",
       "    </tr>\n",
       "  </thead>\n",
       "  <tbody>\n",
       "    <tr>\n",
       "      <th>0</th>\n",
       "      <td>80825</td>\n",
       "      <td>2019-01-31 17:57:44.6130</td>\n",
       "      <td>2019-02-01 16:24:49.8640</td>\n",
       "      <td>229.0</td>\n",
       "      <td>Foothill Blvd at 42nd Ave</td>\n",
       "      <td>37.775745</td>\n",
       "      <td>-122.213037</td>\n",
       "      <td>196.0</td>\n",
       "      <td>Grand Ave at Perkins St</td>\n",
       "      <td>37.808894</td>\n",
       "      <td>-122.256460</td>\n",
       "      <td>4861</td>\n",
       "      <td>Subscriber</td>\n",
       "      <td>No</td>\n",
       "      <td>NaN</td>\n",
       "    </tr>\n",
       "    <tr>\n",
       "      <th>1</th>\n",
       "      <td>65900</td>\n",
       "      <td>2019-01-31 20:58:33.8860</td>\n",
       "      <td>2019-02-01 15:16:54.1730</td>\n",
       "      <td>4.0</td>\n",
       "      <td>Cyril Magnin St at Ellis St</td>\n",
       "      <td>37.785881</td>\n",
       "      <td>-122.408915</td>\n",
       "      <td>134.0</td>\n",
       "      <td>Valencia St at 24th St</td>\n",
       "      <td>37.752428</td>\n",
       "      <td>-122.420628</td>\n",
       "      <td>5506</td>\n",
       "      <td>Subscriber</td>\n",
       "      <td>No</td>\n",
       "      <td>NaN</td>\n",
       "    </tr>\n",
       "    <tr>\n",
       "      <th>2</th>\n",
       "      <td>62633</td>\n",
       "      <td>2019-01-31 18:06:52.9240</td>\n",
       "      <td>2019-02-01 11:30:46.5300</td>\n",
       "      <td>245.0</td>\n",
       "      <td>Downtown Berkeley BART</td>\n",
       "      <td>37.870139</td>\n",
       "      <td>-122.268422</td>\n",
       "      <td>157.0</td>\n",
       "      <td>65th St at Hollis St</td>\n",
       "      <td>37.846784</td>\n",
       "      <td>-122.291376</td>\n",
       "      <td>2717</td>\n",
       "      <td>Customer</td>\n",
       "      <td>No</td>\n",
       "      <td>NaN</td>\n",
       "    </tr>\n",
       "    <tr>\n",
       "      <th>3</th>\n",
       "      <td>44680</td>\n",
       "      <td>2019-01-31 19:46:09.7190</td>\n",
       "      <td>2019-02-01 08:10:50.3180</td>\n",
       "      <td>85.0</td>\n",
       "      <td>Church St at Duboce Ave</td>\n",
       "      <td>37.770083</td>\n",
       "      <td>-122.429156</td>\n",
       "      <td>53.0</td>\n",
       "      <td>Grove St at Divisadero</td>\n",
       "      <td>37.775946</td>\n",
       "      <td>-122.437777</td>\n",
       "      <td>4557</td>\n",
       "      <td>Customer</td>\n",
       "      <td>No</td>\n",
       "      <td>NaN</td>\n",
       "    </tr>\n",
       "    <tr>\n",
       "      <th>4</th>\n",
       "      <td>60709</td>\n",
       "      <td>2019-01-31 14:19:01.5410</td>\n",
       "      <td>2019-02-01 07:10:51.0650</td>\n",
       "      <td>16.0</td>\n",
       "      <td>Steuart St at Market St</td>\n",
       "      <td>37.794130</td>\n",
       "      <td>-122.394430</td>\n",
       "      <td>28.0</td>\n",
       "      <td>The Embarcadero at Bryant St</td>\n",
       "      <td>37.787168</td>\n",
       "      <td>-122.388098</td>\n",
       "      <td>2100</td>\n",
       "      <td>Customer</td>\n",
       "      <td>No</td>\n",
       "      <td>NaN</td>\n",
       "    </tr>\n",
       "    <tr>\n",
       "      <th>...</th>\n",
       "      <td>...</td>\n",
       "      <td>...</td>\n",
       "      <td>...</td>\n",
       "      <td>...</td>\n",
       "      <td>...</td>\n",
       "      <td>...</td>\n",
       "      <td>...</td>\n",
       "      <td>...</td>\n",
       "      <td>...</td>\n",
       "      <td>...</td>\n",
       "      <td>...</td>\n",
       "      <td>...</td>\n",
       "      <td>...</td>\n",
       "      <td>...</td>\n",
       "      <td>...</td>\n",
       "    </tr>\n",
       "    <tr>\n",
       "      <th>2355466</th>\n",
       "      <td>479</td>\n",
       "      <td>2019-11-01 00:02:50.4850</td>\n",
       "      <td>2019-11-01 00:10:50.4430</td>\n",
       "      <td>86.0</td>\n",
       "      <td>Market St at Dolores St</td>\n",
       "      <td>37.769305</td>\n",
       "      <td>-122.426826</td>\n",
       "      <td>365.0</td>\n",
       "      <td>Turk St at Fillmore St</td>\n",
       "      <td>37.780450</td>\n",
       "      <td>-122.431946</td>\n",
       "      <td>495</td>\n",
       "      <td>Subscriber</td>\n",
       "      <td>Yes</td>\n",
       "      <td>NaN</td>\n",
       "    </tr>\n",
       "    <tr>\n",
       "      <th>2355467</th>\n",
       "      <td>161</td>\n",
       "      <td>2019-11-01 00:08:07.4650</td>\n",
       "      <td>2019-11-01 00:10:48.5700</td>\n",
       "      <td>114.0</td>\n",
       "      <td>Rhode Island St at 17th St</td>\n",
       "      <td>37.764478</td>\n",
       "      <td>-122.402570</td>\n",
       "      <td>345.0</td>\n",
       "      <td>Hubbell St at 16th St</td>\n",
       "      <td>37.766483</td>\n",
       "      <td>-122.398279</td>\n",
       "      <td>1420</td>\n",
       "      <td>Customer</td>\n",
       "      <td>No</td>\n",
       "      <td>NaN</td>\n",
       "    </tr>\n",
       "    <tr>\n",
       "      <th>2355468</th>\n",
       "      <td>180</td>\n",
       "      <td>2019-11-01 00:06:58.1730</td>\n",
       "      <td>2019-11-01 00:09:58.4070</td>\n",
       "      <td>160.0</td>\n",
       "      <td>West Oakland BART Station</td>\n",
       "      <td>37.805318</td>\n",
       "      <td>-122.294837</td>\n",
       "      <td>235.0</td>\n",
       "      <td>Union St at 10th St</td>\n",
       "      <td>37.807239</td>\n",
       "      <td>-122.289370</td>\n",
       "      <td>2997</td>\n",
       "      <td>Subscriber</td>\n",
       "      <td>No</td>\n",
       "      <td>NaN</td>\n",
       "    </tr>\n",
       "    <tr>\n",
       "      <th>2355469</th>\n",
       "      <td>262</td>\n",
       "      <td>2019-11-01 00:04:08.4600</td>\n",
       "      <td>2019-11-01 00:08:30.6760</td>\n",
       "      <td>465.0</td>\n",
       "      <td>San Francisco Caltrain Station (King St at 4th...</td>\n",
       "      <td>37.776329</td>\n",
       "      <td>-122.394438</td>\n",
       "      <td>38.0</td>\n",
       "      <td>The Embarcadero at Pier 38</td>\n",
       "      <td>37.782926</td>\n",
       "      <td>-122.387921</td>\n",
       "      <td>204</td>\n",
       "      <td>Subscriber</td>\n",
       "      <td>No</td>\n",
       "      <td>NaN</td>\n",
       "    </tr>\n",
       "    <tr>\n",
       "      <th>2355470</th>\n",
       "      <td>186</td>\n",
       "      <td>2019-11-01 00:00:30.3030</td>\n",
       "      <td>2019-11-01 00:03:37.0060</td>\n",
       "      <td>39.0</td>\n",
       "      <td>Scott St at Golden Gate Ave</td>\n",
       "      <td>37.778999</td>\n",
       "      <td>-122.436861</td>\n",
       "      <td>365.0</td>\n",
       "      <td>Turk St at Fillmore St</td>\n",
       "      <td>37.780450</td>\n",
       "      <td>-122.431946</td>\n",
       "      <td>2862</td>\n",
       "      <td>Customer</td>\n",
       "      <td>No</td>\n",
       "      <td>NaN</td>\n",
       "    </tr>\n",
       "  </tbody>\n",
       "</table>\n",
       "<p>2263724 rows × 15 columns</p>\n",
       "</div>"
      ],
      "text/plain": [
       "         duration_sec                start_time                  end_time  \\\n",
       "0               80825  2019-01-31 17:57:44.6130  2019-02-01 16:24:49.8640   \n",
       "1               65900  2019-01-31 20:58:33.8860  2019-02-01 15:16:54.1730   \n",
       "2               62633  2019-01-31 18:06:52.9240  2019-02-01 11:30:46.5300   \n",
       "3               44680  2019-01-31 19:46:09.7190  2019-02-01 08:10:50.3180   \n",
       "4               60709  2019-01-31 14:19:01.5410  2019-02-01 07:10:51.0650   \n",
       "...               ...                       ...                       ...   \n",
       "2355466           479  2019-11-01 00:02:50.4850  2019-11-01 00:10:50.4430   \n",
       "2355467           161  2019-11-01 00:08:07.4650  2019-11-01 00:10:48.5700   \n",
       "2355468           180  2019-11-01 00:06:58.1730  2019-11-01 00:09:58.4070   \n",
       "2355469           262  2019-11-01 00:04:08.4600  2019-11-01 00:08:30.6760   \n",
       "2355470           186  2019-11-01 00:00:30.3030  2019-11-01 00:03:37.0060   \n",
       "\n",
       "         start_station_id                                 start_station_name  \\\n",
       "0                   229.0                          Foothill Blvd at 42nd Ave   \n",
       "1                     4.0                        Cyril Magnin St at Ellis St   \n",
       "2                   245.0                             Downtown Berkeley BART   \n",
       "3                    85.0                            Church St at Duboce Ave   \n",
       "4                    16.0                            Steuart St at Market St   \n",
       "...                   ...                                                ...   \n",
       "2355466              86.0                            Market St at Dolores St   \n",
       "2355467             114.0                         Rhode Island St at 17th St   \n",
       "2355468             160.0                          West Oakland BART Station   \n",
       "2355469             465.0  San Francisco Caltrain Station (King St at 4th...   \n",
       "2355470              39.0                        Scott St at Golden Gate Ave   \n",
       "\n",
       "         start_station_latitude  start_station_longitude  end_station_id  \\\n",
       "0                     37.775745              -122.213037           196.0   \n",
       "1                     37.785881              -122.408915           134.0   \n",
       "2                     37.870139              -122.268422           157.0   \n",
       "3                     37.770083              -122.429156            53.0   \n",
       "4                     37.794130              -122.394430            28.0   \n",
       "...                         ...                      ...             ...   \n",
       "2355466               37.769305              -122.426826           365.0   \n",
       "2355467               37.764478              -122.402570           345.0   \n",
       "2355468               37.805318              -122.294837           235.0   \n",
       "2355469               37.776329              -122.394438            38.0   \n",
       "2355470               37.778999              -122.436861           365.0   \n",
       "\n",
       "                     end_station_name  end_station_latitude  \\\n",
       "0             Grand Ave at Perkins St             37.808894   \n",
       "1              Valencia St at 24th St             37.752428   \n",
       "2                65th St at Hollis St             37.846784   \n",
       "3              Grove St at Divisadero             37.775946   \n",
       "4        The Embarcadero at Bryant St             37.787168   \n",
       "...                               ...                   ...   \n",
       "2355466        Turk St at Fillmore St             37.780450   \n",
       "2355467         Hubbell St at 16th St             37.766483   \n",
       "2355468           Union St at 10th St             37.807239   \n",
       "2355469    The Embarcadero at Pier 38             37.782926   \n",
       "2355470        Turk St at Fillmore St             37.780450   \n",
       "\n",
       "         end_station_longitude  bike_id   user_type bike_share_for_all_trip  \\\n",
       "0                  -122.256460     4861  Subscriber                      No   \n",
       "1                  -122.420628     5506  Subscriber                      No   \n",
       "2                  -122.291376     2717    Customer                      No   \n",
       "3                  -122.437777     4557    Customer                      No   \n",
       "4                  -122.388098     2100    Customer                      No   \n",
       "...                        ...      ...         ...                     ...   \n",
       "2355466            -122.431946      495  Subscriber                     Yes   \n",
       "2355467            -122.398279     1420    Customer                      No   \n",
       "2355468            -122.289370     2997  Subscriber                      No   \n",
       "2355469            -122.387921      204  Subscriber                      No   \n",
       "2355470            -122.431946     2862    Customer                      No   \n",
       "\n",
       "        rental_access_method  \n",
       "0                        NaN  \n",
       "1                        NaN  \n",
       "2                        NaN  \n",
       "3                        NaN  \n",
       "4                        NaN  \n",
       "...                      ...  \n",
       "2355466                  NaN  \n",
       "2355467                  NaN  \n",
       "2355468                  NaN  \n",
       "2355469                  NaN  \n",
       "2355470                  NaN  \n",
       "\n",
       "[2263724 rows x 15 columns]"
      ]
     },
     "execution_count": 8,
     "metadata": {},
     "output_type": "execute_result"
    }
   ],
   "source": [
    "# show entries with a value in the column bike_share_for_all_trip\n",
    "df[df.bike_share_for_all_trip.notna()]"
   ]
  },
  {
   "cell_type": "code",
   "execution_count": 9,
   "metadata": {},
   "outputs": [
    {
     "data": {
      "text/plain": [
       "0.9517994338214499"
      ]
     },
     "execution_count": 9,
     "metadata": {},
     "output_type": "execute_result"
    }
   ],
   "source": [
    "# percentage of NaN for rental_access_method\n",
    "df.rental_access_method.isna().sum() / df.shape[0]"
   ]
  },
  {
   "cell_type": "code",
   "execution_count": 10,
   "metadata": {},
   "outputs": [
    {
     "data": {
      "text/html": [
       "<div>\n",
       "<style scoped>\n",
       "    .dataframe tbody tr th:only-of-type {\n",
       "        vertical-align: middle;\n",
       "    }\n",
       "\n",
       "    .dataframe tbody tr th {\n",
       "        vertical-align: top;\n",
       "    }\n",
       "\n",
       "    .dataframe thead th {\n",
       "        text-align: right;\n",
       "    }\n",
       "</style>\n",
       "<table border=\"1\" class=\"dataframe\">\n",
       "  <thead>\n",
       "    <tr style=\"text-align: right;\">\n",
       "      <th></th>\n",
       "      <th>duration_sec</th>\n",
       "      <th>start_time</th>\n",
       "      <th>end_time</th>\n",
       "      <th>start_station_id</th>\n",
       "      <th>start_station_name</th>\n",
       "      <th>start_station_latitude</th>\n",
       "      <th>start_station_longitude</th>\n",
       "      <th>end_station_id</th>\n",
       "      <th>end_station_name</th>\n",
       "      <th>end_station_latitude</th>\n",
       "      <th>end_station_longitude</th>\n",
       "      <th>bike_id</th>\n",
       "      <th>user_type</th>\n",
       "      <th>bike_share_for_all_trip</th>\n",
       "      <th>rental_access_method</th>\n",
       "    </tr>\n",
       "  </thead>\n",
       "  <tbody>\n",
       "    <tr>\n",
       "      <th>1240946</th>\n",
       "      <td>511</td>\n",
       "      <td>2019-06-20 19:08:25</td>\n",
       "      <td>2019-06-20 19:16:57</td>\n",
       "      <td>NaN</td>\n",
       "      <td>NaN</td>\n",
       "      <td>37.290060</td>\n",
       "      <td>-121.880718</td>\n",
       "      <td>NaN</td>\n",
       "      <td>NaN</td>\n",
       "      <td>37.300379</td>\n",
       "      <td>-121.880062</td>\n",
       "      <td>773766</td>\n",
       "      <td>Customer</td>\n",
       "      <td>NaN</td>\n",
       "      <td>app</td>\n",
       "    </tr>\n",
       "    <tr>\n",
       "      <th>1240947</th>\n",
       "      <td>592</td>\n",
       "      <td>2019-06-21 13:44:35</td>\n",
       "      <td>2019-06-21 13:54:27</td>\n",
       "      <td>NaN</td>\n",
       "      <td>NaN</td>\n",
       "      <td>37.291543</td>\n",
       "      <td>-121.879599</td>\n",
       "      <td>NaN</td>\n",
       "      <td>NaN</td>\n",
       "      <td>37.313545</td>\n",
       "      <td>-121.888996</td>\n",
       "      <td>630873</td>\n",
       "      <td>Customer</td>\n",
       "      <td>NaN</td>\n",
       "      <td>app</td>\n",
       "    </tr>\n",
       "    <tr>\n",
       "      <th>1240948</th>\n",
       "      <td>1648</td>\n",
       "      <td>2019-06-20 21:21:27</td>\n",
       "      <td>2019-06-20 21:48:55</td>\n",
       "      <td>NaN</td>\n",
       "      <td>NaN</td>\n",
       "      <td>37.293723</td>\n",
       "      <td>-121.911107</td>\n",
       "      <td>NaN</td>\n",
       "      <td>NaN</td>\n",
       "      <td>37.296621</td>\n",
       "      <td>-121.913399</td>\n",
       "      <td>205087</td>\n",
       "      <td>Customer</td>\n",
       "      <td>NaN</td>\n",
       "      <td>app</td>\n",
       "    </tr>\n",
       "    <tr>\n",
       "      <th>1240949</th>\n",
       "      <td>1074</td>\n",
       "      <td>2019-06-25 11:31:45</td>\n",
       "      <td>2019-06-25 11:49:39</td>\n",
       "      <td>NaN</td>\n",
       "      <td>NaN</td>\n",
       "      <td>37.293870</td>\n",
       "      <td>-121.906131</td>\n",
       "      <td>NaN</td>\n",
       "      <td>NaN</td>\n",
       "      <td>37.310521</td>\n",
       "      <td>-121.887427</td>\n",
       "      <td>189672</td>\n",
       "      <td>Customer</td>\n",
       "      <td>NaN</td>\n",
       "      <td>app</td>\n",
       "    </tr>\n",
       "    <tr>\n",
       "      <th>1240950</th>\n",
       "      <td>1646</td>\n",
       "      <td>2019-06-21 15:23:48</td>\n",
       "      <td>2019-06-21 15:51:15</td>\n",
       "      <td>NaN</td>\n",
       "      <td>NaN</td>\n",
       "      <td>37.294886</td>\n",
       "      <td>-121.908596</td>\n",
       "      <td>NaN</td>\n",
       "      <td>NaN</td>\n",
       "      <td>37.314102</td>\n",
       "      <td>-121.890535</td>\n",
       "      <td>455816</td>\n",
       "      <td>Subscriber</td>\n",
       "      <td>NaN</td>\n",
       "      <td>app</td>\n",
       "    </tr>\n",
       "    <tr>\n",
       "      <th>...</th>\n",
       "      <td>...</td>\n",
       "      <td>...</td>\n",
       "      <td>...</td>\n",
       "      <td>...</td>\n",
       "      <td>...</td>\n",
       "      <td>...</td>\n",
       "      <td>...</td>\n",
       "      <td>...</td>\n",
       "      <td>...</td>\n",
       "      <td>...</td>\n",
       "      <td>...</td>\n",
       "      <td>...</td>\n",
       "      <td>...</td>\n",
       "      <td>...</td>\n",
       "      <td>...</td>\n",
       "    </tr>\n",
       "    <tr>\n",
       "      <th>2506978</th>\n",
       "      <td>731</td>\n",
       "      <td>2019-12-28 18:37:29</td>\n",
       "      <td>2019-12-28 18:49:40</td>\n",
       "      <td>NaN</td>\n",
       "      <td>NaN</td>\n",
       "      <td>37.809731</td>\n",
       "      <td>-122.409855</td>\n",
       "      <td>NaN</td>\n",
       "      <td>NaN</td>\n",
       "      <td>37.807573</td>\n",
       "      <td>-122.421681</td>\n",
       "      <td>719651</td>\n",
       "      <td>Subscriber</td>\n",
       "      <td>NaN</td>\n",
       "      <td>app</td>\n",
       "    </tr>\n",
       "    <tr>\n",
       "      <th>2506979</th>\n",
       "      <td>748</td>\n",
       "      <td>2019-12-28 18:37:24</td>\n",
       "      <td>2019-12-28 18:49:53</td>\n",
       "      <td>NaN</td>\n",
       "      <td>NaN</td>\n",
       "      <td>37.809768</td>\n",
       "      <td>-122.409797</td>\n",
       "      <td>NaN</td>\n",
       "      <td>NaN</td>\n",
       "      <td>37.807558</td>\n",
       "      <td>-122.421638</td>\n",
       "      <td>655411</td>\n",
       "      <td>Subscriber</td>\n",
       "      <td>NaN</td>\n",
       "      <td>app</td>\n",
       "    </tr>\n",
       "    <tr>\n",
       "      <th>2506980</th>\n",
       "      <td>1044</td>\n",
       "      <td>2019-12-26 14:25:37</td>\n",
       "      <td>2019-12-26 14:43:02</td>\n",
       "      <td>NaN</td>\n",
       "      <td>NaN</td>\n",
       "      <td>37.810183</td>\n",
       "      <td>-122.410271</td>\n",
       "      <td>NaN</td>\n",
       "      <td>NaN</td>\n",
       "      <td>37.807225</td>\n",
       "      <td>-122.408850</td>\n",
       "      <td>936881</td>\n",
       "      <td>Subscriber</td>\n",
       "      <td>NaN</td>\n",
       "      <td>app</td>\n",
       "    </tr>\n",
       "    <tr>\n",
       "      <th>2506981</th>\n",
       "      <td>326</td>\n",
       "      <td>2019-12-30 20:35:43</td>\n",
       "      <td>2019-12-30 20:41:09</td>\n",
       "      <td>NaN</td>\n",
       "      <td>NaN</td>\n",
       "      <td>37.810471</td>\n",
       "      <td>-122.417386</td>\n",
       "      <td>NaN</td>\n",
       "      <td>NaN</td>\n",
       "      <td>37.803143</td>\n",
       "      <td>-122.414373</td>\n",
       "      <td>397539</td>\n",
       "      <td>Subscriber</td>\n",
       "      <td>NaN</td>\n",
       "      <td>app</td>\n",
       "    </tr>\n",
       "    <tr>\n",
       "      <th>2506982</th>\n",
       "      <td>4023</td>\n",
       "      <td>2019-12-31 19:26:48</td>\n",
       "      <td>2019-12-31 20:33:52</td>\n",
       "      <td>NaN</td>\n",
       "      <td>NaN</td>\n",
       "      <td>37.811042</td>\n",
       "      <td>-122.418149</td>\n",
       "      <td>NaN</td>\n",
       "      <td>NaN</td>\n",
       "      <td>37.810970</td>\n",
       "      <td>-122.418054</td>\n",
       "      <td>662304</td>\n",
       "      <td>Subscriber</td>\n",
       "      <td>NaN</td>\n",
       "      <td>app</td>\n",
       "    </tr>\n",
       "  </tbody>\n",
       "</table>\n",
       "<p>120838 rows × 15 columns</p>\n",
       "</div>"
      ],
      "text/plain": [
       "         duration_sec           start_time             end_time  \\\n",
       "1240946           511  2019-06-20 19:08:25  2019-06-20 19:16:57   \n",
       "1240947           592  2019-06-21 13:44:35  2019-06-21 13:54:27   \n",
       "1240948          1648  2019-06-20 21:21:27  2019-06-20 21:48:55   \n",
       "1240949          1074  2019-06-25 11:31:45  2019-06-25 11:49:39   \n",
       "1240950          1646  2019-06-21 15:23:48  2019-06-21 15:51:15   \n",
       "...               ...                  ...                  ...   \n",
       "2506978           731  2019-12-28 18:37:29  2019-12-28 18:49:40   \n",
       "2506979           748  2019-12-28 18:37:24  2019-12-28 18:49:53   \n",
       "2506980          1044  2019-12-26 14:25:37  2019-12-26 14:43:02   \n",
       "2506981           326  2019-12-30 20:35:43  2019-12-30 20:41:09   \n",
       "2506982          4023  2019-12-31 19:26:48  2019-12-31 20:33:52   \n",
       "\n",
       "         start_station_id start_station_name  start_station_latitude  \\\n",
       "1240946               NaN                NaN               37.290060   \n",
       "1240947               NaN                NaN               37.291543   \n",
       "1240948               NaN                NaN               37.293723   \n",
       "1240949               NaN                NaN               37.293870   \n",
       "1240950               NaN                NaN               37.294886   \n",
       "...                   ...                ...                     ...   \n",
       "2506978               NaN                NaN               37.809731   \n",
       "2506979               NaN                NaN               37.809768   \n",
       "2506980               NaN                NaN               37.810183   \n",
       "2506981               NaN                NaN               37.810471   \n",
       "2506982               NaN                NaN               37.811042   \n",
       "\n",
       "         start_station_longitude  end_station_id end_station_name  \\\n",
       "1240946              -121.880718             NaN              NaN   \n",
       "1240947              -121.879599             NaN              NaN   \n",
       "1240948              -121.911107             NaN              NaN   \n",
       "1240949              -121.906131             NaN              NaN   \n",
       "1240950              -121.908596             NaN              NaN   \n",
       "...                          ...             ...              ...   \n",
       "2506978              -122.409855             NaN              NaN   \n",
       "2506979              -122.409797             NaN              NaN   \n",
       "2506980              -122.410271             NaN              NaN   \n",
       "2506981              -122.417386             NaN              NaN   \n",
       "2506982              -122.418149             NaN              NaN   \n",
       "\n",
       "         end_station_latitude  end_station_longitude  bike_id   user_type  \\\n",
       "1240946             37.300379            -121.880062   773766    Customer   \n",
       "1240947             37.313545            -121.888996   630873    Customer   \n",
       "1240948             37.296621            -121.913399   205087    Customer   \n",
       "1240949             37.310521            -121.887427   189672    Customer   \n",
       "1240950             37.314102            -121.890535   455816  Subscriber   \n",
       "...                       ...                    ...      ...         ...   \n",
       "2506978             37.807573            -122.421681   719651  Subscriber   \n",
       "2506979             37.807558            -122.421638   655411  Subscriber   \n",
       "2506980             37.807225            -122.408850   936881  Subscriber   \n",
       "2506981             37.803143            -122.414373   397539  Subscriber   \n",
       "2506982             37.810970            -122.418054   662304  Subscriber   \n",
       "\n",
       "        bike_share_for_all_trip rental_access_method  \n",
       "1240946                     NaN                  app  \n",
       "1240947                     NaN                  app  \n",
       "1240948                     NaN                  app  \n",
       "1240949                     NaN                  app  \n",
       "1240950                     NaN                  app  \n",
       "...                         ...                  ...  \n",
       "2506978                     NaN                  app  \n",
       "2506979                     NaN                  app  \n",
       "2506980                     NaN                  app  \n",
       "2506981                     NaN                  app  \n",
       "2506982                     NaN                  app  \n",
       "\n",
       "[120838 rows x 15 columns]"
      ]
     },
     "execution_count": 10,
     "metadata": {},
     "output_type": "execute_result"
    }
   ],
   "source": [
    "# show entries with a value in the column rental_access_method\n",
    "df[df.rental_access_method.notna()]"
   ]
  },
  {
   "cell_type": "markdown",
   "metadata": {},
   "source": [
    "#### Summary of Issues  <br>\n",
    "\n",
    "\n",
    "##### Quality Issues  <br>\n",
    "- Q01: Change type of start_time, end_time to datetime  <br>\n",
    "- Q02: Change type of start_station_id, end_station_id, bike_id to str <br>\n",
    "- Q03: Add columns for the month and the day of the week <br>\n",
    "- Q04: Add column for the seasons <br>\n",
    "- Q05: Calculate distance and add a new column for it <br>\n",
    "- Q06: Columns (13,14) have mixed types <br>\n",
    "\n",
    "##### Tidiness Issues  <br>\n",
    "\n"
   ]
  },
  {
   "cell_type": "markdown",
   "metadata": {},
   "source": [
    "<a id='cleaning'></a>\n",
    "### Cleaning Data"
   ]
  },
  {
   "cell_type": "code",
   "execution_count": 11,
   "metadata": {},
   "outputs": [],
   "source": [
    "# creating copy of data frame\n",
    "df_clean = df.copy();"
   ]
  },
  {
   "cell_type": "markdown",
   "metadata": {},
   "source": [
    "#### Q01: Change type of start_time, end_time to datetime"
   ]
  },
  {
   "cell_type": "markdown",
   "metadata": {},
   "source": [
    "##### Define\n",
    "Change type of start_time and end_time to datetime"
   ]
  },
  {
   "cell_type": "markdown",
   "metadata": {},
   "source": [
    "##### Code"
   ]
  },
  {
   "cell_type": "code",
   "execution_count": 12,
   "metadata": {},
   "outputs": [],
   "source": [
    "# change data type to datetime\n",
    "df_clean['start_time'] = pd.to_datetime(df_clean['start_time']);\n",
    "# change data type to datetime\n",
    "df_clean['end_time'] = pd.to_datetime(df_clean['end_time']);"
   ]
  },
  {
   "cell_type": "markdown",
   "metadata": {},
   "source": [
    "##### Test"
   ]
  },
  {
   "cell_type": "code",
   "execution_count": 13,
   "metadata": {},
   "outputs": [
    {
     "name": "stdout",
     "output_type": "stream",
     "text": [
      "<class 'pandas.core.frame.DataFrame'>\n",
      "RangeIndex: 2506983 entries, 0 to 2506982\n",
      "Data columns (total 15 columns):\n",
      " #   Column                   Non-Null Count    Dtype         \n",
      "---  ------                   --------------    -----         \n",
      " 0   duration_sec             2506983 non-null  int64         \n",
      " 1   start_time               2506983 non-null  datetime64[ns]\n",
      " 2   end_time                 2506983 non-null  datetime64[ns]\n",
      " 3   start_station_id         2426249 non-null  float64       \n",
      " 4   start_station_name       2426850 non-null  object        \n",
      " 5   start_station_latitude   2506983 non-null  float64       \n",
      " 6   start_station_longitude  2506983 non-null  float64       \n",
      " 7   end_station_id           2424081 non-null  float64       \n",
      " 8   end_station_name         2424633 non-null  object        \n",
      " 9   end_station_latitude     2506983 non-null  float64       \n",
      " 10  end_station_longitude    2506983 non-null  float64       \n",
      " 11  bike_id                  2506983 non-null  int64         \n",
      " 12  user_type                2506983 non-null  object        \n",
      " 13  bike_share_for_all_trip  2263724 non-null  object        \n",
      " 14  rental_access_method     120838 non-null   object        \n",
      "dtypes: datetime64[ns](2), float64(6), int64(2), object(5)\n",
      "memory usage: 286.9+ MB\n"
     ]
    }
   ],
   "source": [
    "# get data frame information\n",
    "df_clean.info(verbose=True, null_counts=True)"
   ]
  },
  {
   "cell_type": "markdown",
   "metadata": {},
   "source": [
    "#### Q02: Change type of start_station_id, end_station_id, bike_id to str"
   ]
  },
  {
   "cell_type": "markdown",
   "metadata": {},
   "source": [
    "##### Define\n",
    "Change type of start_station_id, end_station_id, bike_id to str. No need for the ID´s to be an int, because the ID´s will not be used for any numeric calculation. "
   ]
  },
  {
   "cell_type": "markdown",
   "metadata": {},
   "source": [
    "##### Code"
   ]
  },
  {
   "cell_type": "code",
   "execution_count": 14,
   "metadata": {},
   "outputs": [],
   "source": [
    "# change data type to str \n",
    "df_clean = df_clean.astype({'start_station_id': str}) \n",
    "df_clean = df_clean.astype({'end_station_id': str}) \n",
    "df_clean = df_clean.astype({'bike_id': str}) "
   ]
  },
  {
   "cell_type": "markdown",
   "metadata": {},
   "source": [
    "##### Test"
   ]
  },
  {
   "cell_type": "code",
   "execution_count": 15,
   "metadata": {},
   "outputs": [
    {
     "name": "stdout",
     "output_type": "stream",
     "text": [
      "<class 'pandas.core.frame.DataFrame'>\n",
      "RangeIndex: 2506983 entries, 0 to 2506982\n",
      "Data columns (total 15 columns):\n",
      " #   Column                   Non-Null Count    Dtype         \n",
      "---  ------                   --------------    -----         \n",
      " 0   duration_sec             2506983 non-null  int64         \n",
      " 1   start_time               2506983 non-null  datetime64[ns]\n",
      " 2   end_time                 2506983 non-null  datetime64[ns]\n",
      " 3   start_station_id         2506983 non-null  object        \n",
      " 4   start_station_name       2426850 non-null  object        \n",
      " 5   start_station_latitude   2506983 non-null  float64       \n",
      " 6   start_station_longitude  2506983 non-null  float64       \n",
      " 7   end_station_id           2506983 non-null  object        \n",
      " 8   end_station_name         2424633 non-null  object        \n",
      " 9   end_station_latitude     2506983 non-null  float64       \n",
      " 10  end_station_longitude    2506983 non-null  float64       \n",
      " 11  bike_id                  2506983 non-null  object        \n",
      " 12  user_type                2506983 non-null  object        \n",
      " 13  bike_share_for_all_trip  2263724 non-null  object        \n",
      " 14  rental_access_method     120838 non-null   object        \n",
      "dtypes: datetime64[ns](2), float64(4), int64(1), object(8)\n",
      "memory usage: 286.9+ MB\n"
     ]
    }
   ],
   "source": [
    "# get data frame information\n",
    "df_clean.info(verbose=True, null_counts=True)"
   ]
  },
  {
   "cell_type": "markdown",
   "metadata": {},
   "source": [
    "#### Q03: Add columns for the month and the day of the week"
   ]
  },
  {
   "cell_type": "markdown",
   "metadata": {},
   "source": [
    "##### Define\n",
    "Add a column for the month and the day of the week. <br>"
   ]
  },
  {
   "cell_type": "markdown",
   "metadata": {},
   "source": [
    "##### Code"
   ]
  },
  {
   "cell_type": "code",
   "execution_count": 16,
   "metadata": {},
   "outputs": [],
   "source": [
    "# create empty column 'month'\n",
    "df_clean[\"month\"] = np.nan\n",
    "# create empty column 'day_of_week'\n",
    "df_clean[\"day_of_week\"] = np.nan\n",
    "# create empty column 'hour'\n",
    "df_clean[\"hour\"] = np.nan"
   ]
  },
  {
   "cell_type": "code",
   "execution_count": 17,
   "metadata": {},
   "outputs": [],
   "source": [
    "# get month of the data frame using the date of column start_time\n",
    "df_clean[\"month\"] = df_clean.start_time.dt.month_name()\n",
    "# get the day of the week of the data frame using the date of column start_time\n",
    "df_clean[\"day_of_week\"] = df_clean.start_time.dt.dayofweek\n",
    "# get the hour of the data frame using the date of column start_time\n",
    "df_clean[\"hour\"] = df_clean.start_time.dt.hour"
   ]
  },
  {
   "cell_type": "markdown",
   "metadata": {},
   "source": [
    "##### Test"
   ]
  },
  {
   "cell_type": "code",
   "execution_count": 18,
   "metadata": {},
   "outputs": [
    {
     "data": {
      "text/html": [
       "<div>\n",
       "<style scoped>\n",
       "    .dataframe tbody tr th:only-of-type {\n",
       "        vertical-align: middle;\n",
       "    }\n",
       "\n",
       "    .dataframe tbody tr th {\n",
       "        vertical-align: top;\n",
       "    }\n",
       "\n",
       "    .dataframe thead th {\n",
       "        text-align: right;\n",
       "    }\n",
       "</style>\n",
       "<table border=\"1\" class=\"dataframe\">\n",
       "  <thead>\n",
       "    <tr style=\"text-align: right;\">\n",
       "      <th></th>\n",
       "      <th>duration_sec</th>\n",
       "      <th>start_time</th>\n",
       "      <th>end_time</th>\n",
       "      <th>start_station_id</th>\n",
       "      <th>start_station_name</th>\n",
       "      <th>start_station_latitude</th>\n",
       "      <th>start_station_longitude</th>\n",
       "      <th>end_station_id</th>\n",
       "      <th>end_station_name</th>\n",
       "      <th>end_station_latitude</th>\n",
       "      <th>end_station_longitude</th>\n",
       "      <th>bike_id</th>\n",
       "      <th>user_type</th>\n",
       "      <th>bike_share_for_all_trip</th>\n",
       "      <th>rental_access_method</th>\n",
       "      <th>month</th>\n",
       "      <th>day_of_week</th>\n",
       "      <th>hour</th>\n",
       "    </tr>\n",
       "  </thead>\n",
       "  <tbody>\n",
       "    <tr>\n",
       "      <th>540087</th>\n",
       "      <td>91</td>\n",
       "      <td>2019-03-13 12:00:58.760</td>\n",
       "      <td>2019-03-13 12:02:30.536</td>\n",
       "      <td>16.0</td>\n",
       "      <td>Steuart St at Market St</td>\n",
       "      <td>37.794130</td>\n",
       "      <td>-122.394430</td>\n",
       "      <td>23.0</td>\n",
       "      <td>The Embarcadero at Steuart St</td>\n",
       "      <td>37.791464</td>\n",
       "      <td>-122.391034</td>\n",
       "      <td>5261</td>\n",
       "      <td>Subscriber</td>\n",
       "      <td>Yes</td>\n",
       "      <td>NaN</td>\n",
       "      <td>March</td>\n",
       "      <td>2</td>\n",
       "      <td>12</td>\n",
       "    </tr>\n",
       "    <tr>\n",
       "      <th>2373015</th>\n",
       "      <td>278</td>\n",
       "      <td>2019-12-22 09:01:32.470</td>\n",
       "      <td>2019-12-22 09:06:10.957</td>\n",
       "      <td>372.0</td>\n",
       "      <td>Madison St at 17th St</td>\n",
       "      <td>37.804037</td>\n",
       "      <td>-122.262409</td>\n",
       "      <td>7.0</td>\n",
       "      <td>Frank H Ogawa Plaza</td>\n",
       "      <td>37.804562</td>\n",
       "      <td>-122.271738</td>\n",
       "      <td>613</td>\n",
       "      <td>Customer</td>\n",
       "      <td>NaN</td>\n",
       "      <td>NaN</td>\n",
       "      <td>December</td>\n",
       "      <td>6</td>\n",
       "      <td>9</td>\n",
       "    </tr>\n",
       "    <tr>\n",
       "      <th>210053</th>\n",
       "      <td>770</td>\n",
       "      <td>2019-02-26 19:50:49.061</td>\n",
       "      <td>2019-02-26 20:03:39.214</td>\n",
       "      <td>114.0</td>\n",
       "      <td>Rhode Island St at 17th St</td>\n",
       "      <td>37.764478</td>\n",
       "      <td>-122.402570</td>\n",
       "      <td>343.0</td>\n",
       "      <td>Bryant St at 2nd St</td>\n",
       "      <td>37.783172</td>\n",
       "      <td>-122.393572</td>\n",
       "      <td>5279</td>\n",
       "      <td>Subscriber</td>\n",
       "      <td>No</td>\n",
       "      <td>NaN</td>\n",
       "      <td>February</td>\n",
       "      <td>1</td>\n",
       "      <td>19</td>\n",
       "    </tr>\n",
       "    <tr>\n",
       "      <th>1743802</th>\n",
       "      <td>323</td>\n",
       "      <td>2019-09-26 12:59:19.611</td>\n",
       "      <td>2019-09-26 13:04:43.076</td>\n",
       "      <td>21.0</td>\n",
       "      <td>Montgomery St BART Station (Market St at 2nd St)</td>\n",
       "      <td>37.789625</td>\n",
       "      <td>-122.400811</td>\n",
       "      <td>25.0</td>\n",
       "      <td>Howard St at 2nd St</td>\n",
       "      <td>37.786928</td>\n",
       "      <td>-122.398113</td>\n",
       "      <td>12001</td>\n",
       "      <td>Subscriber</td>\n",
       "      <td>No</td>\n",
       "      <td>NaN</td>\n",
       "      <td>September</td>\n",
       "      <td>3</td>\n",
       "      <td>12</td>\n",
       "    </tr>\n",
       "    <tr>\n",
       "      <th>2443988</th>\n",
       "      <td>1950</td>\n",
       "      <td>2019-12-08 16:31:20.905</td>\n",
       "      <td>2019-12-08 17:03:51.368</td>\n",
       "      <td>28.0</td>\n",
       "      <td>The Embarcadero at Bryant St</td>\n",
       "      <td>37.787168</td>\n",
       "      <td>-122.388098</td>\n",
       "      <td>376.0</td>\n",
       "      <td>Illinois St at 20th St</td>\n",
       "      <td>37.760458</td>\n",
       "      <td>-122.387540</td>\n",
       "      <td>12659</td>\n",
       "      <td>Subscriber</td>\n",
       "      <td>NaN</td>\n",
       "      <td>NaN</td>\n",
       "      <td>December</td>\n",
       "      <td>6</td>\n",
       "      <td>16</td>\n",
       "    </tr>\n",
       "  </tbody>\n",
       "</table>\n",
       "</div>"
      ],
      "text/plain": [
       "         duration_sec              start_time                end_time  \\\n",
       "540087             91 2019-03-13 12:00:58.760 2019-03-13 12:02:30.536   \n",
       "2373015           278 2019-12-22 09:01:32.470 2019-12-22 09:06:10.957   \n",
       "210053            770 2019-02-26 19:50:49.061 2019-02-26 20:03:39.214   \n",
       "1743802           323 2019-09-26 12:59:19.611 2019-09-26 13:04:43.076   \n",
       "2443988          1950 2019-12-08 16:31:20.905 2019-12-08 17:03:51.368   \n",
       "\n",
       "        start_station_id                                start_station_name  \\\n",
       "540087              16.0                           Steuart St at Market St   \n",
       "2373015            372.0                             Madison St at 17th St   \n",
       "210053             114.0                        Rhode Island St at 17th St   \n",
       "1743802             21.0  Montgomery St BART Station (Market St at 2nd St)   \n",
       "2443988             28.0                      The Embarcadero at Bryant St   \n",
       "\n",
       "         start_station_latitude  start_station_longitude end_station_id  \\\n",
       "540087                37.794130              -122.394430           23.0   \n",
       "2373015               37.804037              -122.262409            7.0   \n",
       "210053                37.764478              -122.402570          343.0   \n",
       "1743802               37.789625              -122.400811           25.0   \n",
       "2443988               37.787168              -122.388098          376.0   \n",
       "\n",
       "                      end_station_name  end_station_latitude  \\\n",
       "540087   The Embarcadero at Steuart St             37.791464   \n",
       "2373015            Frank H Ogawa Plaza             37.804562   \n",
       "210053             Bryant St at 2nd St             37.783172   \n",
       "1743802            Howard St at 2nd St             37.786928   \n",
       "2443988         Illinois St at 20th St             37.760458   \n",
       "\n",
       "         end_station_longitude bike_id   user_type bike_share_for_all_trip  \\\n",
       "540087             -122.391034    5261  Subscriber                     Yes   \n",
       "2373015            -122.271738     613    Customer                     NaN   \n",
       "210053             -122.393572    5279  Subscriber                      No   \n",
       "1743802            -122.398113   12001  Subscriber                      No   \n",
       "2443988            -122.387540   12659  Subscriber                     NaN   \n",
       "\n",
       "        rental_access_method      month  day_of_week  hour  \n",
       "540087                   NaN      March            2    12  \n",
       "2373015                  NaN   December            6     9  \n",
       "210053                   NaN   February            1    19  \n",
       "1743802                  NaN  September            3    12  \n",
       "2443988                  NaN   December            6    16  "
      ]
     },
     "execution_count": 18,
     "metadata": {},
     "output_type": "execute_result"
    }
   ],
   "source": [
    "df_clean.sample(5)"
   ]
  },
  {
   "cell_type": "markdown",
   "metadata": {},
   "source": [
    "#### Q04: Add column for the seasons"
   ]
  },
  {
   "cell_type": "markdown",
   "metadata": {},
   "source": [
    "##### Define\n",
    "Add a column for the season of the start_time. <br>\n",
    "The meteorological temperate seasons will be used for the definition of the seasons. <br>"
   ]
  },
  {
   "cell_type": "markdown",
   "metadata": {},
   "source": [
    "##### Code"
   ]
  },
  {
   "cell_type": "code",
   "execution_count": 19,
   "metadata": {},
   "outputs": [],
   "source": [
    "# create empty column 'season'\n",
    "df_clean[\"season\"] = np.nan"
   ]
  },
  {
   "cell_type": "code",
   "execution_count": 20,
   "metadata": {},
   "outputs": [],
   "source": [
    "# Winter: 1 December - 28 February \n",
    "df_clean.loc[df_clean.month == 'December', 'season'] = 'Winter'\n",
    "df_clean.loc[df_clean.month == 'January', 'season'] = 'Winter'\n",
    "df_clean.loc[df_clean.month == 'February', 'season'] = 'Winter'\n",
    "\n",
    "# Spring: 1 March - 31 May \n",
    "df_clean.loc[df_clean.month == 'March', 'season'] = 'Spring'\n",
    "df_clean.loc[df_clean.month == 'April', 'season'] = 'Spring'\n",
    "df_clean.loc[df_clean.month == 'May', 'season'] = 'Spring'\n",
    "\n",
    "# Summer: 1 June - 31 August \n",
    "df_clean.loc[df_clean.month == 'June', 'season'] = 'Summer'\n",
    "df_clean.loc[df_clean.month == 'July', 'season'] = 'Summer'\n",
    "df_clean.loc[df_clean.month == 'August', 'season'] = 'Summer'\n",
    "\n",
    "# Autumn: 1 September - 30 November \n",
    "df_clean.loc[df_clean.month == 'September', 'season'] = 'Autumn'\n",
    "df_clean.loc[df_clean.month == 'October', 'season'] = 'Autumn'\n",
    "df_clean.loc[df_clean.month == 'November', 'season'] = 'Autumn'"
   ]
  },
  {
   "cell_type": "markdown",
   "metadata": {},
   "source": [
    "##### Test"
   ]
  },
  {
   "cell_type": "code",
   "execution_count": 21,
   "metadata": {},
   "outputs": [
    {
     "data": {
      "text/plain": [
       "1063333    Summer\n",
       "1328849    Summer\n",
       "1209730    Summer\n",
       "516949     Spring\n",
       "1791299    Autumn\n",
       "2058838    Autumn\n",
       "1753375    Autumn\n",
       "2348494    Autumn\n",
       "898073     Spring\n",
       "2087126    Autumn\n",
       "Name: season, dtype: object"
      ]
     },
     "execution_count": 21,
     "metadata": {},
     "output_type": "execute_result"
    }
   ],
   "source": [
    "df_clean.sample(10).season"
   ]
  },
  {
   "cell_type": "markdown",
   "metadata": {},
   "source": [
    "#### Q05: Calculate distance and add a new column for it"
   ]
  },
  {
   "cell_type": "markdown",
   "metadata": {},
   "source": [
    "##### Define\n",
    "Calculate the distance between the start station and end station. <br>\n",
    "This will be done by using the Haversine formula to calculate the shortest distance on the surface of a sphere. <br>"
   ]
  },
  {
   "cell_type": "markdown",
   "metadata": {},
   "source": [
    "##### Code"
   ]
  },
  {
   "cell_type": "code",
   "execution_count": 22,
   "metadata": {},
   "outputs": [],
   "source": [
    "# create empty column 'distance'\n",
    "df_clean[\"distance_km\"] = np.nan"
   ]
  },
  {
   "cell_type": "code",
   "execution_count": 23,
   "metadata": {},
   "outputs": [],
   "source": [
    "# Use Haversine formula to calculate the shortest distance on the surface of a sphere\n",
    "p = np.pi/180 # Factor to get angle in degree to rad\n",
    "R = 6371; # Mean Earth radius [km]\n",
    "h = np.sin((df_clean.end_station_latitude - df_clean.start_station_latitude)*p/2) ** 2 + np.cos(df_clean.start_station_latitude*p) * np.cos(df_clean.end_station_latitude*p) * np.sin((df_clean.end_station_longitude - df_clean.start_station_longitude)*p/2) ** 2\n",
    "df_clean[\"distance_km\"] = 2 * R * np.arcsin(np.sqrt(h)) \n",
    "# check if all distances are less than the earth Earth diameter, otherwise remove Earth diameter (= sign problem in these rows)\n",
    "df_clean.loc[df_clean.distance_km > 2*R, 'distance_km'] = df_clean.distance_km - 2*R"
   ]
  },
  {
   "cell_type": "markdown",
   "metadata": {},
   "source": [
    "##### Test"
   ]
  },
  {
   "cell_type": "code",
   "execution_count": 24,
   "metadata": {},
   "outputs": [
    {
     "data": {
      "text/html": [
       "<div>\n",
       "<style scoped>\n",
       "    .dataframe tbody tr th:only-of-type {\n",
       "        vertical-align: middle;\n",
       "    }\n",
       "\n",
       "    .dataframe tbody tr th {\n",
       "        vertical-align: top;\n",
       "    }\n",
       "\n",
       "    .dataframe thead th {\n",
       "        text-align: right;\n",
       "    }\n",
       "</style>\n",
       "<table border=\"1\" class=\"dataframe\">\n",
       "  <thead>\n",
       "    <tr style=\"text-align: right;\">\n",
       "      <th></th>\n",
       "      <th>duration_sec</th>\n",
       "      <th>start_time</th>\n",
       "      <th>end_time</th>\n",
       "      <th>start_station_id</th>\n",
       "      <th>start_station_name</th>\n",
       "      <th>start_station_latitude</th>\n",
       "      <th>start_station_longitude</th>\n",
       "      <th>end_station_id</th>\n",
       "      <th>end_station_name</th>\n",
       "      <th>end_station_latitude</th>\n",
       "      <th>end_station_longitude</th>\n",
       "      <th>bike_id</th>\n",
       "      <th>user_type</th>\n",
       "      <th>bike_share_for_all_trip</th>\n",
       "      <th>rental_access_method</th>\n",
       "      <th>month</th>\n",
       "      <th>day_of_week</th>\n",
       "      <th>hour</th>\n",
       "      <th>season</th>\n",
       "      <th>distance_km</th>\n",
       "    </tr>\n",
       "  </thead>\n",
       "  <tbody>\n",
       "    <tr>\n",
       "      <th>905159</th>\n",
       "      <td>589</td>\n",
       "      <td>2019-05-26 10:50:19.738</td>\n",
       "      <td>2019-05-26 11:00:08.778</td>\n",
       "      <td>5.0</td>\n",
       "      <td>Powell St BART Station (Market St at 5th St)</td>\n",
       "      <td>37.783899</td>\n",
       "      <td>-122.408445</td>\n",
       "      <td>90.0</td>\n",
       "      <td>Townsend St at 7th St</td>\n",
       "      <td>37.771058</td>\n",
       "      <td>-122.402717</td>\n",
       "      <td>2497</td>\n",
       "      <td>Subscriber</td>\n",
       "      <td>No</td>\n",
       "      <td>NaN</td>\n",
       "      <td>May</td>\n",
       "      <td>6</td>\n",
       "      <td>10</td>\n",
       "      <td>Spring</td>\n",
       "      <td>1.514036</td>\n",
       "    </tr>\n",
       "    <tr>\n",
       "      <th>2413349</th>\n",
       "      <td>317</td>\n",
       "      <td>2019-12-13 16:18:41.917</td>\n",
       "      <td>2019-12-13 16:23:59.078</td>\n",
       "      <td>166.0</td>\n",
       "      <td>College Ave at Alcatraz Ave</td>\n",
       "      <td>37.851376</td>\n",
       "      <td>-122.252523</td>\n",
       "      <td>248.0</td>\n",
       "      <td>Telegraph Ave at Ashby Ave</td>\n",
       "      <td>37.855956</td>\n",
       "      <td>-122.259795</td>\n",
       "      <td>309</td>\n",
       "      <td>Subscriber</td>\n",
       "      <td>NaN</td>\n",
       "      <td>NaN</td>\n",
       "      <td>December</td>\n",
       "      <td>4</td>\n",
       "      <td>16</td>\n",
       "      <td>Winter</td>\n",
       "      <td>0.816690</td>\n",
       "    </tr>\n",
       "    <tr>\n",
       "      <th>2289783</th>\n",
       "      <td>328</td>\n",
       "      <td>2019-11-10 16:04:13.871</td>\n",
       "      <td>2019-11-10 16:09:42.051</td>\n",
       "      <td>375.0</td>\n",
       "      <td>Grove St at Masonic Ave</td>\n",
       "      <td>37.774836</td>\n",
       "      <td>-122.446546</td>\n",
       "      <td>53.0</td>\n",
       "      <td>Grove St at Divisadero</td>\n",
       "      <td>37.775946</td>\n",
       "      <td>-122.437777</td>\n",
       "      <td>10207</td>\n",
       "      <td>Subscriber</td>\n",
       "      <td>Yes</td>\n",
       "      <td>NaN</td>\n",
       "      <td>November</td>\n",
       "      <td>6</td>\n",
       "      <td>16</td>\n",
       "      <td>Autumn</td>\n",
       "      <td>0.780454</td>\n",
       "    </tr>\n",
       "    <tr>\n",
       "      <th>1288988</th>\n",
       "      <td>509</td>\n",
       "      <td>2019-07-23 18:03:17.836</td>\n",
       "      <td>2019-07-23 18:11:47.660</td>\n",
       "      <td>6.0</td>\n",
       "      <td>The Embarcadero at Sansome St</td>\n",
       "      <td>37.804770</td>\n",
       "      <td>-122.403234</td>\n",
       "      <td>17.0</td>\n",
       "      <td>Embarcadero BART Station (Beale St at Market St)</td>\n",
       "      <td>37.792251</td>\n",
       "      <td>-122.397086</td>\n",
       "      <td>2117</td>\n",
       "      <td>Subscriber</td>\n",
       "      <td>No</td>\n",
       "      <td>NaN</td>\n",
       "      <td>July</td>\n",
       "      <td>1</td>\n",
       "      <td>18</td>\n",
       "      <td>Summer</td>\n",
       "      <td>1.493184</td>\n",
       "    </tr>\n",
       "    <tr>\n",
       "      <th>729093</th>\n",
       "      <td>361</td>\n",
       "      <td>2019-04-15 20:00:37.279</td>\n",
       "      <td>2019-04-15 20:06:39.237</td>\n",
       "      <td>30.0</td>\n",
       "      <td>San Francisco Caltrain (Townsend St at 4th St)</td>\n",
       "      <td>37.776598</td>\n",
       "      <td>-122.395282</td>\n",
       "      <td>36.0</td>\n",
       "      <td>Folsom St at 3rd St</td>\n",
       "      <td>37.783830</td>\n",
       "      <td>-122.398870</td>\n",
       "      <td>1400</td>\n",
       "      <td>Subscriber</td>\n",
       "      <td>No</td>\n",
       "      <td>NaN</td>\n",
       "      <td>April</td>\n",
       "      <td>0</td>\n",
       "      <td>20</td>\n",
       "      <td>Spring</td>\n",
       "      <td>0.863776</td>\n",
       "    </tr>\n",
       "    <tr>\n",
       "      <th>1246649</th>\n",
       "      <td>1463</td>\n",
       "      <td>2019-07-31 18:07:42.018</td>\n",
       "      <td>2019-07-31 18:32:05.453</td>\n",
       "      <td>23.0</td>\n",
       "      <td>The Embarcadero at Steuart St</td>\n",
       "      <td>37.791464</td>\n",
       "      <td>-122.391034</td>\n",
       "      <td>125.0</td>\n",
       "      <td>20th St at Bryant St</td>\n",
       "      <td>37.759200</td>\n",
       "      <td>-122.409851</td>\n",
       "      <td>1565</td>\n",
       "      <td>Subscriber</td>\n",
       "      <td>No</td>\n",
       "      <td>NaN</td>\n",
       "      <td>July</td>\n",
       "      <td>2</td>\n",
       "      <td>18</td>\n",
       "      <td>Summer</td>\n",
       "      <td>3.950393</td>\n",
       "    </tr>\n",
       "    <tr>\n",
       "      <th>2227824</th>\n",
       "      <td>458</td>\n",
       "      <td>2019-11-19 09:02:38.216</td>\n",
       "      <td>2019-11-19 09:10:16.741</td>\n",
       "      <td>223.0</td>\n",
       "      <td>16th St Mission BART Station 2</td>\n",
       "      <td>37.764765</td>\n",
       "      <td>-122.420091</td>\n",
       "      <td>124.0</td>\n",
       "      <td>19th St at Florida St</td>\n",
       "      <td>37.760447</td>\n",
       "      <td>-122.410807</td>\n",
       "      <td>12048</td>\n",
       "      <td>Subscriber</td>\n",
       "      <td>No</td>\n",
       "      <td>NaN</td>\n",
       "      <td>November</td>\n",
       "      <td>1</td>\n",
       "      <td>9</td>\n",
       "      <td>Autumn</td>\n",
       "      <td>0.946899</td>\n",
       "    </tr>\n",
       "    <tr>\n",
       "      <th>781126</th>\n",
       "      <td>267</td>\n",
       "      <td>2019-04-10 08:59:51.611</td>\n",
       "      <td>2019-04-10 09:04:19.231</td>\n",
       "      <td>182.0</td>\n",
       "      <td>19th Street BART Station</td>\n",
       "      <td>37.809013</td>\n",
       "      <td>-122.268247</td>\n",
       "      <td>178.0</td>\n",
       "      <td>Broadway at 30th St</td>\n",
       "      <td>37.819381</td>\n",
       "      <td>-122.261928</td>\n",
       "      <td>4829</td>\n",
       "      <td>Subscriber</td>\n",
       "      <td>No</td>\n",
       "      <td>NaN</td>\n",
       "      <td>April</td>\n",
       "      <td>2</td>\n",
       "      <td>8</td>\n",
       "      <td>Spring</td>\n",
       "      <td>1.279619</td>\n",
       "    </tr>\n",
       "    <tr>\n",
       "      <th>1924568</th>\n",
       "      <td>321</td>\n",
       "      <td>2019-09-02 21:47:45.765</td>\n",
       "      <td>2019-09-02 21:53:07.195</td>\n",
       "      <td>317.0</td>\n",
       "      <td>San Salvador St at 9th St</td>\n",
       "      <td>37.333955</td>\n",
       "      <td>-121.877349</td>\n",
       "      <td>296.0</td>\n",
       "      <td>5th St at Virginia St</td>\n",
       "      <td>37.325998</td>\n",
       "      <td>-121.877120</td>\n",
       "      <td>7141</td>\n",
       "      <td>Subscriber</td>\n",
       "      <td>Yes</td>\n",
       "      <td>NaN</td>\n",
       "      <td>September</td>\n",
       "      <td>0</td>\n",
       "      <td>21</td>\n",
       "      <td>Autumn</td>\n",
       "      <td>0.884965</td>\n",
       "    </tr>\n",
       "    <tr>\n",
       "      <th>1061366</th>\n",
       "      <td>826</td>\n",
       "      <td>2019-06-28 22:27:43.017</td>\n",
       "      <td>2019-06-28 22:41:29.444</td>\n",
       "      <td>349.0</td>\n",
       "      <td>Howard St at Mary St</td>\n",
       "      <td>37.781010</td>\n",
       "      <td>-122.405666</td>\n",
       "      <td>92.0</td>\n",
       "      <td>Mission Bay Kids Park</td>\n",
       "      <td>37.772301</td>\n",
       "      <td>-122.393028</td>\n",
       "      <td>1217</td>\n",
       "      <td>Subscriber</td>\n",
       "      <td>No</td>\n",
       "      <td>NaN</td>\n",
       "      <td>June</td>\n",
       "      <td>4</td>\n",
       "      <td>22</td>\n",
       "      <td>Summer</td>\n",
       "      <td>1.473658</td>\n",
       "    </tr>\n",
       "  </tbody>\n",
       "</table>\n",
       "</div>"
      ],
      "text/plain": [
       "         duration_sec              start_time                end_time  \\\n",
       "905159            589 2019-05-26 10:50:19.738 2019-05-26 11:00:08.778   \n",
       "2413349           317 2019-12-13 16:18:41.917 2019-12-13 16:23:59.078   \n",
       "2289783           328 2019-11-10 16:04:13.871 2019-11-10 16:09:42.051   \n",
       "1288988           509 2019-07-23 18:03:17.836 2019-07-23 18:11:47.660   \n",
       "729093            361 2019-04-15 20:00:37.279 2019-04-15 20:06:39.237   \n",
       "1246649          1463 2019-07-31 18:07:42.018 2019-07-31 18:32:05.453   \n",
       "2227824           458 2019-11-19 09:02:38.216 2019-11-19 09:10:16.741   \n",
       "781126            267 2019-04-10 08:59:51.611 2019-04-10 09:04:19.231   \n",
       "1924568           321 2019-09-02 21:47:45.765 2019-09-02 21:53:07.195   \n",
       "1061366           826 2019-06-28 22:27:43.017 2019-06-28 22:41:29.444   \n",
       "\n",
       "        start_station_id                              start_station_name  \\\n",
       "905159               5.0    Powell St BART Station (Market St at 5th St)   \n",
       "2413349            166.0                     College Ave at Alcatraz Ave   \n",
       "2289783            375.0                         Grove St at Masonic Ave   \n",
       "1288988              6.0                   The Embarcadero at Sansome St   \n",
       "729093              30.0  San Francisco Caltrain (Townsend St at 4th St)   \n",
       "1246649             23.0                   The Embarcadero at Steuart St   \n",
       "2227824            223.0                  16th St Mission BART Station 2   \n",
       "781126             182.0                        19th Street BART Station   \n",
       "1924568            317.0                       San Salvador St at 9th St   \n",
       "1061366            349.0                            Howard St at Mary St   \n",
       "\n",
       "         start_station_latitude  start_station_longitude end_station_id  \\\n",
       "905159                37.783899              -122.408445           90.0   \n",
       "2413349               37.851376              -122.252523          248.0   \n",
       "2289783               37.774836              -122.446546           53.0   \n",
       "1288988               37.804770              -122.403234           17.0   \n",
       "729093                37.776598              -122.395282           36.0   \n",
       "1246649               37.791464              -122.391034          125.0   \n",
       "2227824               37.764765              -122.420091          124.0   \n",
       "781126                37.809013              -122.268247          178.0   \n",
       "1924568               37.333955              -121.877349          296.0   \n",
       "1061366               37.781010              -122.405666           92.0   \n",
       "\n",
       "                                         end_station_name  \\\n",
       "905159                              Townsend St at 7th St   \n",
       "2413349                        Telegraph Ave at Ashby Ave   \n",
       "2289783                            Grove St at Divisadero   \n",
       "1288988  Embarcadero BART Station (Beale St at Market St)   \n",
       "729093                                Folsom St at 3rd St   \n",
       "1246649                              20th St at Bryant St   \n",
       "2227824                             19th St at Florida St   \n",
       "781126                                Broadway at 30th St   \n",
       "1924568                             5th St at Virginia St   \n",
       "1061366                             Mission Bay Kids Park   \n",
       "\n",
       "         end_station_latitude  end_station_longitude bike_id   user_type  \\\n",
       "905159              37.771058            -122.402717    2497  Subscriber   \n",
       "2413349             37.855956            -122.259795     309  Subscriber   \n",
       "2289783             37.775946            -122.437777   10207  Subscriber   \n",
       "1288988             37.792251            -122.397086    2117  Subscriber   \n",
       "729093              37.783830            -122.398870    1400  Subscriber   \n",
       "1246649             37.759200            -122.409851    1565  Subscriber   \n",
       "2227824             37.760447            -122.410807   12048  Subscriber   \n",
       "781126              37.819381            -122.261928    4829  Subscriber   \n",
       "1924568             37.325998            -121.877120    7141  Subscriber   \n",
       "1061366             37.772301            -122.393028    1217  Subscriber   \n",
       "\n",
       "        bike_share_for_all_trip rental_access_method      month  day_of_week  \\\n",
       "905159                       No                  NaN        May            6   \n",
       "2413349                     NaN                  NaN   December            4   \n",
       "2289783                     Yes                  NaN   November            6   \n",
       "1288988                      No                  NaN       July            1   \n",
       "729093                       No                  NaN      April            0   \n",
       "1246649                      No                  NaN       July            2   \n",
       "2227824                      No                  NaN   November            1   \n",
       "781126                       No                  NaN      April            2   \n",
       "1924568                     Yes                  NaN  September            0   \n",
       "1061366                      No                  NaN       June            4   \n",
       "\n",
       "         hour  season  distance_km  \n",
       "905159     10  Spring     1.514036  \n",
       "2413349    16  Winter     0.816690  \n",
       "2289783    16  Autumn     0.780454  \n",
       "1288988    18  Summer     1.493184  \n",
       "729093     20  Spring     0.863776  \n",
       "1246649    18  Summer     3.950393  \n",
       "2227824     9  Autumn     0.946899  \n",
       "781126      8  Spring     1.279619  \n",
       "1924568    21  Autumn     0.884965  \n",
       "1061366    22  Summer     1.473658  "
      ]
     },
     "execution_count": 24,
     "metadata": {},
     "output_type": "execute_result"
    }
   ],
   "source": [
    "df_clean.sample(10)"
   ]
  },
  {
   "cell_type": "markdown",
   "metadata": {},
   "source": [
    "#### Q06: Columns (13,14) have mixed types"
   ]
  },
  {
   "cell_type": "markdown",
   "metadata": {},
   "source": [
    "##### Define\n",
    "Columns 13 and 14 have missing entries. <br>\n",
    "They are imported as 'nan' for the missing entries and strings ('Yes' and 'No' for column bike_share_for_all_trip, respectively 'app' and 'clipper' for column rental_access_method). <br>\n",
    "Therefore, replace nan in type object with NULL. <br>"
   ]
  },
  {
   "cell_type": "markdown",
   "metadata": {},
   "source": [
    "##### Code"
   ]
  },
  {
   "cell_type": "code",
   "execution_count": 25,
   "metadata": {},
   "outputs": [],
   "source": [
    "# missing entries in columns bike_share_for_all_trip & rental_access_method lead to different types (nan and strings)\n",
    "# this will be corrected by this code\n",
    "for col in df_clean.select_dtypes(include='object').columns:\n",
    "    df_clean[col] = df_clean[col].str.strip().str.lower().fillna('NULL')"
   ]
  },
  {
   "cell_type": "markdown",
   "metadata": {},
   "source": [
    "##### Test"
   ]
  },
  {
   "cell_type": "code",
   "execution_count": 26,
   "metadata": {},
   "outputs": [
    {
     "data": {
      "text/plain": [
       "array(['NULL', 'app', 'clipper'], dtype=object)"
      ]
     },
     "execution_count": 26,
     "metadata": {},
     "output_type": "execute_result"
    }
   ],
   "source": [
    "df_clean.rental_access_method.unique()"
   ]
  },
  {
   "cell_type": "code",
   "execution_count": 27,
   "metadata": {},
   "outputs": [
    {
     "data": {
      "text/plain": [
       "array(['no', 'yes', 'NULL'], dtype=object)"
      ]
     },
     "execution_count": 27,
     "metadata": {},
     "output_type": "execute_result"
    }
   ],
   "source": [
    "df_clean.bike_share_for_all_trip.unique()"
   ]
  },
  {
   "cell_type": "markdown",
   "metadata": {},
   "source": [
    "<a id='storing'></a>\n",
    "### Storing Data\n",
    "Storing the clean data in an additional csv file which can be loaded without rerunning the above code. "
   ]
  },
  {
   "cell_type": "code",
   "execution_count": 28,
   "metadata": {},
   "outputs": [],
   "source": [
    "# store cleaned data in new csv file\n",
    "df_clean.to_csv('2019-baywheels-tripdata-clean.csv', index = False)"
   ]
  },
  {
   "cell_type": "code",
   "execution_count": 29,
   "metadata": {},
   "outputs": [
    {
     "name": "stdout",
     "output_type": "stream",
     "text": [
      "Cleaned file exists\n"
     ]
    }
   ],
   "source": [
    "# check if cleaned csv file exists\n",
    "if os.path.isfile('2019-baywheels-tripdata-clean.csv'):\n",
    "    print (\"Cleaned file exists\")\n",
    "else:\n",
    "    print (\"Cleaned file does NOT exist\")"
   ]
  },
  {
   "cell_type": "markdown",
   "metadata": {},
   "source": [
    "<a id='exploration'></a>\n",
    "## Data Exploration\n",
    "I will try to answer the following questions within this section:\n",
    "- Is the usage of the bike sharing system correlated with\n",
    " - the season?\n",
    " - the month?\n",
    " - the day of the week?\n",
    " - the hour of the day?\n",
    " - the user type\n",
    "- How long does an average trip takes, in terms of time and distance. Is it depended on \n",
    " - the user type?\n",
    " - the season?\n",
    " - the month?\n",
    " - the day of the week?\n",
    " - the hour of the day?"
   ]
  },
  {
   "cell_type": "code",
   "execution_count": 30,
   "metadata": {},
   "outputs": [
    {
     "name": "stdout",
     "output_type": "stream",
     "text": [
      "Data frame df_clean already exists\n"
     ]
    },
    {
     "data": {
      "text/html": [
       "<div>\n",
       "<style scoped>\n",
       "    .dataframe tbody tr th:only-of-type {\n",
       "        vertical-align: middle;\n",
       "    }\n",
       "\n",
       "    .dataframe tbody tr th {\n",
       "        vertical-align: top;\n",
       "    }\n",
       "\n",
       "    .dataframe thead th {\n",
       "        text-align: right;\n",
       "    }\n",
       "</style>\n",
       "<table border=\"1\" class=\"dataframe\">\n",
       "  <thead>\n",
       "    <tr style=\"text-align: right;\">\n",
       "      <th></th>\n",
       "      <th>duration_sec</th>\n",
       "      <th>start_time</th>\n",
       "      <th>end_time</th>\n",
       "      <th>start_station_id</th>\n",
       "      <th>start_station_name</th>\n",
       "      <th>start_station_latitude</th>\n",
       "      <th>start_station_longitude</th>\n",
       "      <th>end_station_id</th>\n",
       "      <th>end_station_name</th>\n",
       "      <th>end_station_latitude</th>\n",
       "      <th>end_station_longitude</th>\n",
       "      <th>bike_id</th>\n",
       "      <th>user_type</th>\n",
       "      <th>bike_share_for_all_trip</th>\n",
       "      <th>rental_access_method</th>\n",
       "      <th>month</th>\n",
       "      <th>day_of_week</th>\n",
       "      <th>hour</th>\n",
       "      <th>season</th>\n",
       "      <th>distance_km</th>\n",
       "    </tr>\n",
       "  </thead>\n",
       "  <tbody>\n",
       "    <tr>\n",
       "      <th>359695</th>\n",
       "      <td>826</td>\n",
       "      <td>2019-02-04 16:58:24.396</td>\n",
       "      <td>2019-02-04 17:12:11.095</td>\n",
       "      <td>9.0</td>\n",
       "      <td>broadway at battery st</td>\n",
       "      <td>37.798572</td>\n",
       "      <td>-122.400869</td>\n",
       "      <td>66.0</td>\n",
       "      <td>3rd st at townsend st</td>\n",
       "      <td>37.778742</td>\n",
       "      <td>-122.392741</td>\n",
       "      <td>5566</td>\n",
       "      <td>customer</td>\n",
       "      <td>no</td>\n",
       "      <td>NULL</td>\n",
       "      <td>february</td>\n",
       "      <td>0</td>\n",
       "      <td>16</td>\n",
       "      <td>winter</td>\n",
       "      <td>2.317847</td>\n",
       "    </tr>\n",
       "    <tr>\n",
       "      <th>315369</th>\n",
       "      <td>488</td>\n",
       "      <td>2019-02-11 09:33:36.848</td>\n",
       "      <td>2019-02-11 09:41:45.343</td>\n",
       "      <td>195.0</td>\n",
       "      <td>bay pl at vernon st</td>\n",
       "      <td>37.812314</td>\n",
       "      <td>-122.260779</td>\n",
       "      <td>7.0</td>\n",
       "      <td>frank h ogawa plaza</td>\n",
       "      <td>37.804562</td>\n",
       "      <td>-122.271738</td>\n",
       "      <td>4913</td>\n",
       "      <td>subscriber</td>\n",
       "      <td>no</td>\n",
       "      <td>NULL</td>\n",
       "      <td>february</td>\n",
       "      <td>0</td>\n",
       "      <td>9</td>\n",
       "      <td>winter</td>\n",
       "      <td>1.292269</td>\n",
       "    </tr>\n",
       "    <tr>\n",
       "      <th>1698331</th>\n",
       "      <td>573</td>\n",
       "      <td>2019-08-03 10:58:06.079</td>\n",
       "      <td>2019-08-03 11:07:39.851</td>\n",
       "      <td>16.0</td>\n",
       "      <td>steuart st at market st</td>\n",
       "      <td>37.794130</td>\n",
       "      <td>-122.394430</td>\n",
       "      <td>3.0</td>\n",
       "      <td>powell st bart station (market st at 4th st)</td>\n",
       "      <td>37.786375</td>\n",
       "      <td>-122.404904</td>\n",
       "      <td>2765</td>\n",
       "      <td>subscriber</td>\n",
       "      <td>no</td>\n",
       "      <td>NULL</td>\n",
       "      <td>august</td>\n",
       "      <td>5</td>\n",
       "      <td>10</td>\n",
       "      <td>summer</td>\n",
       "      <td>1.261228</td>\n",
       "    </tr>\n",
       "    <tr>\n",
       "      <th>1111010</th>\n",
       "      <td>408</td>\n",
       "      <td>2019-06-21 10:07:14.559</td>\n",
       "      <td>2019-06-21 10:14:02.850</td>\n",
       "      <td>37.0</td>\n",
       "      <td>2nd st at folsom st</td>\n",
       "      <td>37.785377</td>\n",
       "      <td>-122.396906</td>\n",
       "      <td>364.0</td>\n",
       "      <td>china basin st at 3rd st</td>\n",
       "      <td>37.772000</td>\n",
       "      <td>-122.389970</td>\n",
       "      <td>2326</td>\n",
       "      <td>subscriber</td>\n",
       "      <td>no</td>\n",
       "      <td>NULL</td>\n",
       "      <td>june</td>\n",
       "      <td>4</td>\n",
       "      <td>10</td>\n",
       "      <td>summer</td>\n",
       "      <td>1.607523</td>\n",
       "    </tr>\n",
       "    <tr>\n",
       "      <th>1933560</th>\n",
       "      <td>2191</td>\n",
       "      <td>2019-10-31 17:25:15.461</td>\n",
       "      <td>2019-10-31 18:01:46.819</td>\n",
       "      <td>265.0</td>\n",
       "      <td>ninth st at parker st</td>\n",
       "      <td>37.858868</td>\n",
       "      <td>-122.291209</td>\n",
       "      <td>233.0</td>\n",
       "      <td>4th ave at e 12th st (temporary location)</td>\n",
       "      <td>37.795913</td>\n",
       "      <td>-122.255547</td>\n",
       "      <td>3619</td>\n",
       "      <td>subscriber</td>\n",
       "      <td>no</td>\n",
       "      <td>NULL</td>\n",
       "      <td>october</td>\n",
       "      <td>3</td>\n",
       "      <td>17</td>\n",
       "      <td>autumn</td>\n",
       "      <td>7.669080</td>\n",
       "    </tr>\n",
       "  </tbody>\n",
       "</table>\n",
       "</div>"
      ],
      "text/plain": [
       "         duration_sec              start_time                end_time  \\\n",
       "359695            826 2019-02-04 16:58:24.396 2019-02-04 17:12:11.095   \n",
       "315369            488 2019-02-11 09:33:36.848 2019-02-11 09:41:45.343   \n",
       "1698331           573 2019-08-03 10:58:06.079 2019-08-03 11:07:39.851   \n",
       "1111010           408 2019-06-21 10:07:14.559 2019-06-21 10:14:02.850   \n",
       "1933560          2191 2019-10-31 17:25:15.461 2019-10-31 18:01:46.819   \n",
       "\n",
       "        start_station_id       start_station_name  start_station_latitude  \\\n",
       "359695               9.0   broadway at battery st               37.798572   \n",
       "315369             195.0      bay pl at vernon st               37.812314   \n",
       "1698331             16.0  steuart st at market st               37.794130   \n",
       "1111010             37.0      2nd st at folsom st               37.785377   \n",
       "1933560            265.0    ninth st at parker st               37.858868   \n",
       "\n",
       "         start_station_longitude end_station_id  \\\n",
       "359695               -122.400869           66.0   \n",
       "315369               -122.260779            7.0   \n",
       "1698331              -122.394430            3.0   \n",
       "1111010              -122.396906          364.0   \n",
       "1933560              -122.291209          233.0   \n",
       "\n",
       "                                     end_station_name  end_station_latitude  \\\n",
       "359695                          3rd st at townsend st             37.778742   \n",
       "315369                            frank h ogawa plaza             37.804562   \n",
       "1698331  powell st bart station (market st at 4th st)             37.786375   \n",
       "1111010                      china basin st at 3rd st             37.772000   \n",
       "1933560     4th ave at e 12th st (temporary location)             37.795913   \n",
       "\n",
       "         end_station_longitude bike_id   user_type bike_share_for_all_trip  \\\n",
       "359695             -122.392741    5566    customer                      no   \n",
       "315369             -122.271738    4913  subscriber                      no   \n",
       "1698331            -122.404904    2765  subscriber                      no   \n",
       "1111010            -122.389970    2326  subscriber                      no   \n",
       "1933560            -122.255547    3619  subscriber                      no   \n",
       "\n",
       "        rental_access_method     month  day_of_week  hour  season  distance_km  \n",
       "359695                  NULL  february            0    16  winter     2.317847  \n",
       "315369                  NULL  february            0     9  winter     1.292269  \n",
       "1698331                 NULL    august            5    10  summer     1.261228  \n",
       "1111010                 NULL      june            4    10  summer     1.607523  \n",
       "1933560                 NULL   october            3    17  autumn     7.669080  "
      ]
     },
     "execution_count": 30,
     "metadata": {},
     "output_type": "execute_result"
    }
   ],
   "source": [
    "# load cleaned csv file just needed to avoid running all the above code again and save time\n",
    "\n",
    "# check if data frame df_clean exists\n",
    "if 'df_clean' in locals():\n",
    "    print('Data frame df_clean already exists')\n",
    "else:\n",
    "    print('Data frame df_clean does not exist. Will be loaded...')\n",
    "    df_clean = pd.read_csv('2019-baywheels-tripdata-clean.csv');\n",
    "    print('Data frame df_clean loaded.')\n",
    "    # Q5 cleaning have to be repeated after each file load or column entry needs to be changed\n",
    "    for col in df_clean.select_dtypes(include='object').columns:\n",
    "        df_clean[col] = df_clean[col].str.strip().str.lower().fillna('NULL')\n",
    "    print('mixed types issue fixed.')\n",
    "\n",
    "# show 5 samples of df_clean\n",
    "df_clean.sample(5)"
   ]
  },
  {
   "cell_type": "markdown",
   "metadata": {},
   "source": [
    "<a id='explor_uni'></a>\n",
    "### Univariate Exploration"
   ]
  },
  {
   "cell_type": "markdown",
   "metadata": {},
   "source": [
    "Within this part I will analyse the dataset and try to answer the following questions:\n",
    "- What is the distribution of \n",
    " - the user type?\n",
    " - the \"Bike share for all trip\"?\n",
    " - the rental method?\n",
    "- Is the usage of the bike sharing system correlated with\n",
    " - the season?\n",
    " - the month?\n",
    " - the day of the week?\n",
    " - the hour of the day?\n",
    " - the user type?\n",
    " - the duration?\n",
    " - the distance?"
   ]
  },
  {
   "cell_type": "markdown",
   "metadata": {},
   "source": [
    "#### User Type Distribution"
   ]
  },
  {
   "cell_type": "code",
   "execution_count": 31,
   "metadata": {},
   "outputs": [
    {
     "data": {
      "image/png": "[encoded data removed]",
      "text/plain": [
       "<Figure size 432x288 with 1 Axes>"
      ]
     },
     "metadata": {},
     "output_type": "display_data"
    }
   ],
   "source": [
    "# Pie chart for user type, where the slices will be ordered and plotted counter-clockwise:\n",
    "labels = 'subscriber', 'customer'\n",
    "sizes = df_clean.user_type.value_counts()\n",
    "explode = (0, 0)\n",
    "\n",
    "#fig1, ax1 = plt.subplots()\n",
    "plt.pie(sizes, explode=explode, autopct='%1.1f%%',\n",
    "        shadow=True, startangle=90)\n",
    "plt.axis('equal')  # Equal aspect ratio ensures that pie is drawn as a circle.\n",
    "plt.legend(labels=labels, bbox_to_anchor=(1.2,0.5), loc='right')\n",
    "plt.title('User Type distribution')\n",
    "plt.show()"
   ]
  },
  {
   "cell_type": "markdown",
   "metadata": {},
   "source": [
    "~80% of the users are members, while ~20% of the users are casual customers."
   ]
  },
  {
   "cell_type": "markdown",
   "metadata": {},
   "source": [
    "#### Bike share for all trip Distribution"
   ]
  },
  {
   "cell_type": "code",
   "execution_count": 32,
   "metadata": {},
   "outputs": [
    {
     "data": {
      "image/png": "[encoded data removed]",
      "text/plain": [
       "<Figure size 432x288 with 1 Axes>"
      ]
     },
     "metadata": {},
     "output_type": "display_data"
    }
   ],
   "source": [
    "# Pie chart for user type, where the slices will be ordered and plotted counter-clockwise:\n",
    "labels = 'no', 'unknown', 'yes'\n",
    "sizes = df_clean.bike_share_for_all_trip.value_counts()\n",
    "explode = (0, 0, 0.1)\n",
    "\n",
    "#fig1, ax1 = plt.subplots()\n",
    "plt.pie(sizes, explode=explode, autopct='%1.1f%%',\n",
    "        shadow=True, startangle=90)\n",
    "plt.axis('equal')  # Equal aspect ratio ensures that pie is drawn as a circle.\n",
    "plt.legend(labels=labels, bbox_to_anchor=(1.2,0.5), loc='right')\n",
    "plt.title('Bike share for all trip distribution')\n",
    "plt.show()"
   ]
  },
  {
   "cell_type": "markdown",
   "metadata": {},
   "source": [
    "The dataset contains for around 10% of the users no information about the usage of the bike share for all trip. Just about 7% of the users use the bike sharing system for all trip, while most of the users (~83%) do not use the bike share for all trip option."
   ]
  },
  {
   "cell_type": "markdown",
   "metadata": {},
   "source": [
    "#### Rental Access Method Distribution"
   ]
  },
  {
   "cell_type": "code",
   "execution_count": 33,
   "metadata": {},
   "outputs": [
    {
     "data": {
      "text/plain": [
       "0.04820056617855007"
      ]
     },
     "execution_count": 33,
     "metadata": {},
     "output_type": "execute_result"
    }
   ],
   "source": [
    "# percentage of Null entries for rental_access_method\n",
    "df_clean.query('rental_access_method != \"NULL\"').shape[0] / df.shape[0]"
   ]
  },
  {
   "cell_type": "code",
   "execution_count": 34,
   "metadata": {},
   "outputs": [
    {
     "data": {
      "text/plain": [
       "array(['june', 'july', 'november', 'december'], dtype=object)"
      ]
     },
     "execution_count": 34,
     "metadata": {},
     "output_type": "execute_result"
    }
   ],
   "source": [
    "df_clean.query('rental_access_method != \"NULL\"').month.unique()"
   ]
  },
  {
   "cell_type": "code",
   "execution_count": 35,
   "metadata": {},
   "outputs": [
    {
     "data": {
      "image/png": "[encoded data removed]",
      "text/plain": [
       "<Figure size 432x288 with 1 Axes>"
      ]
     },
     "metadata": {},
     "output_type": "display_data"
    }
   ],
   "source": [
    "# Pie chart for user type, where the slices will be ordered and plotted counter-clockwise:\n",
    "labels = 'app', 'clipper'\n",
    "sizes = df_clean.query('rental_access_method != \"NULL\"').rental_access_method.value_counts()\n",
    "explode = (0, 0)\n",
    "\n",
    "#fig1, ax1 = plt.subplots()\n",
    "plt.pie(sizes, explode=explode, autopct='%1.1f%%',\n",
    "        shadow=True, startangle=90)\n",
    "plt.axis('equal')  # Equal aspect ratio ensures that pie is drawn as a circle.\n",
    "plt.legend(labels=labels, bbox_to_anchor=(1.2,0.5), loc='right')\n",
    "plt.title('Rental access method distribution')\n",
    "plt.show()"
   ]
  },
  {
   "cell_type": "markdown",
   "metadata": {},
   "source": [
    "Just around 4% of all entries in the dataset contain information about the rental access method. These entries were collected in the months: June, July, November and December. It is unclear why Lyft collected or published just the access methods for these four months. If one takes a closer look at the published data, one sees that around 90% of the users used the app for sharing a bike. "
   ]
  },
  {
   "cell_type": "markdown",
   "metadata": {},
   "source": [
    "#### Bike rides per day of the week"
   ]
  },
  {
   "cell_type": "code",
   "execution_count": 36,
   "metadata": {},
   "outputs": [
    {
     "data": {
      "image/png": "[encoded data removed]",
      "text/plain": [
       "<Figure size 432x288 with 1 Axes>"
      ]
     },
     "metadata": {
      "needs_background": "light"
     },
     "output_type": "display_data"
    }
   ],
   "source": [
    "# bike rides per day of the week\n",
    "base_color = sns.color_palette()[0]\n",
    "label_weekdays = ['Monday', 'Tuesday', 'Wednesday', 'Thursday', 'Friday', 'Saturday', 'Sunday']\n",
    "\n",
    "sns.countplot(data = df_clean, x = 'day_of_week', color = base_color);\n",
    "# plot settings\n",
    "plt.title('Number of bike rides per day of the week');\n",
    "plt.ylabel('# of bike rides');\n",
    "plt.xlabel('Day of the week');\n",
    "plt.xticks([0,1,2,3,4,5,6], label_weekdays, rotation=90);"
   ]
  },
  {
   "cell_type": "code",
   "execution_count": 37,
   "metadata": {},
   "outputs": [
    {
     "data": {
      "text/plain": [
       "1    427640\n",
       "3    424474\n",
       "2    414448\n",
       "4    397284\n",
       "0    396463\n",
       "5    234370\n",
       "6    212304\n",
       "Name: day_of_week, dtype: int64"
      ]
     },
     "execution_count": 37,
     "metadata": {},
     "output_type": "execute_result"
    }
   ],
   "source": [
    "usage_per_weekday = df_clean.day_of_week.value_counts()\n",
    "usage_per_weekday"
   ]
  },
  {
   "cell_type": "code",
   "execution_count": 38,
   "metadata": {},
   "outputs": [
    {
     "data": {
      "text/plain": [
       "0.5419987972677884"
      ]
     },
     "execution_count": 38,
     "metadata": {},
     "output_type": "execute_result"
    }
   ],
   "source": [
    "usage_per_weekday[5:7].mean() / usage_per_weekday[0:5].mean()"
   ]
  },
  {
   "cell_type": "markdown",
   "metadata": {},
   "source": [
    "Within the weekdays the usage of the bike sharing system is almost on the same level, while the number of bike rentals drop down to 54% during the weekend. It seems that the Lyft Bay Wheels system is mainly used by people working during the week."
   ]
  },
  {
   "cell_type": "markdown",
   "metadata": {},
   "source": [
    "#### Bike rides depending on the hour of the day"
   ]
  },
  {
   "cell_type": "code",
   "execution_count": 39,
   "metadata": {},
   "outputs": [
    {
     "data": {
      "image/png": "[encoded data removed]",
      "text/plain": [
       "<Figure size 432x288 with 1 Axes>"
      ]
     },
     "metadata": {
      "needs_background": "light"
     },
     "output_type": "display_data"
    }
   ],
   "source": [
    "# bike rides depending on the hour of the day\n",
    "base_color = sns.color_palette()[0]\n",
    "\n",
    "sns.countplot(data = df_clean, x = 'hour', color = base_color);\n",
    "# plot settings\n",
    "plt.title('Number of bike rides depending on the hour of the day');\n",
    "plt.ylabel('# of bike rides');\n",
    "plt.xlabel('Hour of the day');"
   ]
  },
  {
   "cell_type": "markdown",
   "metadata": {},
   "source": [
    "The main usage of the bike sharing system is during the day with high peaks between 7am and 9am as well as between 4pm and 6pm which is an additional indicator that the bike sharing system in mainly used to go to the office or coming back. "
   ]
  },
  {
   "cell_type": "markdown",
   "metadata": {},
   "source": [
    "#### Bike rides per month of the year"
   ]
  },
  {
   "cell_type": "code",
   "execution_count": 40,
   "metadata": {},
   "outputs": [
    {
     "data": {
      "image/png": "[encoded data removed]",
      "text/plain": [
       "<Figure size 432x288 with 1 Axes>"
      ]
     },
     "metadata": {
      "needs_background": "light"
     },
     "output_type": "display_data"
    }
   ],
   "source": [
    "# bike rides per month\n",
    "base_color = sns.color_palette()[0]\n",
    "sns.countplot(data = df_clean, x = 'month', color = base_color);\n",
    "# plot settings\n",
    "plt.title('Number of bike rides per month');\n",
    "plt.ylabel('# of bike rides');\n",
    "plt.xlabel('Month');\n",
    "plt.xticks(rotation=90);"
   ]
  },
  {
   "cell_type": "code",
   "execution_count": 41,
   "metadata": {},
   "outputs": [
    {
     "data": {
      "text/plain": [
       "july         258102\n",
       "march        256299\n",
       "october      239895\n",
       "april        239111\n",
       "september    217986\n",
       "august       210563\n",
       "january      192082\n",
       "june         191772\n",
       "november     185496\n",
       "february     183412\n",
       "may          182163\n",
       "december     150102\n",
       "Name: month, dtype: int64"
      ]
     },
     "execution_count": 41,
     "metadata": {},
     "output_type": "execute_result"
    }
   ],
   "source": [
    "usage_per_month = df_clean.month.value_counts()\n",
    "usage_per_month"
   ]
  },
  {
   "cell_type": "markdown",
   "metadata": {},
   "source": [
    "The most bike rentals are registered in July and March, followed by October and April. The least were documented in December followed with a bigger gap by May, February and November. The reduced usage of the bike sharing system in the late autumn and winter month are expected, because the weather is normally worst in these month. But fr further investigation one would need for information about the weather conditions. "
   ]
  },
  {
   "cell_type": "markdown",
   "metadata": {},
   "source": [
    "#### Bike rides per season of the year"
   ]
  },
  {
   "cell_type": "code",
   "execution_count": 42,
   "metadata": {},
   "outputs": [
    {
     "data": {
      "image/png": "[encoded data removed]",
      "text/plain": [
       "<Figure size 1080x360 with 2 Axes>"
      ]
     },
     "metadata": {
      "needs_background": "light"
     },
     "output_type": "display_data"
    }
   ],
   "source": [
    "# bike rides per season\n",
    "plt.figure(figsize = [15, 5])\n",
    "\n",
    "# left countplot: \n",
    "plt.subplot(1, 2, 1)\n",
    "base_color = sns.color_palette()[0]\n",
    "sns.countplot(data = df_clean, x = 'season', color = base_color);\n",
    "# plot settings\n",
    "plt.title('Number of bike rides per season');\n",
    "plt.ylabel('# of bike rides');\n",
    "plt.xlabel('Season');\n",
    "plt.xticks(rotation=90);\n",
    "\n",
    "# left histogram: data plotted in natural units\n",
    "plt.subplot(1, 2, 2)\n",
    "sizes = df_clean.season.value_counts()\n",
    "labels = sizes.index\n",
    "explode = (0, 0, 0 , 0)\n",
    "\n",
    "#fig1, ax1 = plt.subplots()\n",
    "plt.pie(sizes, explode=explode, autopct='%1.1f%%',\n",
    "        shadow=True, startangle=90)\n",
    "plt.axis('equal')  # Equal aspect ratio ensures that pie is drawn as a circle.\n",
    "plt.legend(labels=labels, bbox_to_anchor=(1.1,0.5), loc='right')\n",
    "plt.title('Bike rides per season distribution')\n",
    "plt.show()"
   ]
  },
  {
   "cell_type": "markdown",
   "metadata": {},
   "source": [
    "The least bike rentals are counted in the winter with 21%, while the other three seasons are in the same range of 25.7% for autumn up to 27% for spring. "
   ]
  },
  {
   "cell_type": "markdown",
   "metadata": {},
   "source": [
    "#### Bike rides depending on the duration"
   ]
  },
  {
   "cell_type": "code",
   "execution_count": 43,
   "metadata": {},
   "outputs": [
    {
     "data": {
      "image/png": "[encoded data removed]",
      "text/plain": [
       "<Figure size 432x288 with 1 Axes>"
      ]
     },
     "metadata": {
      "needs_background": "light"
     },
     "output_type": "display_data"
    }
   ],
   "source": [
    "# histogram: bike rides per duration\n",
    "base_color = sns.color_palette()[0]\n",
    "df_duration = df_clean.query('duration_sec <= 7200')\n",
    "bin_edges = np.arange(0, df_duration['duration_sec'].max()+1, 10)\n",
    "ticks = np.arange(0, df_duration['duration_sec'].max()+1, 600)\n",
    "label_weekdays = ['Monday', 'Tuesday', 'Wednesday', 'Thursday', 'Friday', 'Saturday', 'Sunday']\n",
    "\n",
    "plt.hist(data = df_duration, x = 'duration_sec', bins = bin_edges, color = base_color)\n",
    "# plot settings\n",
    "plt.title('Number of bike rides depending on the duration');\n",
    "plt.ylabel('# of bike rides');\n",
    "plt.xlabel('Duration [min]');\n",
    "plt.xticks(ticks, [0, 10, 20, 30, 40, 50, 60, 70, 80, 90, 100, 110], rotation=0);"
   ]
  },
  {
   "cell_type": "code",
   "execution_count": 44,
   "metadata": {},
   "outputs": [
    {
     "data": {
      "text/plain": [
       "0.757212553894462"
      ]
     },
     "execution_count": 44,
     "metadata": {},
     "output_type": "execute_result"
    }
   ],
   "source": [
    "df_duration.query('duration_sec <= 900').shape[0] / df_clean.shape[0]"
   ]
  },
  {
   "cell_type": "markdown",
   "metadata": {},
   "source": [
    "About 75% of the users rent the bike for 15min or less. So the main usage of the bikes is for short periods of time. "
   ]
  },
  {
   "cell_type": "markdown",
   "metadata": {},
   "source": [
    "#### Bike rides depending on the distance"
   ]
  },
  {
   "cell_type": "code",
   "execution_count": 45,
   "metadata": {},
   "outputs": [
    {
     "data": {
      "text/plain": [
       "0.9999030707428012"
      ]
     },
     "execution_count": 45,
     "metadata": {},
     "output_type": "execute_result"
    }
   ],
   "source": [
    "df_distance = df_clean.query('distance_km <= 10')\n",
    "df_distance.shape[0] / df_clean.shape[0]"
   ]
  },
  {
   "cell_type": "code",
   "execution_count": 46,
   "metadata": {},
   "outputs": [
    {
     "data": {
      "image/png": "[encoded data removed]",
      "text/plain": [
       "<Figure size 432x288 with 1 Axes>"
      ]
     },
     "metadata": {
      "needs_background": "light"
     },
     "output_type": "display_data"
    }
   ],
   "source": [
    "# histogram: bike rides per distance\n",
    "base_color = sns.color_palette()[0]\n",
    "\n",
    "bin_edges = np.arange(0, df_distance['distance_km'].max(), 0.1)\n",
    "#ticks = np.arange(0, df_duration['duration_sec'].max()+1, 600)\n",
    "\n",
    "plt.hist(data = df_distance, x = 'distance_km', bins = bin_edges, color = base_color)\n",
    "# plot settings\n",
    "plt.title('Number of bike rides depending on the distance');\n",
    "plt.ylabel('# of bike rides');\n",
    "plt.xlabel('Distance [km]');"
   ]
  },
  {
   "cell_type": "code",
   "execution_count": 47,
   "metadata": {},
   "outputs": [
    {
     "data": {
      "text/plain": [
       "count    2.506983e+06\n",
       "mean     1.700373e+00\n",
       "std      1.137079e+00\n",
       "min      0.000000e+00\n",
       "25%      9.280850e-01\n",
       "50%      1.453611e+00\n",
       "75%      2.236969e+00\n",
       "max      1.429716e+02\n",
       "Name: distance_km, dtype: float64"
      ]
     },
     "execution_count": 47,
     "metadata": {},
     "output_type": "execute_result"
    }
   ],
   "source": [
    "df_clean.distance_km.describe()"
   ]
  },
  {
   "cell_type": "markdown",
   "metadata": {},
   "source": [
    "More than 99.9% of the rented bikes have been used for distances below 10km. More precise, even 75% of the users rented bikes for distances less than 2.3km. Therefore, one can predict that the bike sharing system is used mainly for short distances. "
   ]
  },
  {
   "cell_type": "markdown",
   "metadata": {},
   "source": [
    "<a id='explor_multi'></a>\n",
    "## Bivariate Exploration & Multivariate Exploration"
   ]
  },
  {
   "cell_type": "markdown",
   "metadata": {},
   "source": [
    "Within this part I will analyse the dataset and try to answer the following questions:\n",
    "- How long does an average trip takes, in terms of time and distance. Is it depended on \n",
    " - the user type?\n",
    " - the season?\n",
    " - the month?\n",
    " - the day of the week?\n",
    " - the hour of the day?"
   ]
  },
  {
   "cell_type": "markdown",
   "metadata": {},
   "source": [
    "### Duration depening on the day of the week"
   ]
  },
  {
   "cell_type": "code",
   "execution_count": 48,
   "metadata": {},
   "outputs": [
    {
     "data": {
      "image/png": "[encoded data removed]",
      "text/plain": [
       "<Figure size 1080x360 with 2 Axes>"
      ]
     },
     "metadata": {
      "needs_background": "light"
     },
     "output_type": "display_data"
    }
   ],
   "source": [
    "# Duration depening on the day of the week\n",
    "plt.figure(figsize = [15, 5])\n",
    "subscriber_color = sns.color_palette()[0]\n",
    "customer_color = sns.color_palette()[1]\n",
    "\n",
    "# first plot\n",
    "plt.subplot(1, 2, 1)\n",
    "# create a violinplot taking into account only the data with a duration smaller than 1h (3600s) for a better visualization\n",
    "sns.violinplot(data = df_clean[df_clean.user_type == 'subscriber'].query('duration_sec < 3600'), x = 'day_of_week', y = 'duration_sec', color = subscriber_color)\n",
    "# plot settings\n",
    "plt.title('Duration depening on the day of the week of subscribers')\n",
    "plt.xlabel('Day of the week');\n",
    "label_weekdays = ['Monday', 'Tuesday', 'Wednesday', 'Thursday', 'Friday', 'Saturday', 'Sunday']\n",
    "plt.xticks([0,1,2,3,4,5,6], label_weekdays, rotation=90);\n",
    "plt.ylabel('Duration [s]');\n",
    "\n",
    "\n",
    "# second plot\n",
    "plt.subplot(1, 2, 2)\n",
    "# create a violinplot taking into account only the data with a duration smaller than 1h (3600s) for a better visualization\n",
    "sns.violinplot(data = df_clean[df_clean.user_type == 'customer'].query('duration_sec < 3600'), x = 'day_of_week', y = 'duration_sec', color = customer_color)\n",
    "# plot settings\n",
    "plt.title('Duration depening on the day of the week of customers')\n",
    "plt.xlabel('Day of the week');\n",
    "label_weekdays = ['Monday', 'Tuesday', 'Wednesday', 'Thursday', 'Friday', 'Saturday', 'Sunday']\n",
    "plt.xticks([0,1,2,3,4,5,6], label_weekdays, rotation=90);\n",
    "plt.ylabel('Duration [s]');"
   ]
  },
  {
   "cell_type": "code",
   "execution_count": 49,
   "metadata": {},
   "outputs": [
    {
     "data": {
      "text/html": [
       "<div>\n",
       "<style scoped>\n",
       "    .dataframe tbody tr th:only-of-type {\n",
       "        vertical-align: middle;\n",
       "    }\n",
       "\n",
       "    .dataframe tbody tr th {\n",
       "        vertical-align: top;\n",
       "    }\n",
       "\n",
       "    .dataframe thead th {\n",
       "        text-align: right;\n",
       "    }\n",
       "</style>\n",
       "<table border=\"1\" class=\"dataframe\">\n",
       "  <thead>\n",
       "    <tr style=\"text-align: right;\">\n",
       "      <th></th>\n",
       "      <th></th>\n",
       "      <th>count</th>\n",
       "      <th>mean</th>\n",
       "      <th>std</th>\n",
       "      <th>min</th>\n",
       "      <th>25%</th>\n",
       "      <th>50%</th>\n",
       "      <th>75%</th>\n",
       "      <th>max</th>\n",
       "    </tr>\n",
       "    <tr>\n",
       "      <th>user_type</th>\n",
       "      <th>day_of_week</th>\n",
       "      <th></th>\n",
       "      <th></th>\n",
       "      <th></th>\n",
       "      <th></th>\n",
       "      <th></th>\n",
       "      <th></th>\n",
       "      <th></th>\n",
       "      <th></th>\n",
       "    </tr>\n",
       "  </thead>\n",
       "  <tbody>\n",
       "    <tr>\n",
       "      <th rowspan=\"7\" valign=\"top\">customer</th>\n",
       "      <th>0</th>\n",
       "      <td>66529.0</td>\n",
       "      <td>1245.278495</td>\n",
       "      <td>3351.281047</td>\n",
       "      <td>60.0</td>\n",
       "      <td>475.0</td>\n",
       "      <td>750.0</td>\n",
       "      <td>1186.0</td>\n",
       "      <td>85904.0</td>\n",
       "    </tr>\n",
       "    <tr>\n",
       "      <th>1</th>\n",
       "      <td>69048.0</td>\n",
       "      <td>1181.425371</td>\n",
       "      <td>3182.729694</td>\n",
       "      <td>60.0</td>\n",
       "      <td>467.0</td>\n",
       "      <td>728.0</td>\n",
       "      <td>1123.0</td>\n",
       "      <td>85952.0</td>\n",
       "    </tr>\n",
       "    <tr>\n",
       "      <th>2</th>\n",
       "      <td>66455.0</td>\n",
       "      <td>1169.764352</td>\n",
       "      <td>3111.308713</td>\n",
       "      <td>61.0</td>\n",
       "      <td>472.0</td>\n",
       "      <td>734.0</td>\n",
       "      <td>1129.0</td>\n",
       "      <td>86230.0</td>\n",
       "    </tr>\n",
       "    <tr>\n",
       "      <th>3</th>\n",
       "      <td>70393.0</td>\n",
       "      <td>1211.636356</td>\n",
       "      <td>4689.786687</td>\n",
       "      <td>60.0</td>\n",
       "      <td>473.0</td>\n",
       "      <td>738.0</td>\n",
       "      <td>1144.0</td>\n",
       "      <td>912110.0</td>\n",
       "    </tr>\n",
       "    <tr>\n",
       "      <th>4</th>\n",
       "      <td>75944.0</td>\n",
       "      <td>1251.248012</td>\n",
       "      <td>3121.570828</td>\n",
       "      <td>61.0</td>\n",
       "      <td>486.0</td>\n",
       "      <td>770.0</td>\n",
       "      <td>1225.0</td>\n",
       "      <td>85676.0</td>\n",
       "    </tr>\n",
       "    <tr>\n",
       "      <th>5</th>\n",
       "      <td>72705.0</td>\n",
       "      <td>1717.254013</td>\n",
       "      <td>4017.089604</td>\n",
       "      <td>60.0</td>\n",
       "      <td>584.0</td>\n",
       "      <td>986.0</td>\n",
       "      <td>1645.0</td>\n",
       "      <td>86217.0</td>\n",
       "    </tr>\n",
       "    <tr>\n",
       "      <th>6</th>\n",
       "      <td>64743.0</td>\n",
       "      <td>1711.122222</td>\n",
       "      <td>3941.182379</td>\n",
       "      <td>60.0</td>\n",
       "      <td>577.0</td>\n",
       "      <td>984.0</td>\n",
       "      <td>1649.5</td>\n",
       "      <td>85492.0</td>\n",
       "    </tr>\n",
       "    <tr>\n",
       "      <th rowspan=\"7\" valign=\"top\">subscriber</th>\n",
       "      <th>0</th>\n",
       "      <td>329934.0</td>\n",
       "      <td>662.692926</td>\n",
       "      <td>1211.308014</td>\n",
       "      <td>60.0</td>\n",
       "      <td>338.0</td>\n",
       "      <td>528.0</td>\n",
       "      <td>798.0</td>\n",
       "      <td>84908.0</td>\n",
       "    </tr>\n",
       "    <tr>\n",
       "      <th>1</th>\n",
       "      <td>358592.0</td>\n",
       "      <td>655.947645</td>\n",
       "      <td>1091.327518</td>\n",
       "      <td>60.0</td>\n",
       "      <td>339.0</td>\n",
       "      <td>529.0</td>\n",
       "      <td>797.0</td>\n",
       "      <td>84792.0</td>\n",
       "    </tr>\n",
       "    <tr>\n",
       "      <th>2</th>\n",
       "      <td>347993.0</td>\n",
       "      <td>659.933387</td>\n",
       "      <td>1165.208874</td>\n",
       "      <td>60.0</td>\n",
       "      <td>338.0</td>\n",
       "      <td>530.0</td>\n",
       "      <td>799.0</td>\n",
       "      <td>85444.0</td>\n",
       "    </tr>\n",
       "    <tr>\n",
       "      <th>3</th>\n",
       "      <td>354081.0</td>\n",
       "      <td>656.612707</td>\n",
       "      <td>1109.283526</td>\n",
       "      <td>60.0</td>\n",
       "      <td>338.0</td>\n",
       "      <td>530.0</td>\n",
       "      <td>800.0</td>\n",
       "      <td>85081.0</td>\n",
       "    </tr>\n",
       "    <tr>\n",
       "      <th>4</th>\n",
       "      <td>321340.0</td>\n",
       "      <td>669.959775</td>\n",
       "      <td>1202.800058</td>\n",
       "      <td>60.0</td>\n",
       "      <td>340.0</td>\n",
       "      <td>531.0</td>\n",
       "      <td>805.0</td>\n",
       "      <td>82309.0</td>\n",
       "    </tr>\n",
       "    <tr>\n",
       "      <th>5</th>\n",
       "      <td>161665.0</td>\n",
       "      <td>760.729620</td>\n",
       "      <td>1507.083993</td>\n",
       "      <td>60.0</td>\n",
       "      <td>336.0</td>\n",
       "      <td>544.0</td>\n",
       "      <td>886.0</td>\n",
       "      <td>85935.0</td>\n",
       "    </tr>\n",
       "    <tr>\n",
       "      <th>6</th>\n",
       "      <td>147561.0</td>\n",
       "      <td>761.536571</td>\n",
       "      <td>1560.663669</td>\n",
       "      <td>60.0</td>\n",
       "      <td>330.0</td>\n",
       "      <td>538.0</td>\n",
       "      <td>882.0</td>\n",
       "      <td>86114.0</td>\n",
       "    </tr>\n",
       "  </tbody>\n",
       "</table>\n",
       "</div>"
      ],
      "text/plain": [
       "                           count         mean          std   min    25%  \\\n",
       "user_type  day_of_week                                                    \n",
       "customer   0             66529.0  1245.278495  3351.281047  60.0  475.0   \n",
       "           1             69048.0  1181.425371  3182.729694  60.0  467.0   \n",
       "           2             66455.0  1169.764352  3111.308713  61.0  472.0   \n",
       "           3             70393.0  1211.636356  4689.786687  60.0  473.0   \n",
       "           4             75944.0  1251.248012  3121.570828  61.0  486.0   \n",
       "           5             72705.0  1717.254013  4017.089604  60.0  584.0   \n",
       "           6             64743.0  1711.122222  3941.182379  60.0  577.0   \n",
       "subscriber 0            329934.0   662.692926  1211.308014  60.0  338.0   \n",
       "           1            358592.0   655.947645  1091.327518  60.0  339.0   \n",
       "           2            347993.0   659.933387  1165.208874  60.0  338.0   \n",
       "           3            354081.0   656.612707  1109.283526  60.0  338.0   \n",
       "           4            321340.0   669.959775  1202.800058  60.0  340.0   \n",
       "           5            161665.0   760.729620  1507.083993  60.0  336.0   \n",
       "           6            147561.0   761.536571  1560.663669  60.0  330.0   \n",
       "\n",
       "                          50%     75%       max  \n",
       "user_type  day_of_week                           \n",
       "customer   0            750.0  1186.0   85904.0  \n",
       "           1            728.0  1123.0   85952.0  \n",
       "           2            734.0  1129.0   86230.0  \n",
       "           3            738.0  1144.0  912110.0  \n",
       "           4            770.0  1225.0   85676.0  \n",
       "           5            986.0  1645.0   86217.0  \n",
       "           6            984.0  1649.5   85492.0  \n",
       "subscriber 0            528.0   798.0   84908.0  \n",
       "           1            529.0   797.0   84792.0  \n",
       "           2            530.0   799.0   85444.0  \n",
       "           3            530.0   800.0   85081.0  \n",
       "           4            531.0   805.0   82309.0  \n",
       "           5            544.0   886.0   85935.0  \n",
       "           6            538.0   882.0   86114.0  "
      ]
     },
     "execution_count": 49,
     "metadata": {},
     "output_type": "execute_result"
    }
   ],
   "source": [
    "df_clean.groupby(['user_type','day_of_week']).duration_sec.describe()"
   ]
  },
  {
   "cell_type": "markdown",
   "metadata": {},
   "source": [
    "The mean duration of a shared bike is higher during the weekend than the days within the week for all users. Either the customers take longer bike tours or they are slower during the weekend. Eye-catching is in addition the fact that the mean duration is higher the customers compared to the subscribers, independent of the day of the week. "
   ]
  },
  {
   "cell_type": "markdown",
   "metadata": {},
   "source": [
    "### Distance depening on the day of the week"
   ]
  },
  {
   "cell_type": "code",
   "execution_count": 50,
   "metadata": {},
   "outputs": [
    {
     "data": {
      "image/png": "[encoded data removed]",
      "text/plain": [
       "<Figure size 1080x360 with 2 Axes>"
      ]
     },
     "metadata": {
      "needs_background": "light"
     },
     "output_type": "display_data"
    }
   ],
   "source": [
    "# Duration depening on the day of the week\n",
    "plt.figure(figsize = [15, 5])\n",
    "subscriber_color = sns.color_palette()[0]\n",
    "customer_color = sns.color_palette()[1]\n",
    "\n",
    "# first plot\n",
    "plt.subplot(1, 2, 1)\n",
    "sns.boxplot(data = df_clean[df_clean.user_type == 'subscriber'].query('distance_km < 10'), x = 'day_of_week', y = 'distance_km', color = subscriber_color)\n",
    "# plot settings\n",
    "plt.title('Distance depening on the day of the week of the subscribers')\n",
    "plt.xlabel('Day of the week');\n",
    "label_weekdays = ['Monday', 'Tuesday', 'Wednesday', 'Thursday', 'Friday', 'Saturday', 'Sunday']\n",
    "plt.xticks([0,1,2,3,4,5,6], label_weekdays, rotation=90);\n",
    "plt.ylabel('Distance [km]');\n",
    "\n",
    "# second plot\n",
    "plt.subplot(1, 2, 2)\n",
    "sns.boxplot(data = df_clean[df_clean.user_type == 'customer'].query('distance_km < 10'), x = 'day_of_week', y = 'distance_km', color = customer_color)\n",
    "# plot settings\n",
    "plt.title('Distance depening on the day of the week of the customers')\n",
    "plt.xlabel('Day of the week');\n",
    "label_weekdays = ['Monday', 'Tuesday', 'Wednesday', 'Thursday', 'Friday', 'Saturday', 'Sunday']\n",
    "plt.xticks([0,1,2,3,4,5,6], label_weekdays, rotation=90);\n",
    "plt.ylabel('Distance [km]');"
   ]
  },
  {
   "cell_type": "code",
   "execution_count": 51,
   "metadata": {},
   "outputs": [
    {
     "data": {
      "text/html": [
       "<div>\n",
       "<style scoped>\n",
       "    .dataframe tbody tr th:only-of-type {\n",
       "        vertical-align: middle;\n",
       "    }\n",
       "\n",
       "    .dataframe tbody tr th {\n",
       "        vertical-align: top;\n",
       "    }\n",
       "\n",
       "    .dataframe thead th {\n",
       "        text-align: right;\n",
       "    }\n",
       "</style>\n",
       "<table border=\"1\" class=\"dataframe\">\n",
       "  <thead>\n",
       "    <tr style=\"text-align: right;\">\n",
       "      <th></th>\n",
       "      <th>count</th>\n",
       "      <th>mean</th>\n",
       "      <th>std</th>\n",
       "      <th>min</th>\n",
       "      <th>25%</th>\n",
       "      <th>50%</th>\n",
       "      <th>75%</th>\n",
       "      <th>max</th>\n",
       "    </tr>\n",
       "    <tr>\n",
       "      <th>day_of_week</th>\n",
       "      <th></th>\n",
       "      <th></th>\n",
       "      <th></th>\n",
       "      <th></th>\n",
       "      <th></th>\n",
       "      <th></th>\n",
       "      <th></th>\n",
       "      <th></th>\n",
       "    </tr>\n",
       "  </thead>\n",
       "  <tbody>\n",
       "    <tr>\n",
       "      <th>0</th>\n",
       "      <td>396463.0</td>\n",
       "      <td>1.708759</td>\n",
       "      <td>1.099606</td>\n",
       "      <td>0.0</td>\n",
       "      <td>0.939640</td>\n",
       "      <td>1.464180</td>\n",
       "      <td>2.237958</td>\n",
       "      <td>57.727782</td>\n",
       "    </tr>\n",
       "    <tr>\n",
       "      <th>1</th>\n",
       "      <td>427640.0</td>\n",
       "      <td>1.715663</td>\n",
       "      <td>1.137125</td>\n",
       "      <td>0.0</td>\n",
       "      <td>0.945462</td>\n",
       "      <td>1.464180</td>\n",
       "      <td>2.246559</td>\n",
       "      <td>69.469241</td>\n",
       "    </tr>\n",
       "    <tr>\n",
       "      <th>2</th>\n",
       "      <td>414448.0</td>\n",
       "      <td>1.713832</td>\n",
       "      <td>1.119625</td>\n",
       "      <td>0.0</td>\n",
       "      <td>0.942192</td>\n",
       "      <td>1.470202</td>\n",
       "      <td>2.246559</td>\n",
       "      <td>142.971566</td>\n",
       "    </tr>\n",
       "    <tr>\n",
       "      <th>3</th>\n",
       "      <td>424474.0</td>\n",
       "      <td>1.713710</td>\n",
       "      <td>1.101575</td>\n",
       "      <td>0.0</td>\n",
       "      <td>0.942871</td>\n",
       "      <td>1.464180</td>\n",
       "      <td>2.250094</td>\n",
       "      <td>66.463759</td>\n",
       "    </tr>\n",
       "    <tr>\n",
       "      <th>4</th>\n",
       "      <td>397284.0</td>\n",
       "      <td>1.710570</td>\n",
       "      <td>1.095802</td>\n",
       "      <td>0.0</td>\n",
       "      <td>0.938722</td>\n",
       "      <td>1.464180</td>\n",
       "      <td>2.247563</td>\n",
       "      <td>61.259316</td>\n",
       "    </tr>\n",
       "    <tr>\n",
       "      <th>5</th>\n",
       "      <td>234370.0</td>\n",
       "      <td>1.656069</td>\n",
       "      <td>1.247225</td>\n",
       "      <td>0.0</td>\n",
       "      <td>0.854989</td>\n",
       "      <td>1.397596</td>\n",
       "      <td>2.214270</td>\n",
       "      <td>56.015271</td>\n",
       "    </tr>\n",
       "    <tr>\n",
       "      <th>6</th>\n",
       "      <td>212304.0</td>\n",
       "      <td>1.630800</td>\n",
       "      <td>1.248653</td>\n",
       "      <td>0.0</td>\n",
       "      <td>0.838993</td>\n",
       "      <td>1.372331</td>\n",
       "      <td>2.186957</td>\n",
       "      <td>65.318850</td>\n",
       "    </tr>\n",
       "  </tbody>\n",
       "</table>\n",
       "</div>"
      ],
      "text/plain": [
       "                count      mean       std  min       25%       50%       75%  \\\n",
       "day_of_week                                                                    \n",
       "0            396463.0  1.708759  1.099606  0.0  0.939640  1.464180  2.237958   \n",
       "1            427640.0  1.715663  1.137125  0.0  0.945462  1.464180  2.246559   \n",
       "2            414448.0  1.713832  1.119625  0.0  0.942192  1.470202  2.246559   \n",
       "3            424474.0  1.713710  1.101575  0.0  0.942871  1.464180  2.250094   \n",
       "4            397284.0  1.710570  1.095802  0.0  0.938722  1.464180  2.247563   \n",
       "5            234370.0  1.656069  1.247225  0.0  0.854989  1.397596  2.214270   \n",
       "6            212304.0  1.630800  1.248653  0.0  0.838993  1.372331  2.186957   \n",
       "\n",
       "                    max  \n",
       "day_of_week              \n",
       "0             57.727782  \n",
       "1             69.469241  \n",
       "2            142.971566  \n",
       "3             66.463759  \n",
       "4             61.259316  \n",
       "5             56.015271  \n",
       "6             65.318850  "
      ]
     },
     "execution_count": 51,
     "metadata": {},
     "output_type": "execute_result"
    }
   ],
   "source": [
    "df_clean.groupby(['day_of_week']).distance_km.describe()"
   ]
  },
  {
   "cell_type": "markdown",
   "metadata": {},
   "source": [
    "Evaluation the distance depending on the day of the week shows that the mean distance is smaller during the weekend than within the week. Taking into account the previous results that the mean duration of a bike share is higher during the weekends indicates that the users taking more time for the smaller distances and are therefore slower than during the week. "
   ]
  },
  {
   "cell_type": "markdown",
   "metadata": {},
   "source": [
    "### Number of bike rides depending on the day of the week and user type"
   ]
  },
  {
   "cell_type": "code",
   "execution_count": 52,
   "metadata": {
    "scrolled": true
   },
   "outputs": [
    {
     "data": {
      "image/png": "[encoded data removed]",
      "text/plain": [
       "<Figure size 432x288 with 1 Axes>"
      ]
     },
     "metadata": {
      "needs_background": "light"
     },
     "output_type": "display_data"
    }
   ],
   "source": [
    "# Number of bike rides depending on the day of the week and user type\n",
    "sns.countplot(data = df_clean, y = 'day_of_week', hue = 'user_type');\n",
    "\n",
    "# plot settings\n",
    "plt.title('Number of bike rides depending on the day of the week and user type');\n",
    "plt.ylabel('Day of the week');\n",
    "label_weekdays = ['Monday', 'Tuesday', 'Wednesday', 'Thursday', 'Friday', 'Saturday', 'Sunday']\n",
    "plt.yticks([0,1,2,3,4,5,6], label_weekdays, rotation=0);\n",
    "plt.xlabel('# of bike rides');\n",
    "plt.xticks(rotation=0);"
   ]
  },
  {
   "cell_type": "markdown",
   "metadata": {},
   "source": [
    "The number of bike rides are pretty constant for the customers while there is a high discrepancy between the bike rides at the weekend and within the week for the subscibers. "
   ]
  },
  {
   "cell_type": "markdown",
   "metadata": {},
   "source": [
    "### Number of bike shares depending on the day of the week and the hour"
   ]
  },
  {
   "cell_type": "code",
   "execution_count": 53,
   "metadata": {},
   "outputs": [
    {
     "data": {
      "image/png": "[encoded data removed]",
      "text/plain": [
       "<Figure size 432x288 with 2 Axes>"
      ]
     },
     "metadata": {
      "needs_background": "light"
     },
     "output_type": "display_data"
    }
   ],
   "source": [
    "# Number of bike shares depending on the day of the week and the hour\n",
    "\n",
    "#general settings\n",
    "bins_x = np.arange(0, 8, 1)\n",
    "bins_y = np.arange(0, 25, 1)\n",
    "ticks_y = np.arange(0, 24, 2)\n",
    "\n",
    "# plot 2D histogram\n",
    "plt.hist2d(data = df_clean, x = 'day_of_week', y = 'hour', bins = [bins_x, bins_y])\n",
    "\n",
    "# plot settings\n",
    "plt.title('Number of bike shares depending on the day of the week and the hour')\n",
    "plt.xlabel('Day of the week');\n",
    "label_weekdays = ['Monday', 'Tuesday', 'Wednesday', 'Thursday', 'Friday', 'Saturday', 'Sunday']\n",
    "plt.xticks([0,1,2,3,4,5,6], label_weekdays, rotation=90);\n",
    "plt.ylabel('Hour');\n",
    "plt.yticks(ticks_y);\n",
    "plt.colorbar();"
   ]
  },
  {
   "cell_type": "code",
   "execution_count": 54,
   "metadata": {},
   "outputs": [
    {
     "data": {
      "image/png": "[encoded data removed]",
      "text/plain": [
       "<Figure size 1080x360 with 4 Axes>"
      ]
     },
     "metadata": {
      "needs_background": "light"
     },
     "output_type": "display_data"
    }
   ],
   "source": [
    "# Number of bike shares depending on the day of the week and the hour\n",
    "plt.figure(figsize = [15, 5])\n",
    "\n",
    "#left plot \n",
    "plt.subplot(1, 2, 1)\n",
    "# plot 2D histogram\n",
    "plt.hist2d(data = df_clean[df_clean.user_type == 'subscriber'], x = 'day_of_week', y = 'hour', bins = [bins_x, bins_y], vmin = 0, vmax = 50000)\n",
    "\n",
    "# plot settings\n",
    "plt.title('Number of bike shares depending on the day of the week and the hour')\n",
    "plt.xlabel('Day of the week');\n",
    "label_weekdays = ['Monday', 'Tuesday', 'Wednesday', 'Thursday', 'Friday', 'Saturday', 'Sunday']\n",
    "plt.xticks([0,1,2,3,4,5,6], label_weekdays, rotation=90);\n",
    "plt.ylabel('Hour');\n",
    "plt.yticks(ticks_y);\n",
    "plt.colorbar();\n",
    "\n",
    "#right plot \n",
    "plt.subplot(1, 2, 2)\n",
    "# plot 2D histogram\n",
    "plt.hist2d(data = df_clean[df_clean.user_type == 'customer'], x = 'day_of_week', y = 'hour', bins = [bins_x, bins_y], vmin = 0, vmax = 50000)\n",
    "\n",
    "# plot settings\n",
    "plt.title('Number of bike shares depending on the day of the week and the hour')\n",
    "plt.xlabel('Day of the week');\n",
    "label_weekdays = ['Monday', 'Tuesday', 'Wednesday', 'Thursday', 'Friday', 'Saturday', 'Sunday']\n",
    "plt.xticks([0,1,2,3,4,5,6], label_weekdays, rotation=90);\n",
    "plt.ylabel('Hour');\n",
    "plt.yticks(ticks_y);\n",
    "plt.colorbar();"
   ]
  },
  {
   "cell_type": "markdown",
   "metadata": {},
   "source": [
    "In the above heatmap is again pretty good visible that the main usage of the bike sharing system is during the week between 9am and 11am as well as between 4pm and 7pm. "
   ]
  },
  {
   "cell_type": "markdown",
   "metadata": {},
   "source": [
    "### Bike rides depending on the hour of the day and user type"
   ]
  },
  {
   "cell_type": "code",
   "execution_count": 55,
   "metadata": {},
   "outputs": [
    {
     "data": {
      "image/png": "[encoded data removed]",
      "text/plain": [
       "<Figure size 432x288 with 1 Axes>"
      ]
     },
     "metadata": {
      "needs_background": "light"
     },
     "output_type": "display_data"
    }
   ],
   "source": [
    "# bike rides depending on the hour of the day and user type\n",
    "\n",
    "# create violinplot\n",
    "sns.violinplot(data = df_clean, x = 'user_type', y = 'hour');\n",
    "# plot settings\n",
    "plt.title('Number of bike rides depending on the hour of the day');\n",
    "plt.ylabel('Hour of the day');\n",
    "plt.yticks(np.arange(0, 24, step=2), rotation=0);\n",
    "plt.xlabel('User type');"
   ]
  },
  {
   "cell_type": "code",
   "execution_count": 56,
   "metadata": {
    "scrolled": false
   },
   "outputs": [
    {
     "data": {
      "image/png": "[encoded data removed]",
      "text/plain": [
       "<Figure size 1080x360 with 2 Axes>"
      ]
     },
     "metadata": {
      "needs_background": "light"
     },
     "output_type": "display_data"
    }
   ],
   "source": [
    "# bike rides depending on the hour of the day and user type\n",
    "plt.figure(figsize = [15, 5])\n",
    "\n",
    "# left countplot: \n",
    "plt.subplot(1, 2, 1)\n",
    "# create scatterplot\n",
    "plt.scatter(df_clean.query('user_type == \"subscriber\"').hour.value_counts().index, df_clean.query('user_type == \"subscriber\"').hour.value_counts(normalize=False), label = 'subscriber', color = subscriber_color);\n",
    "plt.scatter(df_clean.query('user_type == \"customer\"').hour.value_counts().index, df_clean.query('user_type == \"customer\"').hour.value_counts(normalize=False), label = 'customer', color = customer_color);\n",
    "# plot settings\n",
    "plt.title('Number of bike rides depending on the hour of the day');\n",
    "plt.ylabel('Number of bike rides');\n",
    "#plt.yticks(np.arange(0, 24, step=2), rotation=0);\n",
    "plt.xlabel('Hour of the day');\n",
    "plt.legend()\n",
    "\n",
    "# right countplot: \n",
    "plt.subplot(1, 2, 2)\n",
    "# create scatterplot\n",
    "plt.scatter(df_clean.query('user_type == \"subscriber\"').hour.value_counts().index, df_clean.query('user_type == \"subscriber\"').hour.value_counts(normalize=True), label = 'subscriber', color = subscriber_color);\n",
    "plt.scatter(df_clean.query('user_type == \"customer\"').hour.value_counts().index, df_clean.query('user_type == \"customer\"').hour.value_counts(normalize=True), label = 'customer', color = customer_color);\n",
    "# plot settings\n",
    "plt.title('Number of bike rides depending on the hour of the day');\n",
    "plt.ylabel('Normalized number of bike rides [%]');\n",
    "#plt.yticks(np.arange(0, 24, step=2), rotation=0);\n",
    "plt.xlabel('Hour of the day');\n",
    "plt.legend();"
   ]
  },
  {
   "cell_type": "markdown",
   "metadata": {},
   "source": [
    "The subscribers have much more bike rides than the customer, but if the number of bike rides is normalized one sees that the distribution of the usage per hour is similar to the ones of the subscribers. Both groups, subscribers and customers use the bike share system more often between 7am and 9am as well as between 4pm and 7pm. As expected is the number of rented bikes the lowest during the late evening and night times. "
   ]
  },
  {
   "cell_type": "markdown",
   "metadata": {},
   "source": [
    "### Number of bike rides per season and user type \n"
   ]
  },
  {
   "cell_type": "code",
   "execution_count": 57,
   "metadata": {},
   "outputs": [
    {
     "data": {
      "image/png": "[encoded data removed]",
      "text/plain": [
       "<Figure size 432x288 with 1 Axes>"
      ]
     },
     "metadata": {
      "needs_background": "light"
     },
     "output_type": "display_data"
    }
   ],
   "source": [
    "# Number of bike rides per season and user type \n",
    "base_color = sns.color_palette()[0]\n",
    "sns.countplot(data = df_clean, x = 'season', hue = 'user_type');\n",
    "# plot settings\n",
    "plt.title('Number of bike rides per season and user type');\n",
    "plt.ylabel('# of bike rides');\n",
    "plt.xlabel('Season');\n",
    "plt.xticks(rotation=0);"
   ]
  },
  {
   "cell_type": "code",
   "execution_count": 58,
   "metadata": {},
   "outputs": [
    {
     "data": {
      "text/plain": [
       "user_type   season\n",
       "customer    autumn    149225\n",
       "            summer    123121\n",
       "            winter    115087\n",
       "            spring     98384\n",
       "subscriber  spring    579189\n",
       "            summer    537316\n",
       "            autumn    494152\n",
       "            winter    410509\n",
       "Name: season, dtype: int64"
      ]
     },
     "execution_count": 58,
     "metadata": {},
     "output_type": "execute_result"
    }
   ],
   "source": [
    "df_clean.groupby('user_type').season.value_counts()"
   ]
  },
  {
   "cell_type": "markdown",
   "metadata": {},
   "source": [
    "The bike sharing usage of the subscribers is significantly reduced in the winter and has its peak in spring while the one from the customers have its peak within autumn and its dip in spring. "
   ]
  },
  {
   "cell_type": "code",
   "execution_count": null,
   "metadata": {},
   "outputs": [],
   "source": []
  },
  {
   "cell_type": "markdown",
   "metadata": {},
   "source": [
    "<a id='summary'></a>\n",
    "## Summary"
   ]
  },
  {
   "cell_type": "markdown",
   "metadata": {},
   "source": [
    "The following enumeration lists all findings:\n",
    "\n",
    "- ~80% of the users are members, while ~20% of the users are casual customers.\n",
    "\n",
    "- The dataset contains for around 10% of the users no information about the usage of the bike share for all trip. Just about 7% of the users use the bike sharing system for all trip, while most of the users (~83%) do not use the bike share for all trip option.\n",
    "\n",
    "- Just around 4% of all entries in the dataset contain information about the rental access method. These entries were collected in the months: June, July, November and December. It is unclear why Lyft collected or published just the access methods for these four months. If one takes a closer look at the published data, one sees that around 90% of the users used the app for sharing a bike. \n",
    "\n",
    "\n",
    "- Within the weekdays the usage of the bike sharing system is almost on the same level, while the number of bike rentals drop down to 54% during the weekend. It seems that the Lyft Bay Wheels system is mainly used by people working during the week. This hypothesis is supported by the fact that the main usage of the bike sharing system is during the week with high peaks between 7am and 9am as well as between 4pm and 8pm. At the weekend, the number of bike rides is reduced and more spread over the midday. <br>The subscribers have much more bike rides than the customer, but if the number of bike rides is normalized one sees that the distribution of the usage per hour is similar to the ones of the subscribers. Both groups, subscribers and customers use the bike share system more often between 7am and 9am as well as between 4pm and 7pm. As expected is the number of rented bikes the lowest during the late evening and night times. \n",
    "\n",
    "\n",
    "- The most bike rentals are registered in July and March, followed by October and April. The least were documented in December followed with a bigger gap by May, February and November. The reduced usage of the bike sharing system in the late autumn and winter month are expected, because the weather is normally worst in these month. But fr further investigation one would need for information about the weather conditions. \n",
    "\n",
    "- The least bike rentals are counted in the winter with 21%, while the other three seasons are in the same range of 25.7% for autumn up to 27% for spring. Looking at the individual user type, the bike sharing usage of the subscribers is significantly reduced in the winter and has its peak in spring while the one from the customers have its peak within autumn and its dip in spring. \n",
    "\n",
    "\n",
    "- In general, the main usage of the bike sharing system is for short periods of time and short distances, because about 75% of the users rent the bike for 15min or less. This is in line with the observation that more than 75% of the rented bikes have been used for distances less than 2.3km. The mean duration of a shared bike is higher during the weekend than the days within the week for all users. At the same time is the mean distance smaller during the weekend than within the week. These two results indicate that the users taking more time for smaller distances and are therefore are slower on the bike during the weekend. <br> Eye-catching is in addition the fact that the mean duration is higher the customers compared to the subscribers, independent of the day of the week or the distance. \n"
   ]
  },
  {
   "cell_type": "markdown",
   "metadata": {},
   "source": [
    "<a id='references'></a>\n",
    "## References\n",
    "Basic information about Bay Wheels: https://en.wikipedia.org/wiki/Bay_Wheels <br>\n",
    "Data downloaded from: https://www.lyft.com/bikes/bay-wheels/system-data <br>\n",
    "Bay Wheels Dataset license: https://baywheels-assets.s3.amazonaws.com/data-license-agreement.html <br>\n",
    "Information about the meteorological temperate seasons: https://en.wikipedia.org/wiki/Season <br>\n",
    "Haversine formula: https://en.wikipedia.org/wiki/Haversine_formula <br>\n",
    "Correct Mixed Types after csv_read: https://stackoverflow.com/questions/53460661/pandas-dataframe-mixed-data-types-and-strange-fillna-behaviour <br>\n",
    "Matplotlib.pyplot documentation: https://matplotlib.org/3.2.1/api/_as_gen/matplotlib.pyplot.html <br>\n",
    "Seaborn documentation: http://seaborn.pydata.org/index.html <br>"
   ]
  }
 ],
 "metadata": {
  "kernelspec": {
   "display_name": "Python 3",
   "language": "python",
   "name": "python3"
  },
  "language_info": {
   "codemirror_mode": {
    "name": "ipython",
    "version": 3
   },
   "file_extension": ".py",
   "mimetype": "text/x-python",
   "name": "python",
   "nbconvert_exporter": "python",
   "pygments_lexer": "ipython3",
   "version": "3.7.6"
  }
 },
 "nbformat": 4,
 "nbformat_minor": 4
}
